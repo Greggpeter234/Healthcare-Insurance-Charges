{
 "cells": [
  {
   "cell_type": "markdown",
   "id": "bc169a4b",
   "metadata": {},
   "source": [
    "### import python libraries\n",
    "\n",
    "The script below is used to import necessary libraries for data analysis and visualization.\n",
    "It includes libraries for numerical operations, data manipulation, and plotting."
   ]
  },
  {
   "cell_type": "code",
   "execution_count": 114,
   "id": "6fa2b0ac",
   "metadata": {},
   "outputs": [],
   "source": [
    "import numpy as np\n",
    "import pandas as pd\n",
    "import matplotlib.pyplot as plt\n",
    "import seaborn as sns\n",
    "import plotly.graph_objects as go\n",
    "import os\n",
    "from zipfile import ZipFile\n",
    "import plotly.express as px\n",
    "import plotly.io as pio\n",
    "\n"
   ]
  },
  {
   "cell_type": "markdown",
   "id": "51bbaa0c",
   "metadata": {},
   "source": [
    "### Extract and load datasets from csv file into DataFrame\n",
    "This code snippet reads the csv file datasets downloaded from Kaggle"
   ]
  },
  {
   "cell_type": "code",
   "execution_count": 115,
   "id": "72579779",
   "metadata": {},
   "outputs": [],
   "source": [
    "df = pd.read_csv('datasets/insurance.csv')"
   ]
  },
  {
   "cell_type": "markdown",
   "id": "15c73475",
   "metadata": {},
   "source": [
    "### Data Exploration\n",
    "This gets the dimensions of the DataFrame "
   ]
  },
  {
   "cell_type": "code",
   "execution_count": 116,
   "id": "e26e1df4",
   "metadata": {},
   "outputs": [
    {
     "data": {
      "text/plain": [
       "(1338, 7)"
      ]
     },
     "execution_count": 116,
     "metadata": {},
     "output_type": "execute_result"
    }
   ],
   "source": [
    "\n",
    "df.shape"
   ]
  },
  {
   "cell_type": "markdown",
   "id": "804aa656",
   "metadata": {},
   "source": [
    "This is used to get the first 5 rows of the dataframe"
   ]
  },
  {
   "cell_type": "code",
   "execution_count": 117,
   "id": "7c41037c",
   "metadata": {},
   "outputs": [
    {
     "data": {
      "application/vnd.microsoft.datawrangler.viewer.v0+json": {
       "columns": [
        {
         "name": "index",
         "rawType": "int64",
         "type": "integer"
        },
        {
         "name": "age",
         "rawType": "int64",
         "type": "integer"
        },
        {
         "name": "sex",
         "rawType": "object",
         "type": "string"
        },
        {
         "name": "bmi",
         "rawType": "float64",
         "type": "float"
        },
        {
         "name": "children",
         "rawType": "int64",
         "type": "integer"
        },
        {
         "name": "smoker",
         "rawType": "object",
         "type": "string"
        },
        {
         "name": "region",
         "rawType": "object",
         "type": "string"
        },
        {
         "name": "charges",
         "rawType": "float64",
         "type": "float"
        }
       ],
       "conversionMethod": "pd.DataFrame",
       "ref": "c9232bb6-63b3-4514-92aa-512b27c07e94",
       "rows": [
        [
         "0",
         "19",
         "female",
         "27.9",
         "0",
         "yes",
         "southwest",
         "16884.924"
        ],
        [
         "1",
         "18",
         "male",
         "33.77",
         "1",
         "no",
         "southeast",
         "1725.5523"
        ],
        [
         "2",
         "28",
         "male",
         "33.0",
         "3",
         "no",
         "southeast",
         "4449.462"
        ],
        [
         "3",
         "33",
         "male",
         "22.705",
         "0",
         "no",
         "northwest",
         "21984.47061"
        ],
        [
         "4",
         "32",
         "male",
         "28.88",
         "0",
         "no",
         "northwest",
         "3866.8552"
        ]
       ],
       "shape": {
        "columns": 7,
        "rows": 5
       }
      },
      "text/html": [
       "<div>\n",
       "<style scoped>\n",
       "    .dataframe tbody tr th:only-of-type {\n",
       "        vertical-align: middle;\n",
       "    }\n",
       "\n",
       "    .dataframe tbody tr th {\n",
       "        vertical-align: top;\n",
       "    }\n",
       "\n",
       "    .dataframe thead th {\n",
       "        text-align: right;\n",
       "    }\n",
       "</style>\n",
       "<table border=\"1\" class=\"dataframe\">\n",
       "  <thead>\n",
       "    <tr style=\"text-align: right;\">\n",
       "      <th></th>\n",
       "      <th>age</th>\n",
       "      <th>sex</th>\n",
       "      <th>bmi</th>\n",
       "      <th>children</th>\n",
       "      <th>smoker</th>\n",
       "      <th>region</th>\n",
       "      <th>charges</th>\n",
       "    </tr>\n",
       "  </thead>\n",
       "  <tbody>\n",
       "    <tr>\n",
       "      <th>0</th>\n",
       "      <td>19</td>\n",
       "      <td>female</td>\n",
       "      <td>27.900</td>\n",
       "      <td>0</td>\n",
       "      <td>yes</td>\n",
       "      <td>southwest</td>\n",
       "      <td>16884.924</td>\n",
       "    </tr>\n",
       "    <tr>\n",
       "      <th>1</th>\n",
       "      <td>18</td>\n",
       "      <td>male</td>\n",
       "      <td>33.770</td>\n",
       "      <td>1</td>\n",
       "      <td>no</td>\n",
       "      <td>southeast</td>\n",
       "      <td>1725.552</td>\n",
       "    </tr>\n",
       "    <tr>\n",
       "      <th>2</th>\n",
       "      <td>28</td>\n",
       "      <td>male</td>\n",
       "      <td>33.000</td>\n",
       "      <td>3</td>\n",
       "      <td>no</td>\n",
       "      <td>southeast</td>\n",
       "      <td>4449.462</td>\n",
       "    </tr>\n",
       "    <tr>\n",
       "      <th>3</th>\n",
       "      <td>33</td>\n",
       "      <td>male</td>\n",
       "      <td>22.705</td>\n",
       "      <td>0</td>\n",
       "      <td>no</td>\n",
       "      <td>northwest</td>\n",
       "      <td>21984.471</td>\n",
       "    </tr>\n",
       "    <tr>\n",
       "      <th>4</th>\n",
       "      <td>32</td>\n",
       "      <td>male</td>\n",
       "      <td>28.880</td>\n",
       "      <td>0</td>\n",
       "      <td>no</td>\n",
       "      <td>northwest</td>\n",
       "      <td>3866.855</td>\n",
       "    </tr>\n",
       "  </tbody>\n",
       "</table>\n",
       "</div>"
      ],
      "text/plain": [
       "   age     sex    bmi  children smoker     region   charges\n",
       "0   19  female 27.900         0    yes  southwest 16884.924\n",
       "1   18    male 33.770         1     no  southeast  1725.552\n",
       "2   28    male 33.000         3     no  southeast  4449.462\n",
       "3   33    male 22.705         0     no  northwest 21984.471\n",
       "4   32    male 28.880         0     no  northwest  3866.855"
      ]
     },
     "execution_count": 117,
     "metadata": {},
     "output_type": "execute_result"
    }
   ],
   "source": [
    "df.head()"
   ]
  },
  {
   "cell_type": "markdown",
   "id": "64026068",
   "metadata": {},
   "source": [
    "Format columns with floats to 3 decimal places "
   ]
  },
  {
   "cell_type": "code",
   "execution_count": 118,
   "id": "1eefaab7",
   "metadata": {},
   "outputs": [
    {
     "data": {
      "application/vnd.microsoft.datawrangler.viewer.v0+json": {
       "columns": [
        {
         "name": "index",
         "rawType": "int64",
         "type": "integer"
        },
        {
         "name": "age",
         "rawType": "int64",
         "type": "integer"
        },
        {
         "name": "sex",
         "rawType": "object",
         "type": "string"
        },
        {
         "name": "bmi",
         "rawType": "object",
         "type": "string"
        },
        {
         "name": "children",
         "rawType": "int64",
         "type": "integer"
        },
        {
         "name": "smoker",
         "rawType": "object",
         "type": "string"
        },
        {
         "name": "region",
         "rawType": "object",
         "type": "string"
        },
        {
         "name": "charges",
         "rawType": "float64",
         "type": "float"
        }
       ],
       "conversionMethod": "pd.DataFrame",
       "ref": "beba7520-49be-45ff-90e3-669dc8c54373",
       "rows": [
        [
         "0",
         "19",
         "female",
         "27.900",
         "0",
         "yes",
         "southwest",
         "16884.924"
        ],
        [
         "1",
         "18",
         "male",
         "33.770",
         "1",
         "no",
         "southeast",
         "1725.5523"
        ],
        [
         "2",
         "28",
         "male",
         "33.000",
         "3",
         "no",
         "southeast",
         "4449.462"
        ],
        [
         "3",
         "33",
         "male",
         "22.705",
         "0",
         "no",
         "northwest",
         "21984.47061"
        ],
        [
         "4",
         "32",
         "male",
         "28.880",
         "0",
         "no",
         "northwest",
         "3866.8552"
        ]
       ],
       "shape": {
        "columns": 7,
        "rows": 5
       }
      },
      "text/html": [
       "<div>\n",
       "<style scoped>\n",
       "    .dataframe tbody tr th:only-of-type {\n",
       "        vertical-align: middle;\n",
       "    }\n",
       "\n",
       "    .dataframe tbody tr th {\n",
       "        vertical-align: top;\n",
       "    }\n",
       "\n",
       "    .dataframe thead th {\n",
       "        text-align: right;\n",
       "    }\n",
       "</style>\n",
       "<table border=\"1\" class=\"dataframe\">\n",
       "  <thead>\n",
       "    <tr style=\"text-align: right;\">\n",
       "      <th></th>\n",
       "      <th>age</th>\n",
       "      <th>sex</th>\n",
       "      <th>bmi</th>\n",
       "      <th>children</th>\n",
       "      <th>smoker</th>\n",
       "      <th>region</th>\n",
       "      <th>charges</th>\n",
       "    </tr>\n",
       "  </thead>\n",
       "  <tbody>\n",
       "    <tr>\n",
       "      <th>0</th>\n",
       "      <td>19</td>\n",
       "      <td>female</td>\n",
       "      <td>27.900</td>\n",
       "      <td>0</td>\n",
       "      <td>yes</td>\n",
       "      <td>southwest</td>\n",
       "      <td>16884.924</td>\n",
       "    </tr>\n",
       "    <tr>\n",
       "      <th>1</th>\n",
       "      <td>18</td>\n",
       "      <td>male</td>\n",
       "      <td>33.770</td>\n",
       "      <td>1</td>\n",
       "      <td>no</td>\n",
       "      <td>southeast</td>\n",
       "      <td>1725.552</td>\n",
       "    </tr>\n",
       "    <tr>\n",
       "      <th>2</th>\n",
       "      <td>28</td>\n",
       "      <td>male</td>\n",
       "      <td>33.000</td>\n",
       "      <td>3</td>\n",
       "      <td>no</td>\n",
       "      <td>southeast</td>\n",
       "      <td>4449.462</td>\n",
       "    </tr>\n",
       "    <tr>\n",
       "      <th>3</th>\n",
       "      <td>33</td>\n",
       "      <td>male</td>\n",
       "      <td>22.705</td>\n",
       "      <td>0</td>\n",
       "      <td>no</td>\n",
       "      <td>northwest</td>\n",
       "      <td>21984.471</td>\n",
       "    </tr>\n",
       "    <tr>\n",
       "      <th>4</th>\n",
       "      <td>32</td>\n",
       "      <td>male</td>\n",
       "      <td>28.880</td>\n",
       "      <td>0</td>\n",
       "      <td>no</td>\n",
       "      <td>northwest</td>\n",
       "      <td>3866.855</td>\n",
       "    </tr>\n",
       "  </tbody>\n",
       "</table>\n",
       "</div>"
      ],
      "text/plain": [
       "   age     sex     bmi  children smoker     region   charges\n",
       "0   19  female  27.900         0    yes  southwest 16884.924\n",
       "1   18    male  33.770         1     no  southeast  1725.552\n",
       "2   28    male  33.000         3     no  southeast  4449.462\n",
       "3   33    male  22.705         0     no  northwest 21984.471\n",
       "4   32    male  28.880         0     no  northwest  3866.855"
      ]
     },
     "execution_count": 118,
     "metadata": {},
     "output_type": "execute_result"
    }
   ],
   "source": [
    "pd.set_option('display.float_format', '{:.3f}'.format)\n",
    "df.head()\n",
    "df['bmi'] = df['bmi'].map('{:.3f}'.format)\n",
    "df.head()"
   ]
  },
  {
   "cell_type": "markdown",
   "id": "552c6e97",
   "metadata": {},
   "source": [
    "This is used to get the summary information of the datasets"
   ]
  },
  {
   "cell_type": "code",
   "execution_count": 119,
   "id": "876395de",
   "metadata": {},
   "outputs": [
    {
     "name": "stdout",
     "output_type": "stream",
     "text": [
      "<class 'pandas.core.frame.DataFrame'>\n",
      "RangeIndex: 1338 entries, 0 to 1337\n",
      "Data columns (total 7 columns):\n",
      " #   Column    Non-Null Count  Dtype  \n",
      "---  ------    --------------  -----  \n",
      " 0   age       1338 non-null   int64  \n",
      " 1   sex       1338 non-null   object \n",
      " 2   bmi       1338 non-null   object \n",
      " 3   children  1338 non-null   int64  \n",
      " 4   smoker    1338 non-null   object \n",
      " 5   region    1338 non-null   object \n",
      " 6   charges   1338 non-null   float64\n",
      "dtypes: float64(1), int64(2), object(4)\n",
      "memory usage: 73.3+ KB\n"
     ]
    }
   ],
   "source": [
    "df.info()"
   ]
  },
  {
   "cell_type": "markdown",
   "id": "6adbeac9",
   "metadata": {},
   "source": [
    "This shows the entire columns in the DataFrame totalling 7 columns."
   ]
  },
  {
   "cell_type": "code",
   "execution_count": 120,
   "id": "240483c2",
   "metadata": {},
   "outputs": [
    {
     "data": {
      "text/plain": [
       "Index(['age', 'sex', 'bmi', 'children', 'smoker', 'region', 'charges'], dtype='object')"
      ]
     },
     "execution_count": 120,
     "metadata": {},
     "output_type": "execute_result"
    }
   ],
   "source": [
    "df.columns"
   ]
  },
  {
   "cell_type": "markdown",
   "id": "0875bb29",
   "metadata": {},
   "source": [
    "This returns the index (row labels) of the DataFrame"
   ]
  },
  {
   "cell_type": "code",
   "execution_count": 121,
   "id": "4736c27c",
   "metadata": {},
   "outputs": [
    {
     "data": {
      "text/plain": [
       "RangeIndex(start=0, stop=1338, step=1)"
      ]
     },
     "execution_count": 121,
     "metadata": {},
     "output_type": "execute_result"
    }
   ],
   "source": [
    "df.index"
   ]
  },
  {
   "cell_type": "markdown",
   "id": "1e935b19",
   "metadata": {},
   "source": [
    "This returns the last 5 rows of the DataFrame by default"
   ]
  },
  {
   "cell_type": "code",
   "execution_count": 122,
   "id": "2e72e8a9",
   "metadata": {},
   "outputs": [
    {
     "data": {
      "application/vnd.microsoft.datawrangler.viewer.v0+json": {
       "columns": [
        {
         "name": "index",
         "rawType": "int64",
         "type": "integer"
        },
        {
         "name": "age",
         "rawType": "int64",
         "type": "integer"
        },
        {
         "name": "sex",
         "rawType": "object",
         "type": "string"
        },
        {
         "name": "bmi",
         "rawType": "object",
         "type": "string"
        },
        {
         "name": "children",
         "rawType": "int64",
         "type": "integer"
        },
        {
         "name": "smoker",
         "rawType": "object",
         "type": "string"
        },
        {
         "name": "region",
         "rawType": "object",
         "type": "string"
        },
        {
         "name": "charges",
         "rawType": "float64",
         "type": "float"
        }
       ],
       "conversionMethod": "pd.DataFrame",
       "ref": "65153644-2980-4485-9a84-e1332d9b540e",
       "rows": [
        [
         "1333",
         "50",
         "male",
         "30.970",
         "3",
         "no",
         "northwest",
         "10600.5483"
        ],
        [
         "1334",
         "18",
         "female",
         "31.920",
         "0",
         "no",
         "northeast",
         "2205.9808"
        ],
        [
         "1335",
         "18",
         "female",
         "36.850",
         "0",
         "no",
         "southeast",
         "1629.8335"
        ],
        [
         "1336",
         "21",
         "female",
         "25.800",
         "0",
         "no",
         "southwest",
         "2007.945"
        ],
        [
         "1337",
         "61",
         "female",
         "29.070",
         "0",
         "yes",
         "northwest",
         "29141.3603"
        ]
       ],
       "shape": {
        "columns": 7,
        "rows": 5
       }
      },
      "text/html": [
       "<div>\n",
       "<style scoped>\n",
       "    .dataframe tbody tr th:only-of-type {\n",
       "        vertical-align: middle;\n",
       "    }\n",
       "\n",
       "    .dataframe tbody tr th {\n",
       "        vertical-align: top;\n",
       "    }\n",
       "\n",
       "    .dataframe thead th {\n",
       "        text-align: right;\n",
       "    }\n",
       "</style>\n",
       "<table border=\"1\" class=\"dataframe\">\n",
       "  <thead>\n",
       "    <tr style=\"text-align: right;\">\n",
       "      <th></th>\n",
       "      <th>age</th>\n",
       "      <th>sex</th>\n",
       "      <th>bmi</th>\n",
       "      <th>children</th>\n",
       "      <th>smoker</th>\n",
       "      <th>region</th>\n",
       "      <th>charges</th>\n",
       "    </tr>\n",
       "  </thead>\n",
       "  <tbody>\n",
       "    <tr>\n",
       "      <th>1333</th>\n",
       "      <td>50</td>\n",
       "      <td>male</td>\n",
       "      <td>30.970</td>\n",
       "      <td>3</td>\n",
       "      <td>no</td>\n",
       "      <td>northwest</td>\n",
       "      <td>10600.548</td>\n",
       "    </tr>\n",
       "    <tr>\n",
       "      <th>1334</th>\n",
       "      <td>18</td>\n",
       "      <td>female</td>\n",
       "      <td>31.920</td>\n",
       "      <td>0</td>\n",
       "      <td>no</td>\n",
       "      <td>northeast</td>\n",
       "      <td>2205.981</td>\n",
       "    </tr>\n",
       "    <tr>\n",
       "      <th>1335</th>\n",
       "      <td>18</td>\n",
       "      <td>female</td>\n",
       "      <td>36.850</td>\n",
       "      <td>0</td>\n",
       "      <td>no</td>\n",
       "      <td>southeast</td>\n",
       "      <td>1629.833</td>\n",
       "    </tr>\n",
       "    <tr>\n",
       "      <th>1336</th>\n",
       "      <td>21</td>\n",
       "      <td>female</td>\n",
       "      <td>25.800</td>\n",
       "      <td>0</td>\n",
       "      <td>no</td>\n",
       "      <td>southwest</td>\n",
       "      <td>2007.945</td>\n",
       "    </tr>\n",
       "    <tr>\n",
       "      <th>1337</th>\n",
       "      <td>61</td>\n",
       "      <td>female</td>\n",
       "      <td>29.070</td>\n",
       "      <td>0</td>\n",
       "      <td>yes</td>\n",
       "      <td>northwest</td>\n",
       "      <td>29141.360</td>\n",
       "    </tr>\n",
       "  </tbody>\n",
       "</table>\n",
       "</div>"
      ],
      "text/plain": [
       "      age     sex     bmi  children smoker     region   charges\n",
       "1333   50    male  30.970         3     no  northwest 10600.548\n",
       "1334   18  female  31.920         0     no  northeast  2205.981\n",
       "1335   18  female  36.850         0     no  southeast  1629.833\n",
       "1336   21  female  25.800         0     no  southwest  2007.945\n",
       "1337   61  female  29.070         0    yes  northwest 29141.360"
      ]
     },
     "execution_count": 122,
     "metadata": {},
     "output_type": "execute_result"
    }
   ],
   "source": [
    "df.tail()"
   ]
  },
  {
   "cell_type": "markdown",
   "id": "bf689c13",
   "metadata": {},
   "source": [
    "This checks for missing values in the DataFrame and returns result as true if there are missing values\n",
    "* There are no missing values as it stands"
   ]
  },
  {
   "cell_type": "code",
   "execution_count": 123,
   "id": "bbbe7d38",
   "metadata": {},
   "outputs": [
    {
     "data": {
      "application/vnd.microsoft.datawrangler.viewer.v0+json": {
       "columns": [
        {
         "name": "index",
         "rawType": "int64",
         "type": "integer"
        },
        {
         "name": "age",
         "rawType": "bool",
         "type": "boolean"
        },
        {
         "name": "sex",
         "rawType": "bool",
         "type": "boolean"
        },
        {
         "name": "bmi",
         "rawType": "bool",
         "type": "boolean"
        },
        {
         "name": "children",
         "rawType": "bool",
         "type": "boolean"
        },
        {
         "name": "smoker",
         "rawType": "bool",
         "type": "boolean"
        },
        {
         "name": "region",
         "rawType": "bool",
         "type": "boolean"
        },
        {
         "name": "charges",
         "rawType": "bool",
         "type": "boolean"
        }
       ],
       "conversionMethod": "pd.DataFrame",
       "ref": "eef05f63-aca7-4ecc-9a52-e8f82ee0bde2",
       "rows": [
        [
         "0",
         "False",
         "False",
         "False",
         "False",
         "False",
         "False",
         "False"
        ],
        [
         "1",
         "False",
         "False",
         "False",
         "False",
         "False",
         "False",
         "False"
        ],
        [
         "2",
         "False",
         "False",
         "False",
         "False",
         "False",
         "False",
         "False"
        ],
        [
         "3",
         "False",
         "False",
         "False",
         "False",
         "False",
         "False",
         "False"
        ],
        [
         "4",
         "False",
         "False",
         "False",
         "False",
         "False",
         "False",
         "False"
        ],
        [
         "5",
         "False",
         "False",
         "False",
         "False",
         "False",
         "False",
         "False"
        ],
        [
         "6",
         "False",
         "False",
         "False",
         "False",
         "False",
         "False",
         "False"
        ],
        [
         "7",
         "False",
         "False",
         "False",
         "False",
         "False",
         "False",
         "False"
        ],
        [
         "8",
         "False",
         "False",
         "False",
         "False",
         "False",
         "False",
         "False"
        ],
        [
         "9",
         "False",
         "False",
         "False",
         "False",
         "False",
         "False",
         "False"
        ],
        [
         "10",
         "False",
         "False",
         "False",
         "False",
         "False",
         "False",
         "False"
        ],
        [
         "11",
         "False",
         "False",
         "False",
         "False",
         "False",
         "False",
         "False"
        ],
        [
         "12",
         "False",
         "False",
         "False",
         "False",
         "False",
         "False",
         "False"
        ],
        [
         "13",
         "False",
         "False",
         "False",
         "False",
         "False",
         "False",
         "False"
        ],
        [
         "14",
         "False",
         "False",
         "False",
         "False",
         "False",
         "False",
         "False"
        ],
        [
         "15",
         "False",
         "False",
         "False",
         "False",
         "False",
         "False",
         "False"
        ],
        [
         "16",
         "False",
         "False",
         "False",
         "False",
         "False",
         "False",
         "False"
        ],
        [
         "17",
         "False",
         "False",
         "False",
         "False",
         "False",
         "False",
         "False"
        ],
        [
         "18",
         "False",
         "False",
         "False",
         "False",
         "False",
         "False",
         "False"
        ],
        [
         "19",
         "False",
         "False",
         "False",
         "False",
         "False",
         "False",
         "False"
        ],
        [
         "20",
         "False",
         "False",
         "False",
         "False",
         "False",
         "False",
         "False"
        ],
        [
         "21",
         "False",
         "False",
         "False",
         "False",
         "False",
         "False",
         "False"
        ],
        [
         "22",
         "False",
         "False",
         "False",
         "False",
         "False",
         "False",
         "False"
        ],
        [
         "23",
         "False",
         "False",
         "False",
         "False",
         "False",
         "False",
         "False"
        ],
        [
         "24",
         "False",
         "False",
         "False",
         "False",
         "False",
         "False",
         "False"
        ],
        [
         "25",
         "False",
         "False",
         "False",
         "False",
         "False",
         "False",
         "False"
        ],
        [
         "26",
         "False",
         "False",
         "False",
         "False",
         "False",
         "False",
         "False"
        ],
        [
         "27",
         "False",
         "False",
         "False",
         "False",
         "False",
         "False",
         "False"
        ],
        [
         "28",
         "False",
         "False",
         "False",
         "False",
         "False",
         "False",
         "False"
        ],
        [
         "29",
         "False",
         "False",
         "False",
         "False",
         "False",
         "False",
         "False"
        ],
        [
         "30",
         "False",
         "False",
         "False",
         "False",
         "False",
         "False",
         "False"
        ],
        [
         "31",
         "False",
         "False",
         "False",
         "False",
         "False",
         "False",
         "False"
        ],
        [
         "32",
         "False",
         "False",
         "False",
         "False",
         "False",
         "False",
         "False"
        ],
        [
         "33",
         "False",
         "False",
         "False",
         "False",
         "False",
         "False",
         "False"
        ],
        [
         "34",
         "False",
         "False",
         "False",
         "False",
         "False",
         "False",
         "False"
        ],
        [
         "35",
         "False",
         "False",
         "False",
         "False",
         "False",
         "False",
         "False"
        ],
        [
         "36",
         "False",
         "False",
         "False",
         "False",
         "False",
         "False",
         "False"
        ],
        [
         "37",
         "False",
         "False",
         "False",
         "False",
         "False",
         "False",
         "False"
        ],
        [
         "38",
         "False",
         "False",
         "False",
         "False",
         "False",
         "False",
         "False"
        ],
        [
         "39",
         "False",
         "False",
         "False",
         "False",
         "False",
         "False",
         "False"
        ],
        [
         "40",
         "False",
         "False",
         "False",
         "False",
         "False",
         "False",
         "False"
        ],
        [
         "41",
         "False",
         "False",
         "False",
         "False",
         "False",
         "False",
         "False"
        ],
        [
         "42",
         "False",
         "False",
         "False",
         "False",
         "False",
         "False",
         "False"
        ],
        [
         "43",
         "False",
         "False",
         "False",
         "False",
         "False",
         "False",
         "False"
        ],
        [
         "44",
         "False",
         "False",
         "False",
         "False",
         "False",
         "False",
         "False"
        ],
        [
         "45",
         "False",
         "False",
         "False",
         "False",
         "False",
         "False",
         "False"
        ],
        [
         "46",
         "False",
         "False",
         "False",
         "False",
         "False",
         "False",
         "False"
        ],
        [
         "47",
         "False",
         "False",
         "False",
         "False",
         "False",
         "False",
         "False"
        ],
        [
         "48",
         "False",
         "False",
         "False",
         "False",
         "False",
         "False",
         "False"
        ],
        [
         "49",
         "False",
         "False",
         "False",
         "False",
         "False",
         "False",
         "False"
        ]
       ],
       "shape": {
        "columns": 7,
        "rows": 1338
       }
      },
      "text/html": [
       "<div>\n",
       "<style scoped>\n",
       "    .dataframe tbody tr th:only-of-type {\n",
       "        vertical-align: middle;\n",
       "    }\n",
       "\n",
       "    .dataframe tbody tr th {\n",
       "        vertical-align: top;\n",
       "    }\n",
       "\n",
       "    .dataframe thead th {\n",
       "        text-align: right;\n",
       "    }\n",
       "</style>\n",
       "<table border=\"1\" class=\"dataframe\">\n",
       "  <thead>\n",
       "    <tr style=\"text-align: right;\">\n",
       "      <th></th>\n",
       "      <th>age</th>\n",
       "      <th>sex</th>\n",
       "      <th>bmi</th>\n",
       "      <th>children</th>\n",
       "      <th>smoker</th>\n",
       "      <th>region</th>\n",
       "      <th>charges</th>\n",
       "    </tr>\n",
       "  </thead>\n",
       "  <tbody>\n",
       "    <tr>\n",
       "      <th>0</th>\n",
       "      <td>False</td>\n",
       "      <td>False</td>\n",
       "      <td>False</td>\n",
       "      <td>False</td>\n",
       "      <td>False</td>\n",
       "      <td>False</td>\n",
       "      <td>False</td>\n",
       "    </tr>\n",
       "    <tr>\n",
       "      <th>1</th>\n",
       "      <td>False</td>\n",
       "      <td>False</td>\n",
       "      <td>False</td>\n",
       "      <td>False</td>\n",
       "      <td>False</td>\n",
       "      <td>False</td>\n",
       "      <td>False</td>\n",
       "    </tr>\n",
       "    <tr>\n",
       "      <th>2</th>\n",
       "      <td>False</td>\n",
       "      <td>False</td>\n",
       "      <td>False</td>\n",
       "      <td>False</td>\n",
       "      <td>False</td>\n",
       "      <td>False</td>\n",
       "      <td>False</td>\n",
       "    </tr>\n",
       "    <tr>\n",
       "      <th>3</th>\n",
       "      <td>False</td>\n",
       "      <td>False</td>\n",
       "      <td>False</td>\n",
       "      <td>False</td>\n",
       "      <td>False</td>\n",
       "      <td>False</td>\n",
       "      <td>False</td>\n",
       "    </tr>\n",
       "    <tr>\n",
       "      <th>4</th>\n",
       "      <td>False</td>\n",
       "      <td>False</td>\n",
       "      <td>False</td>\n",
       "      <td>False</td>\n",
       "      <td>False</td>\n",
       "      <td>False</td>\n",
       "      <td>False</td>\n",
       "    </tr>\n",
       "    <tr>\n",
       "      <th>...</th>\n",
       "      <td>...</td>\n",
       "      <td>...</td>\n",
       "      <td>...</td>\n",
       "      <td>...</td>\n",
       "      <td>...</td>\n",
       "      <td>...</td>\n",
       "      <td>...</td>\n",
       "    </tr>\n",
       "    <tr>\n",
       "      <th>1333</th>\n",
       "      <td>False</td>\n",
       "      <td>False</td>\n",
       "      <td>False</td>\n",
       "      <td>False</td>\n",
       "      <td>False</td>\n",
       "      <td>False</td>\n",
       "      <td>False</td>\n",
       "    </tr>\n",
       "    <tr>\n",
       "      <th>1334</th>\n",
       "      <td>False</td>\n",
       "      <td>False</td>\n",
       "      <td>False</td>\n",
       "      <td>False</td>\n",
       "      <td>False</td>\n",
       "      <td>False</td>\n",
       "      <td>False</td>\n",
       "    </tr>\n",
       "    <tr>\n",
       "      <th>1335</th>\n",
       "      <td>False</td>\n",
       "      <td>False</td>\n",
       "      <td>False</td>\n",
       "      <td>False</td>\n",
       "      <td>False</td>\n",
       "      <td>False</td>\n",
       "      <td>False</td>\n",
       "    </tr>\n",
       "    <tr>\n",
       "      <th>1336</th>\n",
       "      <td>False</td>\n",
       "      <td>False</td>\n",
       "      <td>False</td>\n",
       "      <td>False</td>\n",
       "      <td>False</td>\n",
       "      <td>False</td>\n",
       "      <td>False</td>\n",
       "    </tr>\n",
       "    <tr>\n",
       "      <th>1337</th>\n",
       "      <td>False</td>\n",
       "      <td>False</td>\n",
       "      <td>False</td>\n",
       "      <td>False</td>\n",
       "      <td>False</td>\n",
       "      <td>False</td>\n",
       "      <td>False</td>\n",
       "    </tr>\n",
       "  </tbody>\n",
       "</table>\n",
       "<p>1338 rows × 7 columns</p>\n",
       "</div>"
      ],
      "text/plain": [
       "        age    sex    bmi  children  smoker  region  charges\n",
       "0     False  False  False     False   False   False    False\n",
       "1     False  False  False     False   False   False    False\n",
       "2     False  False  False     False   False   False    False\n",
       "3     False  False  False     False   False   False    False\n",
       "4     False  False  False     False   False   False    False\n",
       "...     ...    ...    ...       ...     ...     ...      ...\n",
       "1333  False  False  False     False   False   False    False\n",
       "1334  False  False  False     False   False   False    False\n",
       "1335  False  False  False     False   False   False    False\n",
       "1336  False  False  False     False   False   False    False\n",
       "1337  False  False  False     False   False   False    False\n",
       "\n",
       "[1338 rows x 7 columns]"
      ]
     },
     "execution_count": 123,
     "metadata": {},
     "output_type": "execute_result"
    }
   ],
   "source": [
    "df.isnull()"
   ]
  },
  {
   "cell_type": "markdown",
   "id": "5bd110a5",
   "metadata": {},
   "source": [
    "This is a summary of the result when missing values check is done by .isnull() function"
   ]
  },
  {
   "cell_type": "code",
   "execution_count": 124,
   "id": "860a9f71",
   "metadata": {},
   "outputs": [
    {
     "data": {
      "text/plain": [
       "age         0\n",
       "sex         0\n",
       "bmi         0\n",
       "children    0\n",
       "smoker      0\n",
       "region      0\n",
       "charges     0\n",
       "dtype: int64"
      ]
     },
     "execution_count": 124,
     "metadata": {},
     "output_type": "execute_result"
    }
   ],
   "source": [
    "df.isnull().sum()"
   ]
  },
  {
   "cell_type": "markdown",
   "id": "4ff00c88",
   "metadata": {},
   "source": [
    "This illustrates the summary descriptive statistics of the DataFrame "
   ]
  },
  {
   "cell_type": "code",
   "execution_count": 125,
   "id": "1c9e3880",
   "metadata": {},
   "outputs": [
    {
     "data": {
      "application/vnd.microsoft.datawrangler.viewer.v0+json": {
       "columns": [
        {
         "name": "index",
         "rawType": "object",
         "type": "string"
        },
        {
         "name": "age",
         "rawType": "float64",
         "type": "float"
        },
        {
         "name": "children",
         "rawType": "float64",
         "type": "float"
        },
        {
         "name": "charges",
         "rawType": "float64",
         "type": "float"
        }
       ],
       "conversionMethod": "pd.DataFrame",
       "ref": "254131f7-79a7-44f1-9b34-e4af67ff211f",
       "rows": [
        [
         "count",
         "1338.0",
         "1338.0",
         "1338.0"
        ],
        [
         "mean",
         "39.20702541106129",
         "1.0949177877429",
         "13270.422265141257"
        ],
        [
         "std",
         "14.049960379216154",
         "1.205492739781914",
         "12110.011236694001"
        ],
        [
         "min",
         "18.0",
         "0.0",
         "1121.8739"
        ],
        [
         "25%",
         "27.0",
         "0.0",
         "4740.28715"
        ],
        [
         "50%",
         "39.0",
         "1.0",
         "9382.033"
        ],
        [
         "75%",
         "51.0",
         "2.0",
         "16639.912515"
        ],
        [
         "max",
         "64.0",
         "5.0",
         "63770.42801"
        ]
       ],
       "shape": {
        "columns": 3,
        "rows": 8
       }
      },
      "text/html": [
       "<div>\n",
       "<style scoped>\n",
       "    .dataframe tbody tr th:only-of-type {\n",
       "        vertical-align: middle;\n",
       "    }\n",
       "\n",
       "    .dataframe tbody tr th {\n",
       "        vertical-align: top;\n",
       "    }\n",
       "\n",
       "    .dataframe thead th {\n",
       "        text-align: right;\n",
       "    }\n",
       "</style>\n",
       "<table border=\"1\" class=\"dataframe\">\n",
       "  <thead>\n",
       "    <tr style=\"text-align: right;\">\n",
       "      <th></th>\n",
       "      <th>age</th>\n",
       "      <th>children</th>\n",
       "      <th>charges</th>\n",
       "    </tr>\n",
       "  </thead>\n",
       "  <tbody>\n",
       "    <tr>\n",
       "      <th>count</th>\n",
       "      <td>1338.000</td>\n",
       "      <td>1338.000</td>\n",
       "      <td>1338.000</td>\n",
       "    </tr>\n",
       "    <tr>\n",
       "      <th>mean</th>\n",
       "      <td>39.207</td>\n",
       "      <td>1.095</td>\n",
       "      <td>13270.422</td>\n",
       "    </tr>\n",
       "    <tr>\n",
       "      <th>std</th>\n",
       "      <td>14.050</td>\n",
       "      <td>1.205</td>\n",
       "      <td>12110.011</td>\n",
       "    </tr>\n",
       "    <tr>\n",
       "      <th>min</th>\n",
       "      <td>18.000</td>\n",
       "      <td>0.000</td>\n",
       "      <td>1121.874</td>\n",
       "    </tr>\n",
       "    <tr>\n",
       "      <th>25%</th>\n",
       "      <td>27.000</td>\n",
       "      <td>0.000</td>\n",
       "      <td>4740.287</td>\n",
       "    </tr>\n",
       "    <tr>\n",
       "      <th>50%</th>\n",
       "      <td>39.000</td>\n",
       "      <td>1.000</td>\n",
       "      <td>9382.033</td>\n",
       "    </tr>\n",
       "    <tr>\n",
       "      <th>75%</th>\n",
       "      <td>51.000</td>\n",
       "      <td>2.000</td>\n",
       "      <td>16639.913</td>\n",
       "    </tr>\n",
       "    <tr>\n",
       "      <th>max</th>\n",
       "      <td>64.000</td>\n",
       "      <td>5.000</td>\n",
       "      <td>63770.428</td>\n",
       "    </tr>\n",
       "  </tbody>\n",
       "</table>\n",
       "</div>"
      ],
      "text/plain": [
       "           age  children   charges\n",
       "count 1338.000  1338.000  1338.000\n",
       "mean    39.207     1.095 13270.422\n",
       "std     14.050     1.205 12110.011\n",
       "min     18.000     0.000  1121.874\n",
       "25%     27.000     0.000  4740.287\n",
       "50%     39.000     1.000  9382.033\n",
       "75%     51.000     2.000 16639.913\n",
       "max     64.000     5.000 63770.428"
      ]
     },
     "execution_count": 125,
     "metadata": {},
     "output_type": "execute_result"
    }
   ],
   "source": [
    "df.describe()"
   ]
  },
  {
   "cell_type": "markdown",
   "id": "792297ad",
   "metadata": {},
   "source": [
    "This checks for duplicated values in the columns and returns boolean True if there are and in this case, there are no duplicated values but this only displays the first 5 and last rows and i would have to run a .sum() to get a bigger picture"
   ]
  },
  {
   "cell_type": "code",
   "execution_count": 126,
   "id": "d9658b7c",
   "metadata": {},
   "outputs": [
    {
     "data": {
      "text/plain": [
       "0       False\n",
       "1       False\n",
       "2       False\n",
       "3       False\n",
       "4       False\n",
       "        ...  \n",
       "1333    False\n",
       "1334    False\n",
       "1335    False\n",
       "1336    False\n",
       "1337    False\n",
       "Length: 1338, dtype: bool"
      ]
     },
     "execution_count": 126,
     "metadata": {},
     "output_type": "execute_result"
    }
   ],
   "source": [
    "df.duplicated()"
   ]
  },
  {
   "cell_type": "markdown",
   "id": "ec9c08b4",
   "metadata": {},
   "source": [
    "This check is done to give a summary of duplicated values if there are any and in this case, there is 1 duplicated value"
   ]
  },
  {
   "cell_type": "code",
   "execution_count": 127,
   "id": "f5367072",
   "metadata": {},
   "outputs": [
    {
     "data": {
      "text/plain": [
       "1"
      ]
     },
     "execution_count": 127,
     "metadata": {},
     "output_type": "execute_result"
    }
   ],
   "source": [
    "df.duplicated().sum()"
   ]
  },
  {
   "cell_type": "markdown",
   "id": "d3f8b6f9",
   "metadata": {},
   "source": [
    "### Data Cleaning"
   ]
  },
  {
   "cell_type": "markdown",
   "id": "3953f6d4",
   "metadata": {},
   "source": [
    "drop duplicate values and recheck for duplicate value"
   ]
  },
  {
   "cell_type": "code",
   "execution_count": 128,
   "id": "3ec3a548",
   "metadata": {},
   "outputs": [
    {
     "data": {
      "text/plain": [
       "0"
      ]
     },
     "execution_count": 128,
     "metadata": {},
     "output_type": "execute_result"
    }
   ],
   "source": [
    "df = df.drop_duplicates()\n",
    "df.duplicated().sum()"
   ]
  },
  {
   "cell_type": "markdown",
   "id": "16f7d8c1",
   "metadata": {},
   "source": [
    "### Normalise Data Types"
   ]
  },
  {
   "cell_type": "markdown",
   "id": "d98b4690",
   "metadata": {},
   "source": [
    "Encode categorical variables  using pandas get_dummies"
   ]
  },
  {
   "cell_type": "code",
   "execution_count": 129,
   "id": "7051c1d6",
   "metadata": {},
   "outputs": [
    {
     "data": {
      "application/vnd.microsoft.datawrangler.viewer.v0+json": {
       "columns": [
        {
         "name": "index",
         "rawType": "int64",
         "type": "integer"
        },
        {
         "name": "age",
         "rawType": "int64",
         "type": "integer"
        },
        {
         "name": "bmi",
         "rawType": "object",
         "type": "string"
        },
        {
         "name": "children",
         "rawType": "int64",
         "type": "integer"
        },
        {
         "name": "charges",
         "rawType": "float64",
         "type": "float"
        },
        {
         "name": "sex_male",
         "rawType": "bool",
         "type": "boolean"
        },
        {
         "name": "smoker_yes",
         "rawType": "bool",
         "type": "boolean"
        },
        {
         "name": "region_northwest",
         "rawType": "bool",
         "type": "boolean"
        },
        {
         "name": "region_southeast",
         "rawType": "bool",
         "type": "boolean"
        },
        {
         "name": "region_southwest",
         "rawType": "bool",
         "type": "boolean"
        }
       ],
       "conversionMethod": "pd.DataFrame",
       "ref": "42b70750-94f9-4796-a2a1-4df7d7ef01f2",
       "rows": [
        [
         "0",
         "19",
         "27.900",
         "0",
         "16884.924",
         "False",
         "True",
         "False",
         "False",
         "True"
        ],
        [
         "1",
         "18",
         "33.770",
         "1",
         "1725.5523",
         "True",
         "False",
         "False",
         "True",
         "False"
        ],
        [
         "2",
         "28",
         "33.000",
         "3",
         "4449.462",
         "True",
         "False",
         "False",
         "True",
         "False"
        ],
        [
         "3",
         "33",
         "22.705",
         "0",
         "21984.47061",
         "True",
         "False",
         "True",
         "False",
         "False"
        ],
        [
         "4",
         "32",
         "28.880",
         "0",
         "3866.8552",
         "True",
         "False",
         "True",
         "False",
         "False"
        ]
       ],
       "shape": {
        "columns": 9,
        "rows": 5
       }
      },
      "text/html": [
       "<div>\n",
       "<style scoped>\n",
       "    .dataframe tbody tr th:only-of-type {\n",
       "        vertical-align: middle;\n",
       "    }\n",
       "\n",
       "    .dataframe tbody tr th {\n",
       "        vertical-align: top;\n",
       "    }\n",
       "\n",
       "    .dataframe thead th {\n",
       "        text-align: right;\n",
       "    }\n",
       "</style>\n",
       "<table border=\"1\" class=\"dataframe\">\n",
       "  <thead>\n",
       "    <tr style=\"text-align: right;\">\n",
       "      <th></th>\n",
       "      <th>age</th>\n",
       "      <th>bmi</th>\n",
       "      <th>children</th>\n",
       "      <th>charges</th>\n",
       "      <th>sex_male</th>\n",
       "      <th>smoker_yes</th>\n",
       "      <th>region_northwest</th>\n",
       "      <th>region_southeast</th>\n",
       "      <th>region_southwest</th>\n",
       "    </tr>\n",
       "  </thead>\n",
       "  <tbody>\n",
       "    <tr>\n",
       "      <th>0</th>\n",
       "      <td>19</td>\n",
       "      <td>27.900</td>\n",
       "      <td>0</td>\n",
       "      <td>16884.924</td>\n",
       "      <td>False</td>\n",
       "      <td>True</td>\n",
       "      <td>False</td>\n",
       "      <td>False</td>\n",
       "      <td>True</td>\n",
       "    </tr>\n",
       "    <tr>\n",
       "      <th>1</th>\n",
       "      <td>18</td>\n",
       "      <td>33.770</td>\n",
       "      <td>1</td>\n",
       "      <td>1725.552</td>\n",
       "      <td>True</td>\n",
       "      <td>False</td>\n",
       "      <td>False</td>\n",
       "      <td>True</td>\n",
       "      <td>False</td>\n",
       "    </tr>\n",
       "    <tr>\n",
       "      <th>2</th>\n",
       "      <td>28</td>\n",
       "      <td>33.000</td>\n",
       "      <td>3</td>\n",
       "      <td>4449.462</td>\n",
       "      <td>True</td>\n",
       "      <td>False</td>\n",
       "      <td>False</td>\n",
       "      <td>True</td>\n",
       "      <td>False</td>\n",
       "    </tr>\n",
       "    <tr>\n",
       "      <th>3</th>\n",
       "      <td>33</td>\n",
       "      <td>22.705</td>\n",
       "      <td>0</td>\n",
       "      <td>21984.471</td>\n",
       "      <td>True</td>\n",
       "      <td>False</td>\n",
       "      <td>True</td>\n",
       "      <td>False</td>\n",
       "      <td>False</td>\n",
       "    </tr>\n",
       "    <tr>\n",
       "      <th>4</th>\n",
       "      <td>32</td>\n",
       "      <td>28.880</td>\n",
       "      <td>0</td>\n",
       "      <td>3866.855</td>\n",
       "      <td>True</td>\n",
       "      <td>False</td>\n",
       "      <td>True</td>\n",
       "      <td>False</td>\n",
       "      <td>False</td>\n",
       "    </tr>\n",
       "  </tbody>\n",
       "</table>\n",
       "</div>"
      ],
      "text/plain": [
       "   age     bmi  children   charges  sex_male  smoker_yes  region_northwest  \\\n",
       "0   19  27.900         0 16884.924     False        True             False   \n",
       "1   18  33.770         1  1725.552      True       False             False   \n",
       "2   28  33.000         3  4449.462      True       False             False   \n",
       "3   33  22.705         0 21984.471      True       False              True   \n",
       "4   32  28.880         0  3866.855      True       False              True   \n",
       "\n",
       "   region_southeast  region_southwest  \n",
       "0             False              True  \n",
       "1              True             False  \n",
       "2              True             False  \n",
       "3             False             False  \n",
       "4             False             False  "
      ]
     },
     "execution_count": 129,
     "metadata": {},
     "output_type": "execute_result"
    }
   ],
   "source": [
    "df_encoded = pd.get_dummies(df, columns=['sex', 'smoker', 'region'], drop_first=True)\n",
    "df_encoded.head()"
   ]
  },
  {
   "cell_type": "code",
   "execution_count": 130,
   "id": "d8f9e26e",
   "metadata": {},
   "outputs": [
    {
     "data": {
      "application/vnd.microsoft.datawrangler.viewer.v0+json": {
       "columns": [
        {
         "name": "index",
         "rawType": "int64",
         "type": "integer"
        },
        {
         "name": "age",
         "rawType": "int64",
         "type": "integer"
        },
        {
         "name": "sex",
         "rawType": "object",
         "type": "string"
        },
        {
         "name": "bmi",
         "rawType": "object",
         "type": "string"
        },
        {
         "name": "children",
         "rawType": "int64",
         "type": "integer"
        },
        {
         "name": "smoker",
         "rawType": "object",
         "type": "string"
        },
        {
         "name": "region",
         "rawType": "object",
         "type": "string"
        },
        {
         "name": "charges",
         "rawType": "float64",
         "type": "float"
        },
        {
         "name": "total body mass index category",
         "rawType": "object",
         "type": "string"
        }
       ],
       "conversionMethod": "pd.DataFrame",
       "ref": "ec3ce2d3-4131-4584-bee6-4c880accd5ca",
       "rows": [
        [
         "0",
         "19",
         "female",
         "27.900",
         "0",
         "yes",
         "southwest",
         "16884.924",
         "Overweight"
        ],
        [
         "1",
         "18",
         "male",
         "33.770",
         "1",
         "no",
         "southeast",
         "1725.5523",
         "Obese"
        ],
        [
         "2",
         "28",
         "male",
         "33.000",
         "3",
         "no",
         "southeast",
         "4449.462",
         "Obese"
        ],
        [
         "3",
         "33",
         "male",
         "22.705",
         "0",
         "no",
         "northwest",
         "21984.47061",
         "Normal weight"
        ],
        [
         "4",
         "32",
         "male",
         "28.880",
         "0",
         "no",
         "northwest",
         "3866.8552",
         "Overweight"
        ]
       ],
       "shape": {
        "columns": 8,
        "rows": 5
       }
      },
      "text/html": [
       "<div>\n",
       "<style scoped>\n",
       "    .dataframe tbody tr th:only-of-type {\n",
       "        vertical-align: middle;\n",
       "    }\n",
       "\n",
       "    .dataframe tbody tr th {\n",
       "        vertical-align: top;\n",
       "    }\n",
       "\n",
       "    .dataframe thead th {\n",
       "        text-align: right;\n",
       "    }\n",
       "</style>\n",
       "<table border=\"1\" class=\"dataframe\">\n",
       "  <thead>\n",
       "    <tr style=\"text-align: right;\">\n",
       "      <th></th>\n",
       "      <th>age</th>\n",
       "      <th>sex</th>\n",
       "      <th>bmi</th>\n",
       "      <th>children</th>\n",
       "      <th>smoker</th>\n",
       "      <th>region</th>\n",
       "      <th>charges</th>\n",
       "      <th>total body mass index category</th>\n",
       "    </tr>\n",
       "  </thead>\n",
       "  <tbody>\n",
       "    <tr>\n",
       "      <th>0</th>\n",
       "      <td>19</td>\n",
       "      <td>female</td>\n",
       "      <td>27.900</td>\n",
       "      <td>0</td>\n",
       "      <td>yes</td>\n",
       "      <td>southwest</td>\n",
       "      <td>16884.924</td>\n",
       "      <td>Overweight</td>\n",
       "    </tr>\n",
       "    <tr>\n",
       "      <th>1</th>\n",
       "      <td>18</td>\n",
       "      <td>male</td>\n",
       "      <td>33.770</td>\n",
       "      <td>1</td>\n",
       "      <td>no</td>\n",
       "      <td>southeast</td>\n",
       "      <td>1725.552</td>\n",
       "      <td>Obese</td>\n",
       "    </tr>\n",
       "    <tr>\n",
       "      <th>2</th>\n",
       "      <td>28</td>\n",
       "      <td>male</td>\n",
       "      <td>33.000</td>\n",
       "      <td>3</td>\n",
       "      <td>no</td>\n",
       "      <td>southeast</td>\n",
       "      <td>4449.462</td>\n",
       "      <td>Obese</td>\n",
       "    </tr>\n",
       "    <tr>\n",
       "      <th>3</th>\n",
       "      <td>33</td>\n",
       "      <td>male</td>\n",
       "      <td>22.705</td>\n",
       "      <td>0</td>\n",
       "      <td>no</td>\n",
       "      <td>northwest</td>\n",
       "      <td>21984.471</td>\n",
       "      <td>Normal weight</td>\n",
       "    </tr>\n",
       "    <tr>\n",
       "      <th>4</th>\n",
       "      <td>32</td>\n",
       "      <td>male</td>\n",
       "      <td>28.880</td>\n",
       "      <td>0</td>\n",
       "      <td>no</td>\n",
       "      <td>northwest</td>\n",
       "      <td>3866.855</td>\n",
       "      <td>Overweight</td>\n",
       "    </tr>\n",
       "  </tbody>\n",
       "</table>\n",
       "</div>"
      ],
      "text/plain": [
       "   age     sex     bmi  children smoker     region   charges  \\\n",
       "0   19  female  27.900         0    yes  southwest 16884.924   \n",
       "1   18    male  33.770         1     no  southeast  1725.552   \n",
       "2   28    male  33.000         3     no  southeast  4449.462   \n",
       "3   33    male  22.705         0     no  northwest 21984.471   \n",
       "4   32    male  28.880         0     no  northwest  3866.855   \n",
       "\n",
       "  total body mass index category  \n",
       "0                     Overweight  \n",
       "1                          Obese  \n",
       "2                          Obese  \n",
       "3                  Normal weight  \n",
       "4                     Overweight  "
      ]
     },
     "execution_count": 130,
     "metadata": {},
     "output_type": "execute_result"
    }
   ],
   "source": [
    "\n",
    "def bmi_category(bmi):\n",
    "    bmi = float(bmi)\n",
    "    if bmi < 18.5:\n",
    "        return 'Underweight'\n",
    "    elif 18.5 <= bmi < 25:\n",
    "        return 'Normal weight'\n",
    "    elif 25 <= bmi < 30:\n",
    "        return 'Overweight'\n",
    "    else:\n",
    "        return 'Obese'\n",
    "\n",
    "df.loc[:, 'total body mass index category'] = df['bmi'].apply(bmi_category)\n",
    "df.head()"
   ]
  },
  {
   "cell_type": "code",
   "execution_count": 131,
   "id": "aec1640e",
   "metadata": {},
   "outputs": [
    {
     "name": "stdout",
     "output_type": "stream",
     "text": [
      "Average insurance charges by age:\n",
      "age\n",
      "18    7086.218\n",
      "19    9868.929\n",
      "20   10159.698\n",
      "21    4730.464\n",
      "22   10012.933\n",
      "23   12419.820\n",
      "24   10648.016\n",
      "25    9838.365\n",
      "26    6133.825\n",
      "27   12184.702\n",
      "28    9069.188\n",
      "29   10430.159\n",
      "30   12719.110\n",
      "31   10196.981\n",
      "32    9220.300\n",
      "33   12351.533\n",
      "34   11613.528\n",
      "35   11307.182\n",
      "36   12204.476\n",
      "37   18019.912\n",
      "38    8102.734\n",
      "39   11778.243\n",
      "40   11772.251\n",
      "41    9653.746\n",
      "42   13061.039\n",
      "43   19267.279\n",
      "44   15859.397\n",
      "45   14830.200\n",
      "46   14342.591\n",
      "47   17654.000\n",
      "48   14632.500\n",
      "49   12696.006\n",
      "50   15663.003\n",
      "51   15682.256\n",
      "52   18256.270\n",
      "53   16020.931\n",
      "54   18758.546\n",
      "55   16164.545\n",
      "56   15025.516\n",
      "57   16447.185\n",
      "58   13878.928\n",
      "59   18895.870\n",
      "60   21979.419\n",
      "61   22024.458\n",
      "62   19163.857\n",
      "63   19884.998\n",
      "64   23275.531\n",
      "Name: charges, dtype: float64\n",
      "\n",
      "Average insurance charges by gender:\n",
      "sex\n",
      "female   12569.579\n",
      "male     13974.999\n",
      "Name: charges, dtype: float64\n",
      "\n",
      "Average insurance charges by region:\n",
      "region\n",
      "northeast   13406.385\n",
      "northwest   12450.841\n",
      "southeast   14735.411\n",
      "southwest   12346.937\n",
      "Name: charges, dtype: float64\n"
     ]
    }
   ],
   "source": [
    "# i.a. Average insurance charges by age\n",
    "avg_charges_by_age = df.groupby('age')['charges'].mean()\n",
    "print(\"Average insurance charges by age:\")\n",
    "print(avg_charges_by_age)\n",
    "\n",
    "# i.b. Average insurance charges by gender\n",
    "avg_charges_by_gender = df.groupby('sex')['charges'].mean()\n",
    "print(\"\\nAverage insurance charges by gender:\")\n",
    "print(avg_charges_by_gender)\n",
    "\n",
    "# i.c. Average insurance charges by region\n",
    "avg_charges_by_region = df.groupby('region')['charges'].mean()\n",
    "print(\"\\nAverage insurance charges by region:\")\n",
    "print(avg_charges_by_region)"
   ]
  },
  {
   "cell_type": "markdown",
   "id": "f272ed24",
   "metadata": {},
   "source": [
    "### Basic visualisations using matplotlib, seaborn and plotly to show distribution and correlation of relevant personal features to insurance charges"
   ]
  },
  {
   "cell_type": "markdown",
   "id": "b60c3d25",
   "metadata": {},
   "source": [
    "Interactive Age VS Smoking status(smoker vs non-smoker)"
   ]
  },
  {
   "cell_type": "code",
   "execution_count": 132,
   "id": "19a9b8de",
   "metadata": {},
   "outputs": [
    {
     "data": {
      "application/vnd.plotly.v1+json": {
       "config": {
        "plotlyServerURL": "https://plot.ly"
       },
       "data": [
        {
         "customdata": [
          [
           "27.900",
           0,
           "southwest"
          ],
          [
           "26.290",
           0,
           "southeast"
          ],
          [
           "42.130",
           0,
           "southeast"
          ],
          [
           "35.300",
           0,
           "southwest"
          ],
          [
           "31.920",
           1,
           "northeast"
          ],
          [
           "36.300",
           2,
           "southwest"
          ],
          [
           "35.600",
           0,
           "southwest"
          ],
          [
           "36.400",
           1,
           "southwest"
          ],
          [
           "36.670",
           1,
           "northeast"
          ],
          [
           "39.900",
           0,
           "southwest"
          ],
          [
           "35.200",
           1,
           "southeast"
          ],
          [
           "28.000",
           1,
           "southwest"
          ],
          [
           "34.430",
           0,
           "southeast"
          ],
          [
           "36.955",
           2,
           "northwest"
          ],
          [
           "31.680",
           2,
           "southeast"
          ],
          [
           "22.880",
           1,
           "southeast"
          ],
          [
           "22.420",
           0,
           "northwest"
          ],
          [
           "23.980",
           3,
           "southeast"
          ],
          [
           "24.750",
           0,
           "southeast"
          ],
          [
           "37.620",
           1,
           "southeast"
          ],
          [
           "34.800",
           2,
           "southwest"
          ],
          [
           "22.895",
           2,
           "northwest"
          ],
          [
           "31.160",
           0,
           "northwest"
          ],
          [
           "29.830",
           3,
           "northeast"
          ],
          [
           "31.300",
           2,
           "southwest"
          ],
          [
           "19.950",
           0,
           "northeast"
          ],
          [
           "19.300",
           0,
           "southwest"
          ],
          [
           "29.920",
           3,
           "southeast"
          ],
          [
           "28.025",
           1,
           "northwest"
          ],
          [
           "35.090",
           0,
           "southeast"
          ],
          [
           "27.940",
           1,
           "southeast"
          ],
          [
           "31.350",
           1,
           "northeast"
          ],
          [
           "28.300",
           0,
           "southwest"
          ],
          [
           "17.765",
           2,
           "northwest"
          ],
          [
           "25.300",
           2,
           "southeast"
          ],
          [
           "28.690",
           3,
           "northwest"
          ],
          [
           "30.495",
           3,
           "northwest"
          ],
          [
           "23.370",
           0,
           "northeast"
          ],
          [
           "24.420",
           0,
           "southeast"
          ],
          [
           "25.175",
           0,
           "northeast"
          ],
          [
           "35.530",
           0,
           "southeast"
          ],
          [
           "26.600",
           0,
           "northwest"
          ],
          [
           "36.850",
           0,
           "southeast"
          ],
          [
           "37.700",
           0,
           "southwest"
          ],
          [
           "41.895",
           3,
           "northeast"
          ],
          [
           "36.080",
           0,
           "southeast"
          ],
          [
           "27.740",
           2,
           "northeast"
          ],
          [
           "34.800",
           0,
           "southwest"
          ],
          [
           "24.640",
           0,
           "southeast"
          ],
          [
           "22.220",
           2,
           "southeast"
          ],
          [
           "29.070",
           0,
           "northwest"
          ],
          [
           "36.670",
           2,
           "northeast"
          ],
          [
           "27.740",
           0,
           "northeast"
          ],
          [
           "17.290",
           2,
           "northeast"
          ],
          [
           "32.200",
           2,
           "southwest"
          ],
          [
           "34.210",
           2,
           "southeast"
          ],
          [
           "31.825",
           0,
           "northeast"
          ],
          [
           "33.630",
           0,
           "northwest"
          ],
          [
           "31.920",
           0,
           "northwest"
          ],
          [
           "26.840",
           1,
           "southeast"
          ],
          [
           "24.320",
           3,
           "northeast"
          ],
          [
           "36.955",
           0,
           "northwest"
          ],
          [
           "42.350",
           3,
           "southeast"
          ],
          [
           "19.800",
           1,
           "southeast"
          ],
          [
           "34.200",
           2,
           "southwest"
          ],
          [
           "28.120",
           1,
           "northeast"
          ],
          [
           "40.565",
           3,
           "northeast"
          ],
          [
           "36.765",
           1,
           "northeast"
          ],
          [
           "45.540",
           2,
           "southeast"
          ],
          [
           "27.700",
           0,
           "southwest"
          ],
          [
           "25.410",
           1,
           "southeast"
          ],
          [
           "34.390",
           3,
           "northwest"
          ],
          [
           "22.610",
           3,
           "northeast"
          ],
          [
           "35.970",
           3,
           "southeast"
          ],
          [
           "31.400",
           0,
           "southwest"
          ],
          [
           "30.800",
           0,
           "southwest"
          ],
          [
           "36.480",
           2,
           "northwest"
          ],
          [
           "33.800",
           1,
           "southwest"
          ],
          [
           "36.385",
           1,
           "northeast"
          ],
          [
           "27.360",
           0,
           "northwest"
          ],
          [
           "32.300",
           1,
           "northeast"
          ],
          [
           "21.700",
           0,
           "southwest"
          ],
          [
           "32.900",
           2,
           "southwest"
          ],
          [
           "28.310",
           0,
           "northwest"
          ],
          [
           "24.890",
           3,
           "northeast"
          ],
          [
           "40.150",
           0,
           "southeast"
          ],
          [
           "17.955",
           2,
           "northeast"
          ],
          [
           "30.685",
           0,
           "northeast"
          ],
          [
           "20.235",
           1,
           "northeast"
          ],
          [
           "17.195",
           2,
           "northeast"
          ],
          [
           "22.600",
           2,
           "southwest"
          ],
          [
           "26.980",
           0,
           "northwest"
          ],
          [
           "33.880",
           0,
           "southeast"
          ],
          [
           "35.860",
           0,
           "southeast"
          ],
          [
           "32.775",
           1,
           "northeast"
          ],
          [
           "33.500",
           0,
           "southwest"
          ],
          [
           "26.695",
           1,
           "northwest"
          ],
          [
           "30.000",
           0,
           "southwest"
          ],
          [
           "28.380",
           1,
           "southeast"
          ],
          [
           "25.100",
           3,
           "southwest"
          ],
          [
           "28.310",
           1,
           "northwest"
          ],
          [
           "28.500",
           0,
           "northeast"
          ],
          [
           "38.060",
           0,
           "southeast"
          ],
          [
           "25.700",
           4,
           "southwest"
          ],
          [
           "34.400",
           0,
           "southwest"
          ],
          [
           "23.210",
           1,
           "southeast"
          ],
          [
           "30.250",
           0,
           "southeast"
          ],
          [
           "28.300",
           1,
           "southwest"
          ],
          [
           "26.070",
           1,
           "southeast"
          ],
          [
           "42.130",
           1,
           "southeast"
          ],
          [
           "47.410",
           0,
           "southeast"
          ],
          [
           "25.840",
           2,
           "northwest"
          ],
          [
           "46.200",
           0,
           "southeast"
          ],
          [
           "34.105",
           3,
           "northwest"
          ],
          [
           "40.565",
           2,
           "northwest"
          ],
          [
           "38.095",
           1,
           "northeast"
          ],
          [
           "30.210",
           1,
           "northwest"
          ],
          [
           "21.850",
           1,
           "northeast"
          ],
          [
           "28.310",
           0,
           "northwest"
          ],
          [
           "23.655",
           0,
           "northwest"
          ],
          [
           "37.800",
           2,
           "southwest"
          ],
          [
           "36.630",
           1,
           "southeast"
          ],
          [
           "25.600",
           2,
           "southwest"
          ],
          [
           "33.110",
           0,
           "southeast"
          ],
          [
           "34.100",
           4,
           "southwest"
          ],
          [
           "33.535",
           0,
           "northeast"
          ],
          [
           "38.950",
           0,
           "northwest"
          ],
          [
           "26.410",
           0,
           "northeast"
          ],
          [
           "28.310",
           3,
           "northwest"
          ],
          [
           "25.300",
           2,
           "southeast"
          ],
          [
           "22.990",
           0,
           "southeast"
          ],
          [
           "38.060",
           2,
           "southeast"
          ],
          [
           "32.775",
           2,
           "northwest"
          ],
          [
           "32.015",
           0,
           "northeast"
          ],
          [
           "43.890",
           2,
           "southeast"
          ],
          [
           "31.350",
           3,
           "northwest"
          ],
          [
           "35.300",
           2,
           "southwest"
          ],
          [
           "31.130",
           1,
           "southeast"
          ],
          [
           "35.750",
           1,
           "southeast"
          ],
          [
           "38.060",
           0,
           "southeast"
          ],
          [
           "39.050",
           3,
           "southeast"
          ],
          [
           "21.755",
           1,
           "northeast"
          ],
          [
           "24.420",
           3,
           "southeast"
          ],
          [
           "38.390",
           0,
           "southeast"
          ],
          [
           "31.730",
           3,
           "northeast"
          ],
          [
           "35.500",
           2,
           "southwest"
          ],
          [
           "29.150",
           0,
           "southeast"
          ],
          [
           "34.105",
           0,
           "northeast"
          ],
          [
           "26.400",
           0,
           "southeast"
          ],
          [
           "27.830",
           0,
           "southeast"
          ],
          [
           "38.170",
           0,
           "southeast"
          ],
          [
           "27.100",
           1,
           "southwest"
          ],
          [
           "28.880",
           0,
           "northwest"
          ],
          [
           "24.400",
           3,
           "southwest"
          ],
          [
           "27.600",
           1,
           "southwest"
          ],
          [
           "20.900",
           0,
           "southeast"
          ],
          [
           "28.500",
           0,
           "northwest"
          ],
          [
           "24.795",
           0,
           "northeast"
          ],
          [
           "42.240",
           0,
           "southeast"
          ],
          [
           "26.125",
           1,
           "northeast"
          ],
          [
           "35.530",
           0,
           "northwest"
          ],
          [
           "31.790",
           2,
           "southeast"
          ],
          [
           "28.025",
           1,
           "northeast"
          ],
          [
           "30.780",
           3,
           "northeast"
          ],
          [
           "32.780",
           2,
           "southeast"
          ],
          [
           "29.810",
           0,
           "southeast"
          ],
          [
           "32.450",
           0,
           "southeast"
          ],
          [
           "30.780",
           0,
           "northeast"
          ],
          [
           "35.530",
           0,
           "northeast"
          ],
          [
           "23.845",
           3,
           "northeast"
          ],
          [
           "33.110",
           0,
           "southeast"
          ],
          [
           "24.130",
           0,
           "northwest"
          ],
          [
           "47.600",
           2,
           "southwest"
          ],
          [
           "37.050",
           3,
           "northeast"
          ],
          [
           "28.930",
           1,
           "southeast"
          ],
          [
           "28.975",
           0,
           "northeast"
          ],
          [
           "26.885",
           0,
           "northwest"
          ],
          [
           "38.940",
           2,
           "southeast"
          ],
          [
           "20.045",
           2,
           "northeast"
          ],
          [
           "40.920",
           0,
           "southeast"
          ],
          [
           "24.600",
           0,
           "southwest"
          ],
          [
           "31.730",
           0,
           "northeast"
          ],
          [
           "26.885",
           0,
           "northwest"
          ],
          [
           "22.895",
           0,
           "northeast"
          ],
          [
           "34.200",
           1,
           "northeast"
          ],
          [
           "29.700",
           3,
           "southwest"
          ],
          [
           "42.900",
           2,
           "southeast"
          ],
          [
           "30.200",
           2,
           "southwest"
          ],
          [
           "27.835",
           1,
           "northwest"
          ],
          [
           "30.800",
           1,
           "southeast"
          ],
          [
           "34.960",
           1,
           "northeast"
          ],
          [
           "24.795",
           2,
           "northwest"
          ],
          [
           "22.895",
           0,
           "northeast"
          ],
          [
           "25.900",
           3,
           "southwest"
          ],
          [
           "20.520",
           0,
           "northeast"
          ],
          [
           "20.045",
           3,
           "northwest"
          ],
          [
           "22.990",
           2,
           "northwest"
          ],
          [
           "32.700",
           0,
           "southwest"
          ],
          [
           "28.215",
           3,
           "northwest"
          ],
          [
           "20.130",
           2,
           "southeast"
          ],
          [
           "31.020",
           3,
           "southeast"
          ],
          [
           "36.080",
           1,
           "southeast"
          ],
          [
           "26.030",
           1,
           "northwest"
          ],
          [
           "23.655",
           1,
           "northwest"
          ],
          [
           "35.200",
           0,
           "southeast"
          ],
          [
           "21.565",
           0,
           "northeast"
          ],
          [
           "37.070",
           2,
           "southeast"
          ],
          [
           "30.495",
           1,
           "northwest"
          ],
          [
           "28.025",
           0,
           "northwest"
          ],
          [
           "30.685",
           0,
           "northeast"
          ],
          [
           "24.700",
           2,
           "northwest"
          ],
          [
           "52.580",
           1,
           "southeast"
          ],
          [
           "30.900",
           0,
           "southwest"
          ],
          [
           "29.800",
           3,
           "southwest"
          ],
          [
           "41.140",
           1,
           "southeast"
          ],
          [
           "37.070",
           1,
           "southeast"
          ],
          [
           "31.680",
           0,
           "southeast"
          ],
          [
           "18.300",
           5,
           "southwest"
          ],
          [
           "36.190",
           0,
           "southeast"
          ],
          [
           "30.400",
           0,
           "northwest"
          ],
          [
           "34.960",
           2,
           "northeast"
          ],
          [
           "19.095",
           2,
           "northeast"
          ],
          [
           "38.390",
           3,
           "southeast"
          ],
          [
           "25.850",
           3,
           "southeast"
          ],
          [
           "33.330",
           2,
           "southeast"
          ],
          [
           "35.750",
           1,
           "southeast"
          ],
          [
           "31.400",
           0,
           "southwest"
          ],
          [
           "36.860",
           3,
           "northwest"
          ],
          [
           "42.750",
           1,
           "northeast"
          ],
          [
           "32.490",
           0,
           "northwest"
          ],
          [
           "32.800",
           0,
           "southwest"
          ],
          [
           "32.560",
           3,
           "southeast"
          ],
          [
           "44.880",
           0,
           "southeast"
          ],
          [
           "27.360",
           1,
           "northeast"
          ],
          [
           "26.700",
           2,
           "southwest"
          ],
          [
           "24.130",
           1,
           "northwest"
          ],
          [
           "29.810",
           0,
           "southeast"
          ],
          [
           "28.490",
           1,
           "southeast"
          ],
          [
           "35.625",
           3,
           "northwest"
          ],
          [
           "25.270",
           1,
           "northeast"
          ],
          [
           "30.020",
           0,
           "northwest"
          ],
          [
           "27.280",
           3,
           "southeast"
          ],
          [
           "33.400",
           2,
           "southwest"
          ],
          [
           "25.555",
           1,
           "northeast"
          ],
          [
           "34.600",
           1,
           "southwest"
          ],
          [
           "24.420",
           0,
           "southeast"
          ],
          [
           "34.485",
           3,
           "northwest"
          ],
          [
           "21.800",
           0,
           "southwest"
          ],
          [
           "41.800",
           2,
           "southeast"
          ],
          [
           "36.960",
           2,
           "southeast"
          ],
          [
           "33.630",
           1,
           "northeast"
          ],
          [
           "29.830",
           0,
           "northeast"
          ],
          [
           "27.300",
           0,
           "southwest"
          ],
          [
           "23.760",
           0,
           "southeast"
          ],
          [
           "31.065",
           0,
           "northeast"
          ],
          [
           "27.060",
           0,
           "southeast"
          ],
          [
           "29.925",
           1,
           "northeast"
          ],
          [
           "27.645",
           2,
           "northwest"
          ],
          [
           "21.660",
           0,
           "northeast"
          ],
          [
           "36.300",
           1,
           "southwest"
          ],
          [
           "39.400",
           2,
           "southwest"
          ],
          [
           "34.900",
           0,
           "southwest"
          ],
          [
           "30.360",
           0,
           "southeast"
          ],
          [
           "30.875",
           3,
           "northwest"
          ],
          [
           "27.800",
           0,
           "southwest"
          ],
          [
           "24.605",
           2,
           "northeast"
          ],
          [
           "21.850",
           0,
           "northeast"
          ],
          [
           "28.120",
           4,
           "northwest"
          ],
          [
           "30.200",
           0,
           "southwest"
          ],
          [
           "34.700",
           2,
           "southwest"
          ],
          [
           "23.655",
           3,
           "northwest"
          ],
          [
           "26.695",
           0,
           "northeast"
          ],
          [
           "40.370",
           2,
           "southeast"
          ],
          [
           "29.070",
           0,
           "northwest"
          ]
         ],
         "hovertemplate": "smoker=yes<br>Age=%{x}<br>Charges=%{y}<br>bmi=%{customdata[0]}<br>children=%{customdata[1]}<br>region=%{customdata[2]}<extra></extra>",
         "legendgroup": "yes",
         "marker": {
          "color": "red",
          "symbol": "circle"
         },
         "mode": "markers",
         "name": "yes",
         "showlegend": true,
         "type": "scattergl",
         "x": [
          19,
          62,
          27,
          30,
          34,
          31,
          22,
          28,
          35,
          60,
          36,
          48,
          36,
          58,
          18,
          53,
          20,
          28,
          27,
          22,
          37,
          45,
          57,
          59,
          64,
          56,
          38,
          61,
          20,
          63,
          29,
          44,
          19,
          32,
          34,
          30,
          46,
          42,
          48,
          18,
          30,
          42,
          18,
          63,
          36,
          27,
          35,
          19,
          42,
          40,
          19,
          23,
          63,
          18,
          63,
          54,
          50,
          56,
          19,
          20,
          52,
          19,
          46,
          40,
          50,
          40,
          54,
          59,
          25,
          19,
          47,
          31,
          53,
          43,
          27,
          34,
          45,
          64,
          61,
          52,
          50,
          19,
          26,
          23,
          39,
          24,
          27,
          55,
          44,
          26,
          36,
          63,
          64,
          61,
          40,
          33,
          56,
          42,
          30,
          54,
          61,
          24,
          44,
          21,
          29,
          51,
          19,
          39,
          42,
          57,
          54,
          49,
          43,
          35,
          48,
          31,
          34,
          21,
          19,
          59,
          30,
          47,
          49,
          19,
          37,
          18,
          44,
          39,
          42,
          52,
          64,
          43,
          40,
          62,
          44,
          60,
          39,
          27,
          41,
          51,
          30,
          29,
          35,
          37,
          23,
          29,
          27,
          53,
          37,
          47,
          18,
          33,
          19,
          30,
          50,
          53,
          27,
          33,
          18,
          47,
          33,
          56,
          36,
          41,
          23,
          57,
          60,
          37,
          46,
          49,
          48,
          25,
          37,
          51,
          32,
          57,
          64,
          47,
          43,
          60,
          32,
          18,
          43,
          45,
          37,
          25,
          51,
          44,
          34,
          54,
          43,
          51,
          29,
          31,
          24,
          27,
          30,
          24,
          47,
          43,
          22,
          47,
          19,
          46,
          55,
          18,
          22,
          45,
          35,
          20,
          43,
          22,
          49,
          47,
          59,
          37,
          28,
          39,
          47,
          22,
          51,
          33,
          38,
          48,
          25,
          33,
          23,
          53,
          23,
          19,
          60,
          43,
          19,
          18,
          43,
          52,
          31,
          23,
          20,
          43,
          19,
          18,
          36,
          37,
          46,
          20,
          52,
          20,
          52,
          64,
          32,
          24,
          20,
          64,
          24,
          26,
          39,
          47,
          18,
          61,
          20,
          19,
          45,
          62,
          43,
          42,
          29,
          32,
          25,
          19,
          30,
          62,
          42,
          61
         ],
         "xaxis": "x",
         "y": [
          16884.924,
          27808.7251,
          39611.7577,
          36837.467,
          37701.8768,
          38711,
          35585.576,
          51194.55914,
          39774.2763,
          48173.361,
          38709.176,
          23568.272,
          37742.5757,
          47496.49445,
          34303.1672,
          23244.7902,
          14711.7438,
          17663.1442,
          16577.7795,
          37165.1638,
          39836.519,
          21098.55405,
          43578.9394,
          30184.9367,
          47291.055,
          22412.6485,
          15820.699,
          30942.1918,
          17560.37975,
          47055.5321,
          19107.7796,
          39556.4945,
          17081.08,
          32734.1863,
          18972.495,
          20745.9891,
          40720.55105,
          19964.7463,
          21223.6758,
          15518.18025,
          36950.2567,
          21348.706,
          36149.4835,
          48824.45,
          43753.33705,
          37133.8982,
          20984.0936,
          34779.615,
          19515.5416,
          19444.2658,
          17352.6803,
          38511.6283,
          29523.1656,
          12829.4551,
          47305.305,
          44260.7499,
          41097.16175,
          43921.1837,
          33750.2918,
          17085.2676,
          24869.8368,
          36219.40545,
          46151.1245,
          17179.522,
          42856.838,
          22331.5668,
          48549.17835,
          47896.79135,
          42112.2356,
          16297.846,
          21978.6769,
          38746.3551,
          24873.3849,
          42124.5153,
          34838.873,
          35491.64,
          42760.5022,
          47928.03,
          48517.56315,
          24393.6224,
          41919.097,
          13844.506,
          36085.219,
          18033.9679,
          21659.9301,
          38126.2465,
          15006.57945,
          42303.69215,
          19594.80965,
          14455.64405,
          18608.262,
          28950.4692,
          46889.2612,
          46599.1084,
          39125.33225,
          37079.372,
          26109.32905,
          22144.032,
          19521.9682,
          25382.297,
          28868.6639,
          35147.52848,
          48885.13561,
          17942.106,
          36197.699,
          22218.1149,
          32548.3405,
          21082.16,
          38245.59327,
          48675.5177,
          63770.42801,
          23807.2406,
          45863.205,
          39983.42595,
          45702.02235,
          58571.07448,
          43943.8761,
          15359.1045,
          17468.9839,
          25678.77845,
          39241.442,
          42969.8527,
          23306.547,
          34439.8559,
          40182.246,
          34617.84065,
          42983.4585,
          20149.3229,
          32787.45859,
          24667.419,
          27037.9141,
          42560.4304,
          40003.33225,
          45710.20785,
          46200.9851,
          46130.5265,
          40103.89,
          34806.4677,
          40273.6455,
          44400.4064,
          40932.4295,
          16657.71745,
          19361.9988,
          40419.0191,
          36189.1017,
          44585.45587,
          18246.4955,
          43254.41795,
          19539.243,
          23065.4207,
          36307.7983,
          19040.876,
          17748.5062,
          18259.216,
          24520.264,
          21195.818,
          18310.742,
          17904.52705,
          38792.6856,
          23401.30575,
          55135.40209,
          43813.8661,
          20773.62775,
          39597.4072,
          36021.0112,
          27533.9129,
          45008.9555,
          37270.1512,
          42111.6647,
          24106.91255,
          40974.1649,
          15817.9857,
          46113.511,
          46255.1125,
          19719.6947,
          27218.43725,
          29330.98315,
          44202.6536,
          19798.05455,
          48673.5588,
          17496.306,
          33732.6867,
          21774.32215,
          35069.37452,
          39047.285,
          19933.458,
          47462.894,
          38998.546,
          20009.63365,
          41999.52,
          41034.2214,
          23967.38305,
          16138.76205,
          19199.944,
          14571.8908,
          16420.49455,
          17361.7661,
          34472.841,
          24915.22085,
          18767.7377,
          35595.5898,
          42211.1382,
          16450.8947,
          21677.28345,
          44423.803,
          13747.87235,
          37484.4493,
          39725.51805,
          20234.85475,
          33475.81715,
          21880.82,
          44501.3982,
          39727.614,
          25309.489,
          48970.2476,
          39871.7043,
          34672.1472,
          19023.26,
          41676.0811,
          33907.548,
          44641.1974,
          16776.30405,
          41949.2441,
          24180.9335,
          36124.5737,
          38282.7495,
          34166.273,
          46661.4424,
          40904.1995,
          36898.73308,
          52590.82939,
          40941.2854,
          39722.7462,
          17178.6824,
          22478.6,
          23887.6627,
          19350.3689,
          18328.2381,
          37465.34375,
          21771.3423,
          33307.5508,
          18223.4512,
          38415.474,
          20296.86345,
          41661.602,
          26125.67477,
          60021.39897,
          20167.33603,
          47269.854,
          49577.6624,
          37607.5277,
          18648.4217,
          16232.847,
          26926.5144,
          34254.05335,
          17043.3414,
          22462.04375,
          24535.69855,
          14283.4594,
          47403.88,
          38344.566,
          34828.654,
          62592.87309,
          46718.16325,
          37829.7242,
          21259.37795,
          16115.3045,
          21472.4788,
          33900.653,
          36397.576,
          18765.87545,
          28101.33305,
          43896.3763,
          29141.3603
         ],
         "yaxis": "y"
        },
        {
         "customdata": [
          [
           "33.770",
           1,
           "southeast"
          ],
          [
           "33.000",
           3,
           "southeast"
          ],
          [
           "22.705",
           0,
           "northwest"
          ],
          [
           "28.880",
           0,
           "northwest"
          ],
          [
           "25.740",
           0,
           "southeast"
          ],
          [
           "33.440",
           1,
           "southeast"
          ],
          [
           "27.740",
           3,
           "northwest"
          ],
          [
           "29.830",
           2,
           "northeast"
          ],
          [
           "25.840",
           0,
           "northwest"
          ],
          [
           "26.220",
           0,
           "northeast"
          ],
          [
           "34.400",
           0,
           "southwest"
          ],
          [
           "39.820",
           0,
           "southeast"
          ],
          [
           "24.600",
           1,
           "southwest"
          ],
          [
           "30.780",
           1,
           "northeast"
          ],
          [
           "23.845",
           0,
           "northeast"
          ],
          [
           "40.300",
           0,
           "southwest"
          ],
          [
           "36.005",
           0,
           "northeast"
          ],
          [
           "32.400",
           1,
           "southwest"
          ],
          [
           "34.100",
           0,
           "southeast"
          ],
          [
           "28.025",
           2,
           "northwest"
          ],
          [
           "27.720",
           3,
           "southeast"
          ],
          [
           "23.085",
           0,
           "northeast"
          ],
          [
           "32.775",
           2,
           "northwest"
          ],
          [
           "17.385",
           1,
           "northwest"
          ],
          [
           "26.315",
           0,
           "northeast"
          ],
          [
           "28.600",
           5,
           "southwest"
          ],
          [
           "28.310",
           0,
           "northwest"
          ],
          [
           "20.425",
           0,
           "northwest"
          ],
          [
           "32.965",
           3,
           "northwest"
          ],
          [
           "20.800",
           0,
           "southwest"
          ],
          [
           "26.600",
           0,
           "northeast"
          ],
          [
           "36.630",
           2,
           "southeast"
          ],
          [
           "21.780",
           1,
           "southeast"
          ],
          [
           "30.800",
           2,
           "southeast"
          ],
          [
           "37.050",
           1,
           "northeast"
          ],
          [
           "37.300",
           0,
           "southwest"
          ],
          [
           "38.665",
           2,
           "northeast"
          ],
          [
           "34.770",
           0,
           "northwest"
          ],
          [
           "24.530",
           0,
           "southeast"
          ],
          [
           "35.625",
           0,
           "northeast"
          ],
          [
           "33.630",
           2,
           "northwest"
          ],
          [
           "28.690",
           3,
           "northwest"
          ],
          [
           "31.825",
           2,
           "northeast"
          ],
          [
           "37.335",
           2,
           "northwest"
          ],
          [
           "27.360",
           3,
           "northeast"
          ],
          [
           "33.660",
           4,
           "southeast"
          ],
          [
           "24.700",
           1,
           "northwest"
          ],
          [
           "25.935",
           1,
           "northwest"
          ],
          [
           "28.900",
           0,
           "southwest"
          ],
          [
           "39.100",
           2,
           "southwest"
          ],
          [
           "26.315",
           1,
           "northwest"
          ],
          [
           "36.190",
           0,
           "southeast"
          ],
          [
           "28.500",
           5,
           "northeast"
          ],
          [
           "28.100",
           3,
           "southwest"
          ],
          [
           "32.010",
           1,
           "southeast"
          ],
          [
           "27.400",
           2,
           "southwest"
          ],
          [
           "34.010",
           0,
           "northwest"
          ],
          [
           "29.590",
           1,
           "southeast"
          ],
          [
           "35.530",
           0,
           "southeast"
          ],
          [
           "39.805",
           0,
           "northeast"
          ],
          [
           "32.965",
           0,
           "northwest"
          ],
          [
           "26.885",
           1,
           "northeast"
          ],
          [
           "38.285",
           0,
           "northeast"
          ],
          [
           "41.230",
           4,
           "northwest"
          ],
          [
           "27.200",
           0,
           "southwest"
          ],
          [
           "27.740",
           0,
           "northwest"
          ],
          [
           "26.980",
           0,
           "northwest"
          ],
          [
           "39.490",
           0,
           "southeast"
          ],
          [
           "24.795",
           1,
           "northwest"
          ],
          [
           "34.770",
           2,
           "northwest"
          ],
          [
           "37.620",
           1,
           "southeast"
          ],
          [
           "30.800",
           3,
           "southwest"
          ],
          [
           "38.280",
           0,
           "southeast"
          ],
          [
           "31.600",
           0,
           "southwest"
          ],
          [
           "25.460",
           0,
           "northeast"
          ],
          [
           "30.115",
           0,
           "northeast"
          ],
          [
           "27.500",
           1,
           "southwest"
          ],
          [
           "28.400",
           1,
           "southwest"
          ],
          [
           "30.875",
           2,
           "northwest"
          ],
          [
           "27.940",
           0,
           "southeast"
          ],
          [
           "33.630",
           1,
           "northwest"
          ],
          [
           "29.700",
           2,
           "southwest"
          ],
          [
           "30.800",
           0,
           "southwest"
          ],
          [
           "35.720",
           0,
           "northwest"
          ],
          [
           "32.205",
           3,
           "northeast"
          ],
          [
           "28.595",
           0,
           "northeast"
          ],
          [
           "49.060",
           0,
           "southeast"
          ],
          [
           "27.170",
           0,
           "southeast"
          ],
          [
           "23.370",
           2,
           "northwest"
          ],
          [
           "37.100",
           2,
           "southwest"
          ],
          [
           "23.750",
           0,
           "northeast"
          ],
          [
           "28.975",
           0,
           "northwest"
          ],
          [
           "33.915",
           3,
           "northwest"
          ],
          [
           "28.785",
           0,
           "northeast"
          ],
          [
           "37.400",
           0,
           "southwest"
          ],
          [
           "34.700",
           2,
           "southwest"
          ],
          [
           "26.505",
           0,
           "northeast"
          ],
          [
           "22.040",
           0,
           "northeast"
          ],
          [
           "35.900",
           2,
           "southwest"
          ],
          [
           "25.555",
           0,
           "northwest"
          ],
          [
           "28.785",
           0,
           "northeast"
          ],
          [
           "28.050",
           0,
           "southeast"
          ],
          [
           "34.100",
           0,
           "southwest"
          ],
          [
           "25.175",
           0,
           "northwest"
          ],
          [
           "31.900",
           3,
           "southeast"
          ],
          [
           "36.000",
           0,
           "southwest"
          ],
          [
           "22.420",
           2,
           "northeast"
          ],
          [
           "32.490",
           1,
           "northeast"
          ],
          [
           "29.735",
           2,
           "northwest"
          ],
          [
           "38.830",
           3,
           "southeast"
          ],
          [
           "37.730",
           1,
           "southeast"
          ],
          [
           "37.430",
           1,
           "northwest"
          ],
          [
           "28.400",
           1,
           "southwest"
          ],
          [
           "24.130",
           1,
           "northwest"
          ],
          [
           "29.700",
           0,
           "southeast"
          ],
          [
           "37.145",
           3,
           "northeast"
          ],
          [
           "25.460",
           1,
           "northeast"
          ],
          [
           "39.520",
           0,
           "northwest"
          ],
          [
           "27.830",
           3,
           "southeast"
          ],
          [
           "39.600",
           1,
           "southwest"
          ],
          [
           "29.800",
           2,
           "southwest"
          ],
          [
           "29.640",
           0,
           "northwest"
          ],
          [
           "28.215",
           4,
           "northeast"
          ],
          [
           "37.000",
           5,
           "southwest"
          ],
          [
           "33.155",
           3,
           "northwest"
          ],
          [
           "31.825",
           1,
           "northwest"
          ],
          [
           "18.905",
           3,
           "northeast"
          ],
          [
           "41.470",
           0,
           "southeast"
          ],
          [
           "30.300",
           0,
           "southwest"
          ],
          [
           "15.960",
           0,
           "northeast"
          ],
          [
           "34.800",
           1,
           "southwest"
          ],
          [
           "33.345",
           0,
           "northwest"
          ],
          [
           "27.835",
           2,
           "northwest"
          ],
          [
           "29.200",
           1,
           "southwest"
          ],
          [
           "28.900",
           2,
           "southwest"
          ],
          [
           "33.155",
           3,
           "northeast"
          ],
          [
           "28.595",
           0,
           "northwest"
          ],
          [
           "38.280",
           0,
           "southeast"
          ],
          [
           "19.950",
           3,
           "northeast"
          ],
          [
           "26.410",
           0,
           "northwest"
          ],
          [
           "30.690",
           2,
           "southeast"
          ],
          [
           "29.920",
           2,
           "southeast"
          ],
          [
           "30.900",
           3,
           "southwest"
          ],
          [
           "32.200",
           1,
           "southwest"
          ],
          [
           "32.110",
           2,
           "northwest"
          ],
          [
           "31.570",
           0,
           "southeast"
          ],
          [
           "26.200",
           0,
           "southwest"
          ],
          [
           "25.740",
           0,
           "southeast"
          ],
          [
           "26.600",
           1,
           "northwest"
          ],
          [
           "34.430",
           0,
           "southeast"
          ],
          [
           "30.590",
           0,
           "northwest"
          ],
          [
           "32.800",
           0,
           "southwest"
          ],
          [
           "28.600",
           2,
           "southeast"
          ],
          [
           "18.050",
           0,
           "northwest"
          ],
          [
           "39.330",
           0,
           "northeast"
          ],
          [
           "32.110",
           0,
           "northwest"
          ],
          [
           "32.230",
           1,
           "southeast"
          ],
          [
           "24.035",
           0,
           "northwest"
          ],
          [
           "22.300",
           0,
           "southwest"
          ],
          [
           "28.880",
           1,
           "northeast"
          ],
          [
           "26.400",
           0,
           "southeast"
          ],
          [
           "31.800",
           0,
           "southwest"
          ],
          [
           "41.230",
           1,
           "northeast"
          ],
          [
           "33.000",
           1,
           "southwest"
          ],
          [
           "30.875",
           4,
           "northwest"
          ],
          [
           "28.500",
           2,
           "northwest"
          ],
          [
           "26.730",
           1,
           "southeast"
          ],
          [
           "30.900",
           2,
           "southwest"
          ],
          [
           "37.100",
           2,
           "southwest"
          ],
          [
           "26.600",
           0,
           "northwest"
          ],
          [
           "23.100",
           0,
           "southeast"
          ],
          [
           "29.920",
           1,
           "southeast"
          ],
          [
           "23.210",
           0,
           "southeast"
          ],
          [
           "33.700",
           1,
           "southwest"
          ],
          [
           "33.250",
           0,
           "northeast"
          ],
          [
           "30.800",
           3,
           "southwest"
          ],
          [
           "33.880",
           3,
           "southeast"
          ],
          [
           "38.060",
           0,
           "southeast"
          ],
          [
           "41.910",
           0,
           "southeast"
          ],
          [
           "31.635",
           1,
           "northeast"
          ],
          [
           "25.460",
           2,
           "northeast"
          ],
          [
           "36.195",
           1,
           "northwest"
          ],
          [
           "27.830",
           3,
           "southeast"
          ],
          [
           "17.800",
           0,
           "southwest"
          ],
          [
           "27.500",
           1,
           "southwest"
          ],
          [
           "24.510",
           2,
           "northwest"
          ],
          [
           "26.730",
           0,
           "southeast"
          ],
          [
           "38.390",
           2,
           "southeast"
          ],
          [
           "38.060",
           1,
           "southeast"
          ],
          [
           "22.135",
           1,
           "northeast"
          ],
          [
           "26.800",
           1,
           "southwest"
          ],
          [
           "35.300",
           3,
           "southwest"
          ],
          [
           "30.020",
           0,
           "northwest"
          ],
          [
           "38.060",
           0,
           "southeast"
          ],
          [
           "35.860",
           0,
           "southeast"
          ],
          [
           "20.900",
           1,
           "southwest"
          ],
          [
           "28.975",
           1,
           "northeast"
          ],
          [
           "30.300",
           3,
           "southwest"
          ],
          [
           "25.365",
           3,
           "northeast"
          ],
          [
           "40.150",
           0,
           "southeast"
          ],
          [
           "24.415",
           4,
           "northwest"
          ],
          [
           "25.200",
           0,
           "southwest"
          ],
          [
           "38.060",
           3,
           "southeast"
          ],
          [
           "32.395",
           3,
           "northeast"
          ],
          [
           "30.200",
           1,
           "southwest"
          ],
          [
           "25.840",
           1,
           "northeast"
          ],
          [
           "29.370",
           1,
           "southeast"
          ],
          [
           "37.050",
           2,
           "northwest"
          ],
          [
           "27.455",
           1,
           "northeast"
          ],
          [
           "27.550",
           0,
           "northwest"
          ],
          [
           "26.600",
           2,
           "northeast"
          ],
          [
           "20.615",
           2,
           "northwest"
          ],
          [
           "24.300",
           0,
           "southwest"
          ],
          [
           "31.790",
           2,
           "southeast"
          ],
          [
           "21.560",
           1,
           "southeast"
          ],
          [
           "27.645",
           1,
           "northeast"
          ],
          [
           "32.395",
           1,
           "northeast"
          ],
          [
           "31.200",
           0,
           "southwest"
          ],
          [
           "26.620",
           1,
           "southeast"
          ],
          [
           "48.070",
           2,
           "northeast"
          ],
          [
           "26.220",
           0,
           "northwest"
          ],
          [
           "26.400",
           3,
           "southeast"
          ],
          [
           "33.400",
           0,
           "southwest"
          ],
          [
           "29.640",
           1,
           "northeast"
          ],
          [
           "28.820",
           0,
           "southeast"
          ],
          [
           "26.800",
           3,
           "southwest"
          ],
          [
           "22.990",
           0,
           "northeast"
          ],
          [
           "28.880",
           1,
           "northwest"
          ],
          [
           "27.550",
           3,
           "northeast"
          ],
          [
           "37.510",
           2,
           "southeast"
          ],
          [
           "33.000",
           2,
           "southeast"
          ],
          [
           "38.000",
           2,
           "southwest"
          ],
          [
           "33.345",
           2,
           "northwest"
          ],
          [
           "27.500",
           2,
           "southwest"
          ],
          [
           "33.330",
           1,
           "southeast"
          ],
          [
           "34.865",
           0,
           "northeast"
          ],
          [
           "33.060",
           2,
           "northwest"
          ],
          [
           "26.600",
           0,
           "southwest"
          ],
          [
           "24.700",
           0,
           "southwest"
          ],
          [
           "35.860",
           0,
           "southeast"
          ],
          [
           "33.250",
           0,
           "northeast"
          ],
          [
           "32.205",
           0,
           "northwest"
          ],
          [
           "32.775",
           0,
           "northeast"
          ],
          [
           "27.645",
           0,
           "northwest"
          ],
          [
           "37.335",
           1,
           "northeast"
          ],
          [
           "25.270",
           1,
           "northwest"
          ],
          [
           "29.640",
           4,
           "northeast"
          ],
          [
           "40.945",
           0,
           "northeast"
          ],
          [
           "27.200",
           0,
           "southwest"
          ],
          [
           "34.105",
           1,
           "northeast"
          ],
          [
           "23.210",
           1,
           "southeast"
          ],
          [
           "36.700",
           0,
           "southwest"
          ],
          [
           "31.160",
           0,
           "northwest"
          ],
          [
           "28.785",
           0,
           "northeast"
          ],
          [
           "35.720",
           2,
           "northeast"
          ],
          [
           "34.500",
           0,
           "southwest"
          ],
          [
           "25.740",
           0,
           "southeast"
          ],
          [
           "27.550",
           1,
           "northwest"
          ],
          [
           "27.720",
           1,
           "southeast"
          ],
          [
           "27.600",
           0,
           "southwest"
          ],
          [
           "30.020",
           0,
           "northwest"
          ],
          [
           "27.550",
           0,
           "northeast"
          ],
          [
           "36.765",
           0,
           "northeast"
          ],
          [
           "41.470",
           4,
           "southeast"
          ],
          [
           "29.260",
           3,
           "southeast"
          ],
          [
           "35.750",
           2,
           "southeast"
          ],
          [
           "33.345",
           1,
           "northeast"
          ],
          [
           "29.920",
           1,
           "southeast"
          ],
          [
           "27.835",
           0,
           "northwest"
          ],
          [
           "23.180",
           0,
           "northwest"
          ],
          [
           "25.600",
           0,
           "southwest"
          ],
          [
           "27.700",
           0,
           "southwest"
          ],
          [
           "35.245",
           0,
           "northeast"
          ],
          [
           "38.280",
           0,
           "southeast"
          ],
          [
           "27.600",
           0,
           "southwest"
          ],
          [
           "43.890",
           3,
           "southeast"
          ],
          [
           "29.830",
           3,
           "northwest"
          ],
          [
           "41.910",
           0,
           "southeast"
          ],
          [
           "20.790",
           0,
           "southeast"
          ],
          [
           "32.300",
           2,
           "northeast"
          ],
          [
           "30.500",
           1,
           "southwest"
          ],
          [
           "26.400",
           1,
           "southwest"
          ],
          [
           "21.890",
           2,
           "southeast"
          ],
          [
           "30.780",
           1,
           "northeast"
          ],
          [
           "32.300",
           3,
           "northeast"
          ],
          [
           "24.985",
           2,
           "northwest"
          ],
          [
           "32.015",
           2,
           "northwest"
          ],
          [
           "30.400",
           3,
           "northeast"
          ],
          [
           "21.090",
           0,
           "northwest"
          ],
          [
           "22.230",
           0,
           "northeast"
          ],
          [
           "33.155",
           1,
           "northeast"
          ],
          [
           "33.330",
           0,
           "southeast"
          ],
          [
           "30.115",
           3,
           "northwest"
          ],
          [
           "31.460",
           1,
           "southeast"
          ],
          [
           "33.000",
           0,
           "southeast"
          ],
          [
           "43.340",
           2,
           "southeast"
          ],
          [
           "22.135",
           2,
           "northeast"
          ],
          [
           "34.400",
           0,
           "southwest"
          ],
          [
           "39.050",
           0,
           "southeast"
          ],
          [
           "25.365",
           2,
           "northwest"
          ],
          [
           "22.610",
           0,
           "northwest"
          ],
          [
           "30.210",
           3,
           "northwest"
          ],
          [
           "35.625",
           4,
           "northeast"
          ],
          [
           "37.430",
           0,
           "northwest"
          ],
          [
           "31.445",
           1,
           "northeast"
          ],
          [
           "31.350",
           1,
           "northeast"
          ],
          [
           "32.300",
           2,
           "northeast"
          ],
          [
           "19.855",
           0,
           "northwest"
          ],
          [
           "34.400",
           3,
           "southwest"
          ],
          [
           "31.020",
           0,
           "southeast"
          ],
          [
           "25.600",
           2,
           "southwest"
          ],
          [
           "38.170",
           0,
           "southeast"
          ],
          [
           "20.600",
           0,
           "southwest"
          ],
          [
           "47.520",
           1,
           "southeast"
          ],
          [
           "32.965",
           0,
           "northwest"
          ],
          [
           "32.300",
           3,
           "northwest"
          ],
          [
           "20.400",
           0,
           "southwest"
          ],
          [
           "38.380",
           2,
           "northeast"
          ],
          [
           "24.310",
           0,
           "southeast"
          ],
          [
           "23.600",
           1,
           "southwest"
          ],
          [
           "21.120",
           3,
           "southeast"
          ],
          [
           "30.030",
           1,
           "southeast"
          ],
          [
           "17.480",
           0,
           "northwest"
          ],
          [
           "23.900",
           5,
           "southwest"
          ],
          [
           "35.150",
           0,
           "northwest"
          ],
          [
           "35.640",
           1,
           "southeast"
          ],
          [
           "34.100",
           0,
           "southeast"
          ],
          [
           "39.160",
           1,
           "southeast"
          ],
          [
           "30.590",
           0,
           "northeast"
          ],
          [
           "30.200",
           2,
           "southwest"
          ],
          [
           "24.310",
           5,
           "southeast"
          ],
          [
           "27.265",
           1,
           "northeast"
          ],
          [
           "29.165",
           0,
           "northeast"
          ],
          [
           "16.815",
           1,
           "northeast"
          ],
          [
           "30.400",
           3,
           "northwest"
          ],
          [
           "33.100",
           0,
           "southwest"
          ],
          [
           "20.235",
           2,
           "northwest"
          ],
          [
           "26.900",
           0,
           "southwest"
          ],
          [
           "30.500",
           0,
           "southwest"
          ],
          [
           "28.595",
           1,
           "northwest"
          ],
          [
           "33.110",
           3,
           "southeast"
          ],
          [
           "31.730",
           0,
           "northeast"
          ],
          [
           "28.900",
           3,
           "southwest"
          ],
          [
           "46.750",
           5,
           "southeast"
          ],
          [
           "29.450",
           0,
           "northeast"
          ],
          [
           "32.680",
           1,
           "northwest"
          ],
          [
           "43.010",
           0,
           "southeast"
          ],
          [
           "36.520",
           1,
           "southeast"
          ],
          [
           "33.100",
           0,
           "southwest"
          ],
          [
           "29.640",
           0,
           "northeast"
          ],
          [
           "25.650",
           0,
           "northwest"
          ],
          [
           "29.600",
           0,
           "southwest"
          ],
          [
           "38.600",
           1,
           "southwest"
          ],
          [
           "29.600",
           4,
           "southwest"
          ],
          [
           "24.130",
           1,
           "northwest"
          ],
          [
           "23.400",
           0,
           "southwest"
          ],
          [
           "29.735",
           0,
           "northwest"
          ],
          [
           "46.530",
           2,
           "southeast"
          ],
          [
           "37.400",
           0,
           "southwest"
          ],
          [
           "30.140",
           2,
           "southeast"
          ],
          [
           "30.495",
           0,
           "northwest"
          ],
          [
           "39.600",
           0,
           "southwest"
          ],
          [
           "33.000",
           3,
           "southeast"
          ],
          [
           "36.630",
           3,
           "southeast"
          ],
          [
           "38.095",
           2,
           "northeast"
          ],
          [
           "25.935",
           0,
           "northeast"
          ],
          [
           "25.175",
           0,
           "northwest"
          ],
          [
           "28.700",
           1,
           "southwest"
          ],
          [
           "33.820",
           2,
           "northwest"
          ],
          [
           "24.320",
           1,
           "northeast"
          ],
          [
           "24.090",
           1,
           "southeast"
          ],
          [
           "32.670",
           0,
           "southeast"
          ],
          [
           "30.115",
           0,
           "northeast"
          ],
          [
           "29.800",
           0,
           "southwest"
          ],
          [
           "33.345",
           0,
           "northeast"
          ],
          [
           "35.625",
           0,
           "northwest"
          ],
          [
           "36.850",
           0,
           "southeast"
          ],
          [
           "32.560",
           0,
           "southeast"
          ],
          [
           "41.325",
           3,
           "northwest"
          ],
          [
           "37.510",
           2,
           "southeast"
          ],
          [
           "31.350",
           0,
           "southeast"
          ],
          [
           "39.500",
           1,
           "southwest"
          ],
          [
           "34.300",
           3,
           "southwest"
          ],
          [
           "31.065",
           0,
           "northeast"
          ],
          [
           "21.470",
           3,
           "northwest"
          ],
          [
           "28.700",
           0,
           "southwest"
          ],
          [
           "31.160",
           1,
           "northwest"
          ],
          [
           "32.900",
           0,
           "southwest"
          ],
          [
           "25.080",
           0,
           "southeast"
          ],
          [
           "25.080",
           0,
           "northeast"
          ],
          [
           "43.400",
           0,
           "southwest"
          ],
          [
           "27.930",
           0,
           "northeast"
          ],
          [
           "23.600",
           2,
           "southwest"
          ],
          [
           "28.700",
           2,
           "southwest"
          ],
          [
           "23.980",
           2,
           "southeast"
          ],
          [
           "39.200",
           0,
           "southwest"
          ],
          [
           "26.030",
           0,
           "northeast"
          ],
          [
           "28.930",
           1,
           "southeast"
          ],
          [
           "30.875",
           3,
           "northwest"
          ],
          [
           "31.350",
           1,
           "northwest"
          ],
          [
           "23.750",
           2,
           "northwest"
          ],
          [
           "25.270",
           0,
           "northeast"
          ],
          [
           "28.700",
           0,
           "southwest"
          ],
          [
           "32.110",
           1,
           "northeast"
          ],
          [
           "33.660",
           0,
           "southeast"
          ],
          [
           "22.420",
           0,
           "northeast"
          ],
          [
           "30.400",
           0,
           "southwest"
          ],
          [
           "35.700",
           0,
           "southwest"
          ],
          [
           "35.310",
           1,
           "southeast"
          ],
          [
           "30.495",
           2,
           "northwest"
          ],
          [
           "31.000",
           1,
           "southwest"
          ],
          [
           "30.875",
           0,
           "northeast"
          ],
          [
           "27.360",
           0,
           "northeast"
          ],
          [
           "44.220",
           0,
           "southeast"
          ],
          [
           "33.915",
           0,
           "northeast"
          ],
          [
           "37.730",
           0,
           "southeast"
          ],
          [
           "33.880",
           0,
           "southeast"
          ],
          [
           "30.590",
           2,
           "northwest"
          ],
          [
           "25.800",
           1,
           "southwest"
          ],
          [
           "39.425",
           1,
           "northeast"
          ],
          [
           "25.460",
           0,
           "northeast"
          ],
          [
           "31.730",
           0,
           "northeast"
          ],
          [
           "29.700",
           2,
           "southeast"
          ],
          [
           "36.190",
           0,
           "southeast"
          ],
          [
           "40.480",
           0,
           "southeast"
          ],
          [
           "28.025",
           1,
           "northeast"
          ],
          [
           "38.900",
           3,
           "southwest"
          ],
          [
           "30.200",
           2,
           "southwest"
          ],
          [
           "28.050",
           1,
           "southeast"
          ],
          [
           "31.350",
           0,
           "southeast"
          ],
          [
           "38.000",
           3,
           "southwest"
          ],
          [
           "31.790",
           2,
           "southeast"
          ],
          [
           "36.300",
           0,
           "southeast"
          ],
          [
           "30.210",
           0,
           "northwest"
          ],
          [
           "35.435",
           0,
           "northeast"
          ],
          [
           "46.700",
           2,
           "southwest"
          ],
          [
           "28.595",
           0,
           "northeast"
          ],
          [
           "30.800",
           0,
           "southwest"
          ],
          [
           "28.930",
           0,
           "southeast"
          ],
          [
           "21.400",
           0,
           "southwest"
          ],
          [
           "31.730",
           2,
           "northwest"
          ],
          [
           "41.325",
           0,
           "northeast"
          ],
          [
           "23.800",
           2,
           "southwest"
          ],
          [
           "33.440",
           1,
           "northeast"
          ],
          [
           "34.210",
           0,
           "southeast"
          ],
          [
           "35.530",
           0,
           "northwest"
          ],
          [
           "19.950",
           2,
           "northwest"
          ],
          [
           "32.680",
           0,
           "northeast"
          ],
          [
           "30.500",
           0,
           "southwest"
          ],
          [
           "44.770",
           1,
           "southeast"
          ],
          [
           "32.120",
           2,
           "southeast"
          ],
          [
           "30.495",
           0,
           "northwest"
          ],
          [
           "40.565",
           1,
           "northwest"
          ],
          [
           "30.590",
           2,
           "northwest"
          ],
          [
           "31.900",
           5,
           "southwest"
          ],
          [
           "29.100",
           0,
           "southwest"
          ],
          [
           "37.290",
           1,
           "southeast"
          ],
          [
           "43.120",
           2,
           "southeast"
          ],
          [
           "36.860",
           1,
           "northeast"
          ],
          [
           "34.295",
           2,
           "northeast"
          ],
          [
           "27.170",
           0,
           "northwest"
          ],
          [
           "26.840",
           0,
           "southeast"
          ],
          [
           "30.200",
           1,
           "southwest"
          ],
          [
           "23.465",
           0,
           "northeast"
          ],
          [
           "25.460",
           1,
           "northeast"
          ],
          [
           "45.430",
           2,
           "southeast"
          ],
          [
           "23.650",
           1,
           "southeast"
          ],
          [
           "20.700",
           0,
           "southwest"
          ],
          [
           "28.270",
           1,
           "southeast"
          ],
          [
           "20.235",
           3,
           "northeast"
          ],
          [
           "35.910",
           0,
           "northeast"
          ],
          [
           "30.690",
           1,
           "southeast"
          ],
          [
           "29.000",
           0,
           "southwest"
          ],
          [
           "19.570",
           1,
           "northwest"
          ],
          [
           "31.130",
           2,
           "southeast"
          ],
          [
           "40.260",
           0,
           "southeast"
          ],
          [
           "33.725",
           1,
           "northeast"
          ],
          [
           "29.480",
           2,
           "southeast"
          ],
          [
           "33.250",
           1,
           "northeast"
          ],
          [
           "32.600",
           2,
           "southwest"
          ],
          [
           "37.525",
           2,
           "northwest"
          ],
          [
           "39.160",
           0,
           "southeast"
          ],
          [
           "31.635",
           0,
           "northwest"
          ],
          [
           "25.300",
           0,
           "southwest"
          ],
          [
           "39.050",
           3,
           "southeast"
          ],
          [
           "34.100",
           0,
           "southeast"
          ],
          [
           "25.175",
           0,
           "northeast"
          ],
          [
           "26.980",
           2,
           "northeast"
          ],
          [
           "29.370",
           1,
           "southeast"
          ],
          [
           "34.800",
           2,
           "southwest"
          ],
          [
           "33.155",
           0,
           "northeast"
          ],
          [
           "19.000",
           3,
           "northeast"
          ],
          [
           "33.000",
           0,
           "southeast"
          ],
          [
           "28.595",
           0,
           "northeast"
          ],
          [
           "37.100",
           0,
           "southwest"
          ],
          [
           "31.400",
           1,
           "southwest"
          ],
          [
           "21.300",
           1,
           "southwest"
          ],
          [
           "28.785",
           0,
           "northwest"
          ],
          [
           "26.030",
           0,
           "northwest"
          ],
          [
           "28.880",
           3,
           "northeast"
          ],
          [
           "42.460",
           1,
           "southeast"
          ],
          [
           "38.000",
           0,
           "southwest"
          ],
          [
           "36.100",
           1,
           "southwest"
          ],
          [
           "29.300",
           0,
           "southwest"
          ],
          [
           "35.530",
           0,
           "southeast"
          ],
          [
           "22.705",
           2,
           "northeast"
          ],
          [
           "39.700",
           1,
           "southwest"
          ],
          [
           "38.190",
           0,
           "northeast"
          ],
          [
           "24.510",
           1,
           "northwest"
          ],
          [
           "38.095",
           2,
           "northeast"
          ],
          [
           "33.660",
           4,
           "southeast"
          ],
          [
           "42.400",
           5,
           "southwest"
          ],
          [
           "33.915",
           0,
           "northeast"
          ],
          [
           "34.960",
           3,
           "northwest"
          ],
          [
           "35.310",
           2,
           "southeast"
          ],
          [
           "30.780",
           3,
           "northeast"
          ],
          [
           "26.220",
           1,
           "northwest"
          ],
          [
           "23.370",
           3,
           "northeast"
          ],
          [
           "28.500",
           0,
           "northeast"
          ],
          [
           "32.965",
           0,
           "northeast"
          ],
          [
           "42.680",
           2,
           "southeast"
          ],
          [
           "39.600",
           1,
           "southeast"
          ],
          [
           "31.130",
           0,
           "southeast"
          ],
          [
           "36.300",
           2,
           "southeast"
          ],
          [
           "35.200",
           0,
           "southeast"
          ],
          [
           "42.400",
           1,
           "southwest"
          ],
          [
           "33.155",
           2,
           "northwest"
          ],
          [
           "35.910",
           1,
           "northeast"
          ],
          [
           "28.785",
           4,
           "northeast"
          ],
          [
           "46.530",
           3,
           "southeast"
          ],
          [
           "23.980",
           1,
           "southeast"
          ],
          [
           "31.540",
           1,
           "northeast"
          ],
          [
           "33.660",
           0,
           "southeast"
          ],
          [
           "28.700",
           1,
           "southwest"
          ],
          [
           "29.810",
           1,
           "southeast"
          ],
          [
           "31.570",
           3,
           "southeast"
          ],
          [
           "31.160",
           0,
           "northeast"
          ],
          [
           "29.700",
           0,
           "southeast"
          ],
          [
           "31.020",
           0,
           "southeast"
          ],
          [
           "21.375",
           0,
           "northwest"
          ],
          [
           "40.810",
           3,
           "southeast"
          ],
          [
           "36.100",
           3,
           "southwest"
          ],
          [
           "23.180",
           2,
           "northwest"
          ],
          [
           "17.400",
           1,
           "southwest"
          ],
          [
           "20.300",
           0,
           "southwest"
          ],
          [
           "24.320",
           0,
           "northwest"
          ],
          [
           "18.500",
           1,
           "southwest"
          ],
          [
           "26.410",
           2,
           "northeast"
          ],
          [
           "26.125",
           2,
           "northeast"
          ],
          [
           "41.690",
           0,
           "southeast"
          ],
          [
           "24.100",
           1,
           "southwest"
          ],
          [
           "27.360",
           0,
           "northeast"
          ],
          [
           "36.200",
           1,
           "southwest"
          ],
          [
           "32.395",
           1,
           "northwest"
          ],
          [
           "23.655",
           0,
           "northwest"
          ],
          [
           "34.800",
           1,
           "southwest"
          ],
          [
           "40.185",
           0,
           "northwest"
          ],
          [
           "32.300",
           2,
           "northeast"
          ],
          [
           "33.725",
           0,
           "northwest"
          ],
          [
           "39.270",
           2,
           "southeast"
          ],
          [
           "34.870",
           0,
           "southeast"
          ],
          [
           "44.745",
           0,
           "northeast"
          ],
          [
           "41.470",
           0,
           "southeast"
          ],
          [
           "26.410",
           1,
           "northwest"
          ],
          [
           "29.545",
           1,
           "northwest"
          ],
          [
           "32.900",
           2,
           "southwest"
          ],
          [
           "28.690",
           3,
           "northwest"
          ],
          [
           "30.495",
           3,
           "northeast"
          ],
          [
           "27.740",
           0,
           "northeast"
          ],
          [
           "35.200",
           1,
           "southeast"
          ],
          [
           "23.540",
           2,
           "southeast"
          ],
          [
           "30.685",
           2,
           "northwest"
          ],
          [
           "40.470",
           0,
           "northeast"
          ],
          [
           "22.600",
           0,
           "southwest"
          ],
          [
           "28.900",
           0,
           "southwest"
          ],
          [
           "22.610",
           1,
           "northwest"
          ],
          [
           "24.320",
           1,
           "northwest"
          ],
          [
           "36.670",
           2,
           "northwest"
          ],
          [
           "33.440",
           0,
           "northwest"
          ],
          [
           "40.660",
           0,
           "northeast"
          ],
          [
           "36.600",
           3,
           "southwest"
          ],
          [
           "37.400",
           0,
           "southwest"
          ],
          [
           "35.400",
           0,
           "southwest"
          ],
          [
           "27.075",
           1,
           "northeast"
          ],
          [
           "28.405",
           1,
           "northwest"
          ],
          [
           "40.280",
           0,
           "northeast"
          ],
          [
           "36.080",
           1,
           "southeast"
          ],
          [
           "21.400",
           1,
           "southwest"
          ],
          [
           "30.100",
           3,
           "southwest"
          ],
          [
           "27.265",
           1,
           "northeast"
          ],
          [
           "32.100",
           3,
           "southwest"
          ],
          [
           "34.770",
           1,
           "northwest"
          ],
          [
           "23.700",
           2,
           "southwest"
          ],
          [
           "24.035",
           2,
           "northeast"
          ],
          [
           "26.620",
           0,
           "southeast"
          ],
          [
           "26.410",
           0,
           "northwest"
          ],
          [
           "30.115",
           1,
           "northwest"
          ],
          [
           "27.000",
           2,
           "southwest"
          ],
          [
           "21.755",
           0,
           "northwest"
          ],
          [
           "36.000",
           1,
           "southwest"
          ],
          [
           "30.875",
           0,
           "northwest"
          ],
          [
           "28.975",
           0,
           "northwest"
          ],
          [
           "37.905",
           0,
           "northwest"
          ],
          [
           "22.770",
           0,
           "southeast"
          ],
          [
           "33.630",
           4,
           "northeast"
          ],
          [
           "27.645",
           2,
           "northeast"
          ],
          [
           "22.800",
           3,
           "northeast"
          ],
          [
           "37.430",
           3,
           "northeast"
          ],
          [
           "34.580",
           2,
           "northeast"
          ],
          [
           "35.200",
           1,
           "southwest"
          ],
          [
           "26.030",
           0,
           "northeast"
          ],
          [
           "25.175",
           2,
           "northeast"
          ],
          [
           "31.825",
           0,
           "northwest"
          ],
          [
           "32.300",
           1,
           "southwest"
          ],
          [
           "29.000",
           1,
           "southwest"
          ],
          [
           "39.700",
           0,
           "southwest"
          ],
          [
           "19.475",
           2,
           "northwest"
          ],
          [
           "36.100",
           3,
           "southwest"
          ],
          [
           "26.700",
           2,
           "southwest"
          ],
          [
           "36.480",
           0,
           "northeast"
          ],
          [
           "34.200",
           2,
           "northwest"
          ],
          [
           "33.330",
           3,
           "southeast"
          ],
          [
           "32.300",
           2,
           "northwest"
          ],
          [
           "39.805",
           0,
           "northeast"
          ],
          [
           "34.320",
           3,
           "southeast"
          ],
          [
           "28.880",
           0,
           "northwest"
          ],
          [
           "41.140",
           0,
           "southeast"
          ],
          [
           "35.970",
           1,
           "southeast"
          ],
          [
           "29.260",
           1,
           "southeast"
          ],
          [
           "27.700",
           3,
           "southwest"
          ],
          [
           "36.955",
           0,
           "northeast"
          ],
          [
           "36.860",
           0,
           "northwest"
          ],
          [
           "22.515",
           3,
           "northeast"
          ],
          [
           "29.920",
           0,
           "southeast"
          ],
          [
           "41.800",
           0,
           "southeast"
          ],
          [
           "27.600",
           0,
           "southwest"
          ],
          [
           "23.180",
           0,
           "northeast"
          ],
          [
           "31.920",
           2,
           "northwest"
          ],
          [
           "44.220",
           2,
           "southeast"
          ],
          [
           "22.895",
           1,
           "northeast"
          ],
          [
           "33.100",
           0,
           "southwest"
          ],
          [
           "26.180",
           1,
           "southeast"
          ],
          [
           "35.970",
           0,
           "southeast"
          ],
          [
           "22.300",
           1,
           "southwest"
          ],
          [
           "26.510",
           0,
           "southeast"
          ],
          [
           "35.815",
           0,
           "northwest"
          ],
          [
           "41.420",
           1,
           "northwest"
          ],
          [
           "36.575",
           0,
           "northwest"
          ],
          [
           "30.140",
           0,
           "southeast"
          ],
          [
           "25.840",
           1,
           "northeast"
          ],
          [
           "30.800",
           3,
           "southwest"
          ],
          [
           "42.940",
           3,
           "northwest"
          ],
          [
           "21.010",
           2,
           "southeast"
          ],
          [
           "22.515",
           2,
           "northeast"
          ],
          [
           "34.430",
           2,
           "southeast"
          ],
          [
           "31.460",
           0,
           "southeast"
          ],
          [
           "24.225",
           0,
           "northwest"
          ],
          [
           "37.100",
           3,
           "southwest"
          ],
          [
           "33.700",
           1,
           "southwest"
          ],
          [
           "17.670",
           0,
           "northwest"
          ],
          [
           "31.130",
           0,
           "southeast"
          ],
          [
           "29.810",
           2,
           "southeast"
          ],
          [
           "24.320",
           0,
           "northwest"
          ],
          [
           "31.825",
           2,
           "northeast"
          ],
          [
           "21.850",
           1,
           "northwest"
          ],
          [
           "33.100",
           0,
           "southwest"
          ],
          [
           "25.840",
           0,
           "northwest"
          ],
          [
           "23.845",
           2,
           "northwest"
          ],
          [
           "34.390",
           0,
           "northwest"
          ],
          [
           "33.820",
           1,
           "northwest"
          ],
          [
           "35.970",
           2,
           "southeast"
          ],
          [
           "31.500",
           0,
           "southwest"
          ],
          [
           "28.310",
           0,
           "northeast"
          ],
          [
           "23.465",
           2,
           "northeast"
          ],
          [
           "31.350",
           0,
           "northwest"
          ],
          [
           "31.100",
           0,
           "southwest"
          ],
          [
           "24.700",
           0,
           "northeast"
          ],
          [
           "30.495",
           0,
           "northeast"
          ],
          [
           "34.200",
           1,
           "southwest"
          ],
          [
           "50.380",
           1,
           "southeast"
          ],
          [
           "24.100",
           0,
           "southwest"
          ],
          [
           "32.775",
           0,
           "northwest"
          ],
          [
           "32.300",
           2,
           "northwest"
          ],
          [
           "23.750",
           2,
           "northeast"
          ],
          [
           "29.600",
           0,
           "southwest"
          ],
          [
           "32.230",
           1,
           "southeast"
          ],
          [
           "28.100",
           0,
           "southwest"
          ],
          [
           "28.000",
           3,
           "southwest"
          ],
          [
           "33.535",
           2,
           "northwest"
          ],
          [
           "19.855",
           0,
           "northeast"
          ],
          [
           "25.400",
           0,
           "southwest"
          ],
          [
           "29.900",
           2,
           "southwest"
          ],
          [
           "37.290",
           0,
           "southeast"
          ],
          [
           "43.700",
           1,
           "southwest"
          ],
          [
           "23.655",
           0,
           "northeast"
          ],
          [
           "24.300",
           3,
           "southwest"
          ],
          [
           "36.200",
           0,
           "southwest"
          ],
          [
           "29.480",
           1,
           "southeast"
          ],
          [
           "24.860",
           0,
           "southeast"
          ],
          [
           "30.100",
           1,
           "southwest"
          ],
          [
           "21.850",
           3,
           "northeast"
          ],
          [
           "28.120",
           0,
           "northwest"
          ],
          [
           "27.100",
           1,
           "southwest"
          ],
          [
           "33.440",
           5,
           "southeast"
          ],
          [
           "28.800",
           1,
           "southwest"
          ],
          [
           "29.500",
           2,
           "southwest"
          ],
          [
           "34.800",
           3,
           "southwest"
          ],
          [
           "27.360",
           1,
           "northwest"
          ],
          [
           "22.135",
           0,
           "northeast"
          ],
          [
           "26.695",
           4,
           "northwest"
          ],
          [
           "30.020",
           0,
           "northwest"
          ],
          [
           "39.500",
           0,
           "southwest"
          ],
          [
           "33.630",
           1,
           "northwest"
          ],
          [
           "29.040",
           4,
           "southeast"
          ],
          [
           "24.035",
           0,
           "northeast"
          ],
          [
           "32.110",
           0,
           "northeast"
          ],
          [
           "44.000",
           0,
           "southwest"
          ],
          [
           "25.555",
           1,
           "northwest"
          ],
          [
           "40.260",
           0,
           "southeast"
          ],
          [
           "22.515",
           0,
           "northwest"
          ],
          [
           "22.515",
           0,
           "northeast"
          ],
          [
           "27.265",
           3,
           "northeast"
          ],
          [
           "36.850",
           0,
           "southeast"
          ],
          [
           "35.100",
           0,
           "southwest"
          ],
          [
           "29.355",
           2,
           "northeast"
          ],
          [
           "32.585",
           3,
           "northeast"
          ],
          [
           "32.340",
           1,
           "southeast"
          ],
          [
           "39.800",
           3,
           "southwest"
          ],
          [
           "28.310",
           1,
           "northwest"
          ],
          [
           "26.695",
           3,
           "northwest"
          ],
          [
           "27.500",
           1,
           "southwest"
          ],
          [
           "24.605",
           2,
           "northwest"
          ],
          [
           "33.990",
           0,
           "southeast"
          ],
          [
           "28.200",
           0,
           "southwest"
          ],
          [
           "34.210",
           1,
           "southeast"
          ],
          [
           "25.000",
           0,
           "southwest"
          ],
          [
           "33.200",
           0,
           "southwest"
          ],
          [
           "31.000",
           1,
           "southwest"
          ],
          [
           "35.815",
           0,
           "northwest"
          ],
          [
           "23.200",
           0,
           "southwest"
          ],
          [
           "32.110",
           2,
           "northeast"
          ],
          [
           "23.400",
           2,
           "southwest"
          ],
          [
           "20.100",
           1,
           "southwest"
          ],
          [
           "39.160",
           0,
           "southeast"
          ],
          [
           "34.210",
           1,
           "southeast"
          ],
          [
           "46.530",
           1,
           "southeast"
          ],
          [
           "32.500",
           1,
           "southwest"
          ],
          [
           "25.800",
           5,
           "southwest"
          ],
          [
           "35.300",
           0,
           "southwest"
          ],
          [
           "37.180",
           2,
           "southeast"
          ],
          [
           "27.500",
           0,
           "southwest"
          ],
          [
           "29.735",
           2,
           "northeast"
          ],
          [
           "24.225",
           5,
           "northwest"
          ],
          [
           "26.180",
           2,
           "southeast"
          ],
          [
           "29.480",
           0,
           "southeast"
          ],
          [
           "23.210",
           0,
           "southeast"
          ],
          [
           "46.090",
           1,
           "southeast"
          ],
          [
           "40.185",
           0,
           "northeast"
          ],
          [
           "22.610",
           0,
           "northwest"
          ],
          [
           "39.930",
           0,
           "southeast"
          ],
          [
           "35.800",
           1,
           "southwest"
          ],
          [
           "35.800",
           2,
           "southwest"
          ],
          [
           "31.255",
           0,
           "northwest"
          ],
          [
           "18.335",
           0,
           "northeast"
          ],
          [
           "28.405",
           1,
           "northwest"
          ],
          [
           "39.490",
           1,
           "southeast"
          ],
          [
           "26.790",
           1,
           "northwest"
          ],
          [
           "36.670",
           1,
           "northwest"
          ],
          [
           "39.615",
           1,
           "northwest"
          ],
          [
           "25.900",
           0,
           "southwest"
          ],
          [
           "35.200",
           1,
           "southeast"
          ],
          [
           "24.795",
           3,
           "northeast"
          ],
          [
           "36.765",
           2,
           "northwest"
          ],
          [
           "27.100",
           1,
           "southwest"
          ],
          [
           "25.365",
           1,
           "northwest"
          ],
          [
           "25.745",
           2,
           "northeast"
          ],
          [
           "34.320",
           5,
           "southeast"
          ],
          [
           "28.160",
           3,
           "southeast"
          ],
          [
           "23.560",
           0,
           "northeast"
          ],
          [
           "20.235",
           0,
           "northwest"
          ],
          [
           "40.500",
           0,
           "southwest"
          ],
          [
           "35.420",
           0,
           "southeast"
          ],
          [
           "40.150",
           0,
           "southeast"
          ],
          [
           "29.150",
           1,
           "southeast"
          ],
          [
           "39.995",
           3,
           "northeast"
          ],
          [
           "29.920",
           0,
           "southeast"
          ],
          [
           "25.460",
           1,
           "northeast"
          ],
          [
           "21.375",
           0,
           "northeast"
          ],
          [
           "30.590",
           1,
           "northeast"
          ],
          [
           "30.115",
           5,
           "northeast"
          ],
          [
           "25.800",
           1,
           "southwest"
          ],
          [
           "30.115",
           3,
           "northwest"
          ],
          [
           "27.645",
           1,
           "northwest"
          ],
          [
           "34.675",
           0,
           "northeast"
          ],
          [
           "19.800",
           1,
           "southwest"
          ],
          [
           "27.835",
           2,
           "northeast"
          ],
          [
           "31.600",
           2,
           "southwest"
          ],
          [
           "28.270",
           1,
           "southeast"
          ],
          [
           "23.275",
           3,
           "northeast"
          ],
          [
           "34.100",
           3,
           "southwest"
          ],
          [
           "36.850",
           0,
           "southeast"
          ],
          [
           "36.290",
           3,
           "northeast"
          ],
          [
           "26.885",
           0,
           "northwest"
          ],
          [
           "25.800",
           0,
           "southwest"
          ],
          [
           "29.600",
           0,
           "southwest"
          ],
          [
           "19.190",
           1,
           "northeast"
          ],
          [
           "31.730",
           2,
           "northwest"
          ],
          [
           "29.260",
           2,
           "northeast"
          ],
          [
           "24.985",
           2,
           "northeast"
          ],
          [
           "27.740",
           1,
           "northeast"
          ],
          [
           "22.800",
           0,
           "southwest"
          ],
          [
           "33.330",
           4,
           "southeast"
          ],
          [
           "32.300",
           1,
           "northwest"
          ],
          [
           "27.600",
           0,
           "southwest"
          ],
          [
           "25.460",
           0,
           "northwest"
          ],
          [
           "24.605",
           1,
           "northwest"
          ],
          [
           "34.200",
           2,
           "southwest"
          ],
          [
           "35.815",
           3,
           "northwest"
          ],
          [
           "32.680",
           2,
           "northwest"
          ],
          [
           "37.000",
           0,
           "southwest"
          ],
          [
           "23.320",
           1,
           "southeast"
          ],
          [
           "45.320",
           1,
           "southeast"
          ],
          [
           "34.600",
           0,
           "southwest"
          ],
          [
           "18.715",
           0,
           "northwest"
          ],
          [
           "31.600",
           0,
           "southwest"
          ],
          [
           "17.290",
           2,
           "northeast"
          ],
          [
           "27.930",
           0,
           "northeast"
          ],
          [
           "38.380",
           0,
           "northwest"
          ],
          [
           "23.000",
           3,
           "southwest"
          ],
          [
           "28.880",
           0,
           "northeast"
          ],
          [
           "27.265",
           2,
           "northwest"
          ],
          [
           "23.085",
           0,
           "northeast"
          ],
          [
           "25.800",
           0,
           "southwest"
          ],
          [
           "35.245",
           1,
           "northeast"
          ],
          [
           "25.080",
           0,
           "northeast"
          ],
          [
           "22.515",
           1,
           "northwest"
          ],
          [
           "36.955",
           1,
           "northwest"
          ],
          [
           "26.410",
           0,
           "northeast"
          ],
          [
           "29.830",
           1,
           "northeast"
          ],
          [
           "21.470",
           0,
           "northwest"
          ],
          [
           "27.645",
           0,
           "northwest"
          ],
          [
           "28.900",
           0,
           "southwest"
          ],
          [
           "31.790",
           0,
           "southeast"
          ],
          [
           "39.490",
           0,
           "southeast"
          ],
          [
           "33.820",
           1,
           "northwest"
          ],
          [
           "32.010",
           0,
           "southeast"
          ],
          [
           "27.940",
           1,
           "southeast"
          ],
          [
           "28.595",
           3,
           "northwest"
          ],
          [
           "25.600",
           4,
           "southwest"
          ],
          [
           "25.300",
           1,
           "southwest"
          ],
          [
           "37.290",
           2,
           "southeast"
          ],
          [
           "42.655",
           0,
           "northeast"
          ],
          [
           "21.660",
           1,
           "northwest"
          ],
          [
           "31.900",
           1,
           "southeast"
          ],
          [
           "31.445",
           0,
           "northeast"
          ],
          [
           "31.255",
           0,
           "northwest"
          ],
          [
           "28.880",
           2,
           "northeast"
          ],
          [
           "18.335",
           0,
           "northeast"
          ],
          [
           "29.590",
           1,
           "southeast"
          ],
          [
           "32.000",
           1,
           "southwest"
          ],
          [
           "26.030",
           0,
           "northeast"
          ],
          [
           "33.660",
           3,
           "southeast"
          ],
          [
           "21.780",
           2,
           "southeast"
          ],
          [
           "27.835",
           1,
           "northwest"
          ],
          [
           "19.950",
           1,
           "northwest"
          ],
          [
           "31.500",
           1,
           "southwest"
          ],
          [
           "30.495",
           2,
           "northwest"
          ],
          [
           "28.975",
           0,
           "northeast"
          ],
          [
           "31.540",
           0,
           "northwest"
          ],
          [
           "47.740",
           1,
           "southeast"
          ],
          [
           "22.100",
           0,
           "southwest"
          ],
          [
           "29.830",
           0,
           "northeast"
          ],
          [
           "32.700",
           3,
           "southwest"
          ],
          [
           "33.700",
           4,
           "southwest"
          ],
          [
           "31.350",
           4,
           "northeast"
          ],
          [
           "33.770",
           0,
           "southeast"
          ],
          [
           "30.875",
           0,
           "northeast"
          ],
          [
           "33.990",
           1,
           "southeast"
          ],
          [
           "28.600",
           3,
           "southwest"
          ],
          [
           "38.940",
           1,
           "southeast"
          ],
          [
           "36.080",
           0,
           "southeast"
          ],
          [
           "29.800",
           0,
           "southwest"
          ],
          [
           "31.240",
           0,
           "southeast"
          ],
          [
           "29.925",
           0,
           "northwest"
          ],
          [
           "26.220",
           2,
           "northwest"
          ],
          [
           "30.000",
           1,
           "southwest"
          ],
          [
           "20.350",
           3,
           "southeast"
          ],
          [
           "32.300",
           1,
           "northeast"
          ],
          [
           "26.315",
           3,
           "northwest"
          ],
          [
           "24.510",
           0,
           "northeast"
          ],
          [
           "32.670",
           1,
           "southeast"
          ],
          [
           "29.640",
           5,
           "northeast"
          ],
          [
           "19.950",
           3,
           "northwest"
          ],
          [
           "38.170",
           2,
           "southeast"
          ],
          [
           "32.395",
           1,
           "northeast"
          ],
          [
           "25.080",
           0,
           "northwest"
          ],
          [
           "29.900",
           0,
           "southwest"
          ],
          [
           "35.860",
           2,
           "southeast"
          ],
          [
           "32.800",
           1,
           "southwest"
          ],
          [
           "18.600",
           0,
           "southwest"
          ],
          [
           "23.870",
           5,
           "southeast"
          ],
          [
           "45.900",
           2,
           "southwest"
          ],
          [
           "40.280",
           0,
           "northeast"
          ],
          [
           "18.335",
           0,
           "northwest"
          ],
          [
           "33.820",
           0,
           "northwest"
          ],
          [
           "28.120",
           3,
           "northwest"
          ],
          [
           "25.000",
           1,
           "southwest"
          ],
          [
           "22.230",
           0,
           "northwest"
          ],
          [
           "30.250",
           0,
           "southeast"
          ],
          [
           "37.070",
           1,
           "southeast"
          ],
          [
           "32.600",
           3,
           "southwest"
          ],
          [
           "24.860",
           0,
           "southeast"
          ],
          [
           "32.340",
           2,
           "southeast"
          ],
          [
           "32.300",
           2,
           "southwest"
          ],
          [
           "32.775",
           3,
           "northwest"
          ],
          [
           "31.920",
           0,
           "northwest"
          ],
          [
           "21.500",
           1,
           "southwest"
          ],
          [
           "34.100",
           0,
           "southwest"
          ],
          [
           "30.305",
           0,
           "northeast"
          ],
          [
           "36.480",
           0,
           "northwest"
          ],
          [
           "35.815",
           1,
           "northwest"
          ],
          [
           "27.930",
           4,
           "northwest"
          ],
          [
           "22.135",
           3,
           "northeast"
          ],
          [
           "23.180",
           2,
           "northwest"
          ],
          [
           "30.590",
           0,
           "northeast"
          ],
          [
           "41.100",
           0,
           "southwest"
          ],
          [
           "34.580",
           1,
           "northwest"
          ],
          [
           "42.130",
           2,
           "southeast"
          ],
          [
           "38.830",
           1,
           "southeast"
          ],
          [
           "28.215",
           0,
           "northeast"
          ],
          [
           "28.310",
           1,
           "northwest"
          ],
          [
           "26.125",
           0,
           "northeast"
          ],
          [
           "40.370",
           0,
           "southeast"
          ],
          [
           "24.600",
           2,
           "southwest"
          ],
          [
           "35.200",
           2,
           "southwest"
          ],
          [
           "34.105",
           1,
           "northwest"
          ],
          [
           "41.910",
           0,
           "southeast"
          ],
          [
           "29.260",
           2,
           "northwest"
          ],
          [
           "32.110",
           2,
           "northwest"
          ],
          [
           "27.100",
           0,
           "southwest"
          ],
          [
           "27.400",
           1,
           "southwest"
          ],
          [
           "34.865",
           0,
           "northeast"
          ],
          [
           "41.325",
           1,
           "northeast"
          ],
          [
           "29.925",
           0,
           "northwest"
          ],
          [
           "30.300",
           0,
           "southwest"
          ],
          [
           "27.360",
           1,
           "northeast"
          ],
          [
           "23.560",
           2,
           "northeast"
          ],
          [
           "32.680",
           0,
           "northwest"
          ],
          [
           "28.000",
           0,
           "southwest"
          ],
          [
           "32.775",
           2,
           "northwest"
          ],
          [
           "21.755",
           1,
           "northeast"
          ],
          [
           "32.395",
           1,
           "northeast"
          ],
          [
           "36.575",
           0,
           "northwest"
          ],
          [
           "21.755",
           0,
           "northwest"
          ],
          [
           "27.930",
           3,
           "northwest"
          ],
          [
           "33.550",
           0,
           "southeast"
          ],
          [
           "29.355",
           1,
           "northwest"
          ],
          [
           "25.800",
           2,
           "southwest"
          ],
          [
           "24.320",
           2,
           "northwest"
          ],
          [
           "40.375",
           2,
           "northwest"
          ],
          [
           "32.110",
           0,
           "northwest"
          ],
          [
           "32.300",
           1,
           "northeast"
          ],
          [
           "17.860",
           1,
           "northwest"
          ],
          [
           "34.800",
           2,
           "southwest"
          ],
          [
           "37.100",
           1,
           "southwest"
          ],
          [
           "30.875",
           1,
           "northwest"
          ],
          [
           "34.100",
           2,
           "southeast"
          ],
          [
           "21.470",
           0,
           "northeast"
          ],
          [
           "33.300",
           2,
           "southwest"
          ],
          [
           "31.255",
           1,
           "northwest"
          ],
          [
           "39.140",
           0,
           "northeast"
          ],
          [
           "25.080",
           0,
           "southeast"
          ],
          [
           "37.290",
           2,
           "southeast"
          ],
          [
           "30.210",
           3,
           "northwest"
          ],
          [
           "21.945",
           1,
           "northeast"
          ],
          [
           "24.970",
           2,
           "southeast"
          ],
          [
           "25.300",
           0,
           "southeast"
          ],
          [
           "23.940",
           1,
           "northeast"
          ],
          [
           "39.820",
           1,
           "southeast"
          ],
          [
           "16.815",
           2,
           "northeast"
          ],
          [
           "37.180",
           2,
           "southeast"
          ],
          [
           "34.430",
           0,
           "southeast"
          ],
          [
           "30.305",
           0,
           "northeast"
          ],
          [
           "24.605",
           3,
           "northwest"
          ],
          [
           "23.300",
           0,
           "southwest"
          ],
          [
           "27.830",
           2,
           "southeast"
          ],
          [
           "31.065",
           0,
           "northwest"
          ],
          [
           "21.660",
           0,
           "northeast"
          ],
          [
           "28.215",
           0,
           "northwest"
          ],
          [
           "22.705",
           3,
           "northeast"
          ],
          [
           "42.130",
           1,
           "southeast"
          ],
          [
           "21.280",
           3,
           "northwest"
          ],
          [
           "33.110",
           0,
           "southeast"
          ],
          [
           "33.330",
           0,
           "southeast"
          ],
          [
           "24.300",
           5,
           "southwest"
          ],
          [
           "25.700",
           3,
           "southwest"
          ],
          [
           "29.400",
           4,
           "southwest"
          ],
          [
           "39.820",
           0,
           "southeast"
          ],
          [
           "19.800",
           0,
           "southwest"
          ],
          [
           "29.300",
           4,
           "southwest"
          ],
          [
           "27.720",
           0,
           "southeast"
          ],
          [
           "37.900",
           0,
           "southwest"
          ],
          [
           "36.385",
           3,
           "northwest"
          ],
          [
           "27.645",
           1,
           "northwest"
          ],
          [
           "37.715",
           3,
           "northwest"
          ],
          [
           "23.180",
           0,
           "northeast"
          ],
          [
           "20.520",
           0,
           "northeast"
          ],
          [
           "37.100",
           1,
           "southwest"
          ],
          [
           "28.050",
           1,
           "southeast"
          ],
          [
           "29.900",
           1,
           "southwest"
          ],
          [
           "33.345",
           2,
           "northeast"
          ],
          [
           "30.500",
           0,
           "southwest"
          ],
          [
           "33.300",
           0,
           "southwest"
          ],
          [
           "27.500",
           3,
           "southwest"
          ],
          [
           "33.915",
           1,
           "northwest"
          ],
          [
           "34.485",
           0,
           "northwest"
          ],
          [
           "25.520",
           5,
           "southeast"
          ],
          [
           "27.610",
           1,
           "southeast"
          ],
          [
           "23.700",
           0,
           "southwest"
          ],
          [
           "30.400",
           0,
           "northeast"
          ],
          [
           "29.735",
           0,
           "northwest"
          ],
          [
           "26.790",
           2,
           "northwest"
          ],
          [
           "33.330",
           0,
           "southeast"
          ],
          [
           "30.030",
           1,
           "southeast"
          ],
          [
           "24.320",
           0,
           "northeast"
          ],
          [
           "17.290",
           0,
           "northeast"
          ],
          [
           "25.900",
           1,
           "southwest"
          ],
          [
           "34.320",
           1,
           "southeast"
          ],
          [
           "19.950",
           2,
           "northeast"
          ],
          [
           "23.210",
           0,
           "southeast"
          ],
          [
           "25.745",
           3,
           "northwest"
          ],
          [
           "25.175",
           0,
           "northeast"
          ],
          [
           "22.000",
           1,
           "southwest"
          ],
          [
           "26.125",
           0,
           "northeast"
          ],
          [
           "26.510",
           2,
           "southeast"
          ],
          [
           "27.455",
           2,
           "northwest"
          ],
          [
           "25.745",
           1,
           "northwest"
          ],
          [
           "20.800",
           1,
           "southwest"
          ],
          [
           "27.720",
           0,
           "southeast"
          ],
          [
           "32.200",
           2,
           "southwest"
          ],
          [
           "26.315",
           1,
           "northwest"
          ],
          [
           "26.695",
           0,
           "northwest"
          ],
          [
           "42.900",
           1,
           "southwest"
          ],
          [
           "28.310",
           1,
           "northeast"
          ],
          [
           "20.600",
           0,
           "southwest"
          ],
          [
           "53.130",
           0,
           "southeast"
          ],
          [
           "39.710",
           4,
           "northeast"
          ],
          [
           "26.315",
           2,
           "northwest"
          ],
          [
           "31.065",
           3,
           "northwest"
          ],
          [
           "38.830",
           0,
           "southeast"
          ],
          [
           "25.935",
           1,
           "northwest"
          ],
          [
           "33.535",
           0,
           "northeast"
          ],
          [
           "32.870",
           0,
           "northeast"
          ],
          [
           "30.030",
           1,
           "southeast"
          ],
          [
           "24.225",
           2,
           "northeast"
          ],
          [
           "38.600",
           2,
           "southwest"
          ],
          [
           "25.740",
           2,
           "southeast"
          ],
          [
           "33.400",
           0,
           "southwest"
          ],
          [
           "44.700",
           3,
           "southwest"
          ],
          [
           "30.970",
           3,
           "northwest"
          ],
          [
           "31.920",
           0,
           "northeast"
          ],
          [
           "36.850",
           0,
           "southeast"
          ],
          [
           "25.800",
           0,
           "southwest"
          ]
         ],
         "hovertemplate": "smoker=no<br>Age=%{x}<br>Charges=%{y}<br>bmi=%{customdata[0]}<br>children=%{customdata[1]}<br>region=%{customdata[2]}<extra></extra>",
         "legendgroup": "no",
         "marker": {
          "color": "blue",
          "symbol": "circle"
         },
         "mode": "markers",
         "name": "no",
         "showlegend": true,
         "type": "scattergl",
         "x": [
          18,
          28,
          33,
          32,
          31,
          46,
          37,
          37,
          60,
          25,
          23,
          56,
          19,
          52,
          23,
          56,
          60,
          30,
          18,
          37,
          59,
          63,
          55,
          23,
          18,
          19,
          63,
          19,
          62,
          26,
          24,
          31,
          41,
          37,
          38,
          55,
          18,
          28,
          60,
          18,
          21,
          40,
          58,
          34,
          43,
          25,
          64,
          28,
          19,
          61,
          40,
          40,
          31,
          53,
          58,
          44,
          57,
          29,
          21,
          22,
          41,
          31,
          45,
          48,
          56,
          46,
          55,
          21,
          53,
          35,
          28,
          54,
          55,
          41,
          30,
          18,
          34,
          19,
          26,
          29,
          54,
          55,
          37,
          21,
          52,
          60,
          58,
          49,
          37,
          44,
          18,
          20,
          47,
          26,
          52,
          38,
          59,
          61,
          53,
          19,
          20,
          22,
          19,
          22,
          54,
          22,
          34,
          26,
          29,
          29,
          51,
          53,
          19,
          35,
          48,
          32,
          40,
          44,
          50,
          54,
          32,
          37,
          47,
          20,
          32,
          19,
          27,
          63,
          49,
          18,
          35,
          24,
          38,
          54,
          46,
          41,
          58,
          18,
          22,
          44,
          44,
          26,
          30,
          41,
          29,
          61,
          36,
          25,
          56,
          18,
          19,
          39,
          45,
          51,
          64,
          19,
          48,
          60,
          46,
          28,
          59,
          63,
          40,
          20,
          40,
          24,
          34,
          45,
          41,
          53,
          27,
          26,
          24,
          34,
          53,
          32,
          55,
          28,
          58,
          41,
          47,
          42,
          59,
          19,
          59,
          39,
          18,
          31,
          44,
          33,
          55,
          40,
          54,
          60,
          24,
          19,
          29,
          27,
          55,
          38,
          51,
          58,
          53,
          59,
          45,
          49,
          18,
          41,
          50,
          25,
          47,
          19,
          22,
          59,
          51,
          30,
          55,
          52,
          46,
          46,
          63,
          52,
          28,
          29,
          22,
          25,
          18,
          48,
          36,
          56,
          28,
          57,
          29,
          28,
          30,
          58,
          41,
          50,
          19,
          49,
          52,
          50,
          54,
          44,
          32,
          34,
          26,
          57,
          29,
          40,
          27,
          52,
          61,
          56,
          43,
          64,
          60,
          62,
          46,
          24,
          62,
          60,
          63,
          49,
          34,
          33,
          46,
          36,
          19,
          57,
          50,
          30,
          33,
          18,
          46,
          46,
          47,
          23,
          18,
          48,
          35,
          21,
          21,
          49,
          56,
          42,
          44,
          18,
          61,
          57,
          42,
          20,
          64,
          62,
          55,
          35,
          44,
          19,
          58,
          50,
          26,
          24,
          48,
          19,
          48,
          49,
          46,
          46,
          43,
          21,
          64,
          18,
          51,
          47,
          64,
          49,
          31,
          52,
          33,
          47,
          38,
          32,
          19,
          25,
          19,
          43,
          52,
          64,
          25,
          48,
          45,
          38,
          18,
          21,
          27,
          19,
          29,
          42,
          60,
          31,
          60,
          22,
          35,
          52,
          26,
          31,
          18,
          59,
          45,
          60,
          56,
          40,
          35,
          39,
          30,
          24,
          20,
          32,
          59,
          55,
          57,
          56,
          40,
          49,
          62,
          56,
          19,
          60,
          56,
          28,
          18,
          27,
          18,
          19,
          47,
          25,
          21,
          23,
          63,
          49,
          18,
          51,
          48,
          31,
          54,
          19,
          53,
          19,
          61,
          18,
          61,
          20,
          31,
          45,
          44,
          62,
          43,
          38,
          37,
          22,
          21,
          24,
          57,
          56,
          27,
          51,
          19,
          58,
          20,
          45,
          35,
          31,
          50,
          32,
          51,
          38,
          18,
          19,
          51,
          46,
          18,
          62,
          59,
          37,
          64,
          38,
          33,
          46,
          46,
          53,
          34,
          20,
          63,
          54,
          28,
          54,
          25,
          63,
          32,
          62,
          52,
          25,
          28,
          46,
          34,
          19,
          46,
          54,
          27,
          50,
          18,
          19,
          38,
          41,
          49,
          31,
          18,
          30,
          62,
          57,
          58,
          22,
          52,
          25,
          59,
          39,
          32,
          19,
          33,
          21,
          61,
          38,
          58,
          47,
          20,
          41,
          46,
          42,
          34,
          43,
          52,
          18,
          51,
          56,
          64,
          51,
          27,
          28,
          47,
          38,
          18,
          34,
          20,
          56,
          55,
          30,
          49,
          59,
          29,
          36,
          33,
          58,
          53,
          24,
          29,
          40,
          51,
          64,
          19,
          35,
          56,
          33,
          61,
          23,
          43,
          48,
          39,
          40,
          18,
          58,
          49,
          53,
          48,
          45,
          59,
          26,
          27,
          48,
          57,
          37,
          57,
          32,
          18,
          49,
          40,
          30,
          29,
          36,
          41,
          45,
          55,
          56,
          49,
          21,
          19,
          53,
          33,
          53,
          42,
          40,
          47,
          21,
          47,
          20,
          24,
          27,
          26,
          53,
          56,
          23,
          21,
          50,
          53,
          34,
          47,
          33,
          49,
          31,
          36,
          18,
          50,
          43,
          20,
          24,
          60,
          49,
          60,
          51,
          58,
          51,
          53,
          62,
          19,
          50,
          41,
          18,
          41,
          53,
          24,
          48,
          59,
          49,
          26,
          45,
          31,
          50,
          50,
          34,
          19,
          47,
          28,
          21,
          64,
          58,
          24,
          31,
          39,
          30,
          22,
          23,
          27,
          45,
          57,
          47,
          42,
          64,
          38,
          61,
          53,
          44,
          41,
          51,
          40,
          45,
          35,
          53,
          18,
          51,
          31,
          35,
          60,
          21,
          29,
          62,
          39,
          19,
          22,
          39,
          30,
          30,
          58,
          42,
          64,
          21,
          23,
          45,
          40,
          19,
          18,
          25,
          46,
          33,
          54,
          28,
          36,
          20,
          24,
          23,
          45,
          26,
          18,
          44,
          60,
          64,
          39,
          63,
          36,
          28,
          58,
          36,
          42,
          36,
          56,
          35,
          59,
          21,
          59,
          53,
          51,
          23,
          27,
          55,
          61,
          53,
          20,
          25,
          57,
          38,
          55,
          36,
          51,
          40,
          18,
          57,
          61,
          25,
          50,
          26,
          42,
          43,
          44,
          23,
          49,
          33,
          41,
          37,
          22,
          23,
          21,
          25,
          36,
          22,
          57,
          36,
          54,
          62,
          61,
          19,
          18,
          19,
          49,
          26,
          49,
          60,
          26,
          27,
          44,
          63,
          22,
          59,
          44,
          33,
          24,
          61,
          35,
          62,
          62,
          38,
          34,
          43,
          50,
          19,
          57,
          62,
          41,
          26,
          39,
          46,
          45,
          32,
          59,
          44,
          39,
          18,
          53,
          18,
          50,
          18,
          19,
          62,
          56,
          42,
          42,
          57,
          30,
          31,
          24,
          48,
          19,
          29,
          63,
          46,
          52,
          35,
          44,
          21,
          39,
          50,
          34,
          22,
          19,
          26,
          48,
          26,
          45,
          36,
          54,
          34,
          27,
          20,
          44,
          43,
          45,
          34,
          26,
          38,
          50,
          38,
          39,
          39,
          63,
          33,
          36,
          24,
          48,
          47,
          29,
          28,
          25,
          51,
          48,
          61,
          48,
          38,
          59,
          19,
          26,
          54,
          21,
          51,
          18,
          47,
          21,
          23,
          54,
          37,
          30,
          61,
          54,
          22,
          19,
          18,
          28,
          55,
          43,
          25,
          44,
          64,
          49,
          27,
          55,
          48,
          45,
          24,
          32,
          24,
          57,
          36,
          29,
          42,
          48,
          39,
          63,
          54,
          63,
          21,
          54,
          60,
          32,
          47,
          21,
          63,
          18,
          32,
          38,
          32,
          62,
          55,
          57,
          52,
          56,
          55,
          23,
          50,
          18,
          22,
          52,
          25,
          53,
          29,
          58,
          37,
          54,
          49,
          50,
          26,
          45,
          54,
          28,
          23,
          55,
          41,
          30,
          46,
          27,
          63,
          55,
          35,
          34,
          19,
          39,
          27,
          57,
          52,
          28,
          50,
          44,
          26,
          33,
          50,
          41,
          52,
          39,
          50,
          52,
          20,
          55,
          42,
          18,
          58,
          35,
          48,
          36,
          23,
          20,
          32,
          43,
          34,
          30,
          18,
          41,
          35,
          57,
          29,
          32,
          37,
          56,
          38,
          29,
          22,
          40,
          23,
          42,
          24,
          25,
          48,
          45,
          62,
          23,
          31,
          41,
          58,
          48,
          31,
          19,
          41,
          40,
          31,
          37,
          46,
          22,
          51,
          35,
          59,
          59,
          36,
          39,
          18,
          52,
          27,
          18,
          40,
          29,
          38,
          30,
          40,
          50,
          41,
          33,
          38,
          42,
          56,
          58,
          54,
          58,
          45,
          26,
          63,
          58,
          37,
          25,
          22,
          28,
          18,
          28,
          45,
          33,
          18,
          19,
          40,
          34,
          42,
          51,
          54,
          55,
          52,
          32,
          28,
          41,
          43,
          49,
          55,
          20,
          45,
          26,
          25,
          43,
          35,
          57,
          22,
          32,
          25,
          48,
          18,
          47,
          28,
          36,
          44,
          38,
          21,
          46,
          58,
          20,
          18,
          28,
          33,
          19,
          25,
          24,
          41,
          42,
          33,
          34,
          18,
          19,
          18,
          35,
          39,
          31,
          62,
          31,
          61,
          42,
          51,
          23,
          52,
          57,
          23,
          52,
          50,
          18,
          18,
          21
         ],
         "xaxis": "x",
         "y": [
          1725.5523,
          4449.462,
          21984.47061,
          3866.8552,
          3756.6216,
          8240.5896,
          7281.5056,
          6406.4107,
          28923.13692,
          2721.3208,
          1826.843,
          11090.7178,
          1837.237,
          10797.3362,
          2395.17155,
          10602.385,
          13228.84695,
          4149.736,
          1137.011,
          6203.90175,
          14001.1338,
          14451.83515,
          12268.63225,
          2775.19215,
          2198.18985,
          4687.797,
          13770.0979,
          1625.43375,
          15612.19335,
          2302.3,
          3046.062,
          4949.7587,
          6272.4772,
          6313.759,
          6079.6715,
          20630.28351,
          3393.35635,
          3556.9223,
          12629.8967,
          2211.13075,
          3579.8287,
          8059.6791,
          13607.36875,
          5989.52365,
          8606.2174,
          4504.6624,
          30166.61817,
          4133.64165,
          1743.214,
          14235.072,
          6389.37785,
          5920.1041,
          6799.458,
          11741.726,
          11946.6259,
          7726.854,
          11356.6609,
          3947.4131,
          1532.4697,
          2755.02095,
          6571.02435,
          4441.21315,
          7935.29115,
          11033.6617,
          11073.176,
          8026.6666,
          11082.5772,
          2026.9741,
          10942.13205,
          5729.0053,
          3766.8838,
          12105.32,
          10226.2842,
          6186.127,
          3645.0894,
          21344.8467,
          5003.853,
          2331.519,
          3877.30425,
          2867.1196,
          10825.2537,
          11881.358,
          4646.759,
          2404.7338,
          11488.31695,
          30259.99556,
          11381.3254,
          8601.3293,
          6686.4313,
          7740.337,
          1705.6245,
          2257.47525,
          10115.00885,
          3385.39915,
          9634.538,
          6082.405,
          12815.44495,
          13616.3586,
          11163.568,
          1632.56445,
          2457.21115,
          2155.6815,
          1261.442,
          2045.68525,
          27322.73386,
          2166.732,
          27375.90478,
          3490.5491,
          18157.876,
          5138.2567,
          9877.6077,
          10959.6947,
          1842.519,
          5125.2157,
          7789.635,
          6334.34355,
          7077.1894,
          6948.7008,
          19749.38338,
          10450.552,
          5152.134,
          5028.1466,
          10407.08585,
          4830.63,
          6128.79745,
          2719.27975,
          4827.90495,
          13405.3903,
          8116.68,
          1694.7964,
          5246.047,
          2855.43755,
          6455.86265,
          10436.096,
          8823.279,
          8538.28845,
          11735.87905,
          1631.8212,
          4005.4225,
          7419.4779,
          7731.4271,
          3981.9768,
          5325.651,
          6775.961,
          4922.9159,
          12557.6053,
          4883.866,
          2137.6536,
          12044.342,
          1137.4697,
          1639.5631,
          5649.715,
          8516.829,
          9644.2525,
          14901.5167,
          2130.6759,
          8871.1517,
          13012.20865,
          7147.105,
          4337.7352,
          11743.299,
          13880.949,
          6610.1097,
          1980.07,
          8162.71625,
          3537.703,
          5002.7827,
          8520.026,
          7371.772,
          10355.641,
          2483.736,
          3392.9768,
          25081.76784,
          5012.471,
          10564.8845,
          5253.524,
          11987.1682,
          2689.4954,
          24227.33724,
          7358.17565,
          9225.2564,
          7443.64305,
          14001.2867,
          1727.785,
          12333.828,
          6710.1919,
          1615.7667,
          4463.2051,
          7152.6714,
          5354.07465,
          35160.13457,
          7196.867,
          24476.47851,
          12648.7034,
          1986.9334,
          1832.094,
          4040.55825,
          4260.744,
          13047.33235,
          5400.9805,
          11520.09985,
          11837.16,
          20462.99766,
          14590.63205,
          7441.053,
          9282.4806,
          1719.4363,
          7265.7025,
          9617.66245,
          2523.1695,
          9715.841,
          2803.69785,
          2150.469,
          12928.7911,
          9855.1314,
          4237.12655,
          11879.10405,
          9625.92,
          7742.1098,
          9432.9253,
          14256.1928,
          25992.82104,
          3172.018,
          20277.80751,
          2156.7518,
          3906.127,
          1704.5681,
          9249.4952,
          6746.7425,
          12265.5069,
          4349.462,
          12646.207,
          19442.3535,
          20177.67113,
          4151.0287,
          11944.59435,
          7749.1564,
          8444.474,
          1737.376,
          8124.4084,
          9722.7695,
          8835.26495,
          10435.06525,
          7421.19455,
          4667.60765,
          4894.7533,
          24671.66334,
          11566.30055,
          2866.091,
          6600.20595,
          3561.8889,
          9144.565,
          13429.0354,
          11658.37915,
          19144.57652,
          13822.803,
          12142.5786,
          13937.6665,
          8232.6388,
          18955.22017,
          13352.0998,
          13217.0945,
          13981.85035,
          10977.2063,
          6184.2994,
          4889.9995,
          8334.45755,
          5478.0368,
          1635.73365,
          11830.6072,
          8932.084,
          3554.203,
          12404.8791,
          14133.03775,
          24603.04837,
          8944.1151,
          9620.3307,
          1837.2819,
          1607.5101,
          10043.249,
          4751.07,
          2597.779,
          3180.5101,
          9778.3472,
          13430.265,
          8017.06115,
          8116.26885,
          3481.868,
          13415.0381,
          12029.2867,
          7639.41745,
          1391.5287,
          16455.70785,
          27000.98473,
          20781.48892,
          5846.9176,
          8302.53565,
          1261.859,
          11856.4115,
          30284.64294,
          3176.8159,
          4618.0799,
          10736.87075,
          2138.0707,
          8964.06055,
          9290.1395,
          9411.005,
          7526.70645,
          8522.003,
          16586.49771,
          14988.432,
          1631.6683,
          9264.797,
          8083.9198,
          14692.66935,
          10269.46,
          3260.199,
          11396.9002,
          4185.0979,
          8539.671,
          6652.5288,
          4074.4537,
          1621.3402,
          5080.096,
          2134.9015,
          7345.7266,
          9140.951,
          14418.2804,
          2727.3951,
          8968.33,
          9788.8659,
          6555.07035,
          7323.734819,
          3167.45585,
          18804.7524,
          23082.95533,
          4906.40965,
          5969.723,
          12638.195,
          4243.59005,
          13919.8229,
          2254.7967,
          5926.846,
          12592.5345,
          2897.3235,
          4738.2682,
          1149.3959,
          28287.89766,
          7345.084,
          12730.9996,
          11454.0215,
          5910.944,
          4762.329,
          7512.267,
          4032.2407,
          1969.614,
          1769.53165,
          4686.3887,
          21797.0004,
          11881.9696,
          11840.77505,
          10601.412,
          7682.67,
          10381.4787,
          15230.32405,
          11165.41765,
          1632.03625,
          13224.693,
          12643.3778,
          23288.9284,
          2201.0971,
          2497.0383,
          2203.47185,
          1744.465,
          20878.78443,
          2534.39375,
          1534.3045,
          1824.2854,
          15555.18875,
          9304.7019,
          1622.1885,
          9880.068,
          9563.029,
          4347.02335,
          12475.3513,
          1253.936,
          10461.9794,
          1748.774,
          24513.09126,
          2196.4732,
          12574.049,
          1967.0227,
          4931.647,
          8027.968,
          8211.1002,
          13470.86,
          6837.3687,
          5974.3847,
          6796.86325,
          2643.2685,
          3077.0955,
          3044.2133,
          11455.28,
          11763.0009,
          2498.4144,
          9361.3268,
          1256.299,
          11362.755,
          27724.28875,
          8413.46305,
          5240.765,
          3857.75925,
          25656.57526,
          3994.1778,
          9866.30485,
          5397.6167,
          11482.63485,
          24059.68019,
          9861.025,
          8342.90875,
          1708.0014,
          14043.4767,
          12925.886,
          19214.70553,
          13831.1152,
          6067.12675,
          5972.378,
          8825.086,
          8233.0975,
          27346.04207,
          6196.448,
          3056.3881,
          13887.204,
          10231.4999,
          3268.84665,
          11538.421,
          3213.62205,
          13390.559,
          3972.9247,
          12957.118,
          11187.6567,
          17878.90068,
          3847.674,
          8334.5896,
          3935.1799,
          1646.4297,
          9193.8385,
          10923.9332,
          2494.022,
          9058.7303,
          2801.2588,
          2128.43105,
          6373.55735,
          7256.7231,
          11552.904,
          3761.292,
          2219.4451,
          4753.6368,
          31620.00106,
          13224.05705,
          12222.8983,
          1664.9996,
          9724.53,
          3206.49135,
          12913.9924,
          6356.2707,
          17626.23951,
          1242.816,
          4779.6023,
          3861.20965,
          13635.6379,
          5976.8311,
          11842.442,
          8428.0693,
          2566.4707,
          5709.1644,
          8823.98575,
          7640.3092,
          5594.8455,
          7441.501,
          33471.97189,
          1633.0444,
          9174.13565,
          11070.535,
          16085.1275,
          9283.562,
          3558.62025,
          4435.0942,
          8547.6913,
          6571.544,
          2207.69745,
          6753.038,
          1880.07,
          11658.11505,
          10713.644,
          3659.346,
          9182.17,
          12129.61415,
          3736.4647,
          6748.5912,
          11326.71487,
          11365.952,
          10085.846,
          1977.815,
          3366.6697,
          7173.35995,
          9391.346,
          14410.9321,
          2709.1119,
          24915.04626,
          12949.1554,
          6666.243,
          13143.86485,
          4466.6214,
          18806.14547,
          10141.1362,
          6123.5688,
          8252.2843,
          1712.227,
          12430.95335,
          9800.8882,
          10579.711,
          8280.6227,
          8527.532,
          12244.531,
          3410.324,
          4058.71245,
          26392.26029,
          14394.39815,
          6435.6237,
          22192.43711,
          5148.5526,
          1136.3994,
          8703.456,
          6500.2359,
          4837.5823,
          3943.5954,
          4399.731,
          6185.3208,
          7222.78625,
          12485.8009,
          12363.547,
          10156.7832,
          2585.269,
          1242.26,
          9863.4718,
          4766.022,
          11244.3769,
          7729.64575,
          5438.7491,
          26236.57997,
          2104.1134,
          8068.185,
          2362.22905,
          2352.96845,
          3577.999,
          3201.24515,
          29186.48236,
          10976.24575,
          3500.6123,
          2020.5523,
          9541.69555,
          9504.3103,
          5385.3379,
          8930.93455,
          5375.038,
          10264.4421,
          6113.23105,
          5469.0066,
          1727.54,
          10107.2206,
          8310.83915,
          1984.4533,
          2457.502,
          12146.971,
          9566.9909,
          13112.6048,
          10848.1343,
          12231.6136,
          9875.6804,
          11264.541,
          12979.358,
          1263.249,
          10106.13425,
          6664.68595,
          2217.6012,
          6781.3542,
          10065.413,
          4234.927,
          9447.25035,
          14007.222,
          9583.8933,
          3484.331,
          8604.48365,
          3757.8448,
          8827.2099,
          9910.35985,
          11737.84884,
          1627.28245,
          8556.907,
          3062.50825,
          1906.35825,
          14210.53595,
          11833.7823,
          17128.42608,
          5031.26955,
          7985.815,
          5428.7277,
          3925.7582,
          2416.955,
          3070.8087,
          9095.06825,
          11842.62375,
          8062.764,
          7050.642,
          14319.031,
          6933.24225,
          27941.28758,
          11150.78,
          12797.20962,
          7261.741,
          10560.4917,
          6986.697,
          7448.40395,
          5934.3798,
          9869.8102,
          1146.7966,
          9386.1613,
          4350.5144,
          6414.178,
          12741.16745,
          1917.3184,
          5209.57885,
          13457.9608,
          5662.225,
          1252.407,
          2731.9122,
          7209.4918,
          4266.1658,
          4719.52405,
          11848.141,
          7046.7222,
          14313.8463,
          2103.08,
          1815.8759,
          7731.85785,
          28476.73499,
          2136.88225,
          1131.5066,
          3309.7926,
          9414.92,
          6360.9936,
          11013.7119,
          4428.88785,
          5584.3057,
          1877.9294,
          2842.76075,
          3597.596,
          7445.918,
          2680.9493,
          1621.8827,
          8219.2039,
          12523.6048,
          16069.08475,
          6117.4945,
          13393.756,
          5266.3656,
          4719.73655,
          11743.9341,
          5377.4578,
          7160.3303,
          4402.233,
          11657.7189,
          6402.29135,
          12622.1795,
          1526.312,
          12323.936,
          10072.05505,
          9872.701,
          2438.0552,
          2974.126,
          10601.63225,
          14119.62,
          11729.6795,
          1875.344,
          18218.16139,
          10965.446,
          7151.092,
          12269.68865,
          5458.04645,
          8782.469,
          6600.361,
          1141.4451,
          11576.13,
          13129.60345,
          4391.652,
          8457.818,
          3392.3652,
          5966.8874,
          6849.026,
          8891.1395,
          2690.1138,
          26140.3603,
          6653.7886,
          6282.235,
          6311.952,
          3443.064,
          2789.0574,
          2585.85065,
          4877.98105,
          5272.1758,
          1682.597,
          11945.1327,
          7243.8136,
          10422.91665,
          13555.0049,
          13063.883,
          2221.56445,
          1634.5734,
          2117.33885,
          8688.85885,
          4661.28635,
          8125.7845,
          12644.589,
          4564.19145,
          4846.92015,
          7633.7206,
          15170.069,
          2639.0429,
          14382.70905,
          7626.993,
          5257.50795,
          2473.3341,
          13041.921,
          5245.2269,
          13451.122,
          13462.52,
          5488.262,
          4320.41085,
          6250.435,
          25333.33284,
          2913.569,
          12032.326,
          13470.8044,
          6289.7549,
          2927.0647,
          6238.298,
          10096.97,
          7348.142,
          4673.3922,
          12233.828,
          32108.66282,
          8965.79575,
          2304.0022,
          9487.6442,
          1121.8739,
          9549.5651,
          2217.46915,
          1628.4709,
          12982.8747,
          11674.13,
          7160.094,
          6358.77645,
          11534.87265,
          4527.18295,
          3875.7341,
          12609.88702,
          28468.91901,
          2730.10785,
          3353.284,
          14474.675,
          9500.57305,
          26467.09737,
          4746.344,
          7518.02535,
          3279.86855,
          8596.8278,
          10702.6424,
          4992.3764,
          2527.81865,
          1759.338,
          2322.6218,
          7804.1605,
          2902.9065,
          9704.66805,
          4889.0368,
          25517.11363,
          4500.33925,
          16796.41194,
          4915.05985,
          7624.63,
          8410.04685,
          28340.18885,
          4518.82625,
          3378.91,
          7144.86265,
          10118.424,
          5484.4673,
          7986.47525,
          7418.522,
          13887.9685,
          6551.7501,
          5267.81815,
          1972.95,
          21232.18226,
          8627.5411,
          4433.3877,
          4438.2634,
          23241.47453,
          9957.7216,
          8269.044,
          36580.28216,
          8765.249,
          5383.536,
          12124.9924,
          2709.24395,
          3987.926,
          12495.29085,
          26018.95052,
          8798.593,
          1711.0268,
          8569.8618,
          2020.177,
          21595.38229,
          9850.432,
          6877.9801,
          4137.5227,
          12950.0712,
          12094.478,
          2250.8352,
          22493.65964,
          1704.70015,
          3161.454,
          11394.06555,
          7325.0482,
          3594.17085,
          8023.13545,
          14394.5579,
          9288.0267,
          3353.4703,
          10594.50155,
          8277.523,
          17929.30337,
          2480.9791,
          4462.7218,
          1981.5819,
          11554.2236,
          6548.19505,
          5708.867,
          7045.499,
          8978.1851,
          5757.41345,
          14349.8544,
          10928.849,
          13974.45555,
          1909.52745,
          12096.6512,
          13204.28565,
          4562.8421,
          8551.347,
          2102.2647,
          15161.5344,
          11884.04858,
          4454.40265,
          5855.9025,
          4076.497,
          15019.76005,
          10796.35025,
          11353.2276,
          9748.9106,
          10577.087,
          11286.5387,
          3591.48,
          11299.343,
          4561.1885,
          1674.6323,
          23045.56616,
          3227.1211,
          11253.421,
          3471.4096,
          11363.2832,
          20420.60465,
          10338.9316,
          8988.15875,
          10493.9458,
          2904.088,
          8605.3615,
          11512.405,
          5312.16985,
          2396.0959,
          10807.4863,
          9222.4026,
          5693.4305,
          8347.1643,
          18903.49141,
          14254.6082,
          10214.636,
          5836.5204,
          14358.36437,
          1728.897,
          8582.3023,
          3693.428,
          20709.02034,
          9991.03765,
          19673.33573,
          11085.5868,
          7623.518,
          3176.2877,
          3704.3545,
          9048.0273,
          7954.517,
          27117.99378,
          6338.0756,
          9630.397,
          11289.10925,
          2261.5688,
          10791.96,
          5979.731,
          2203.73595,
          12235.8392,
          5630.45785,
          11015.1747,
          7228.21565,
          14426.07385,
          2459.7201,
          3989.841,
          7727.2532,
          5124.1887,
          18963.17192,
          2200.83085,
          7153.5539,
          5227.98875,
          10982.5013,
          4529.477,
          4670.64,
          6112.35295,
          11093.6229,
          6457.8434,
          4433.9159,
          2154.361,
          6496.886,
          2899.48935,
          7650.77375,
          2850.68375,
          2632.992,
          9447.3824,
          8603.8234,
          13844.7972,
          13126.67745,
          5327.40025,
          13725.47184,
          13019.16105,
          8671.19125,
          4134.08245,
          18838.70366,
          5699.8375,
          6393.60345,
          4934.705,
          6198.7518,
          8733.22925,
          2055.3249,
          9964.06,
          5116.5004,
          36910.60803,
          12347.172,
          5373.36425,
          23563.01618,
          1702.4553,
          10806.839,
          3956.07145,
          12890.05765,
          5415.6612,
          4058.1161,
          7537.1639,
          4718.20355,
          6593.5083,
          8442.667,
          6858.4796,
          4795.6568,
          6640.54485,
          7162.0122,
          10594.2257,
          11938.25595,
          12479.70895,
          11345.519,
          8515.7587,
          2699.56835,
          14449.8544,
          12224.35085,
          6985.50695,
          3238.4357,
          4296.2712,
          3171.6149,
          1135.9407,
          5615.369,
          9101.798,
          6059.173,
          1633.9618,
          1241.565,
          15828.82173,
          4415.1588,
          6474.013,
          11436.73815,
          11305.93455,
          30063.58055,
          10197.7722,
          4544.2348,
          3277.161,
          6770.1925,
          7337.748,
          10370.91255,
          10704.47,
          1880.487,
          8615.3,
          3292.52985,
          3021.80915,
          14478.33015,
          4747.0529,
          10959.33,
          2741.948,
          4357.04365,
          4189.1131,
          8283.6807,
          1720.3537,
          8534.6718,
          3732.6251,
          5472.449,
          7147.4728,
          7133.9025,
          1515.3449,
          9301.89355,
          11931.12525,
          1964.78,
          1708.92575,
          4340.4409,
          5261.46945,
          2710.82855,
          3208.787,
          2464.6188,
          6875.961,
          6940.90985,
          4571.41305,
          4536.259,
          11272.33139,
          1731.677,
          1163.4627,
          19496.71917,
          7201.70085,
          5425.02335,
          12981.3457,
          4239.89265,
          13143.33665,
          7050.0213,
          9377.9047,
          22395.74424,
          10325.206,
          12629.1656,
          10795.93733,
          11411.685,
          10600.5483,
          2205.9808,
          1629.8335,
          2007.945
         ],
         "yaxis": "y"
        }
       ],
       "layout": {
        "legend": {
         "title": {
          "text": "smoker"
         },
         "tracegroupgap": 0
        },
        "template": {
         "data": {
          "bar": [
           {
            "error_x": {
             "color": "#2a3f5f"
            },
            "error_y": {
             "color": "#2a3f5f"
            },
            "marker": {
             "line": {
              "color": "white",
              "width": 0.5
             },
             "pattern": {
              "fillmode": "overlay",
              "size": 10,
              "solidity": 0.2
             }
            },
            "type": "bar"
           }
          ],
          "barpolar": [
           {
            "marker": {
             "line": {
              "color": "white",
              "width": 0.5
             },
             "pattern": {
              "fillmode": "overlay",
              "size": 10,
              "solidity": 0.2
             }
            },
            "type": "barpolar"
           }
          ],
          "carpet": [
           {
            "aaxis": {
             "endlinecolor": "#2a3f5f",
             "gridcolor": "#C8D4E3",
             "linecolor": "#C8D4E3",
             "minorgridcolor": "#C8D4E3",
             "startlinecolor": "#2a3f5f"
            },
            "baxis": {
             "endlinecolor": "#2a3f5f",
             "gridcolor": "#C8D4E3",
             "linecolor": "#C8D4E3",
             "minorgridcolor": "#C8D4E3",
             "startlinecolor": "#2a3f5f"
            },
            "type": "carpet"
           }
          ],
          "choropleth": [
           {
            "colorbar": {
             "outlinewidth": 0,
             "ticks": ""
            },
            "type": "choropleth"
           }
          ],
          "contour": [
           {
            "colorbar": {
             "outlinewidth": 0,
             "ticks": ""
            },
            "colorscale": [
             [
              0,
              "#0d0887"
             ],
             [
              0.1111111111111111,
              "#46039f"
             ],
             [
              0.2222222222222222,
              "#7201a8"
             ],
             [
              0.3333333333333333,
              "#9c179e"
             ],
             [
              0.4444444444444444,
              "#bd3786"
             ],
             [
              0.5555555555555556,
              "#d8576b"
             ],
             [
              0.6666666666666666,
              "#ed7953"
             ],
             [
              0.7777777777777778,
              "#fb9f3a"
             ],
             [
              0.8888888888888888,
              "#fdca26"
             ],
             [
              1,
              "#f0f921"
             ]
            ],
            "type": "contour"
           }
          ],
          "contourcarpet": [
           {
            "colorbar": {
             "outlinewidth": 0,
             "ticks": ""
            },
            "type": "contourcarpet"
           }
          ],
          "heatmap": [
           {
            "colorbar": {
             "outlinewidth": 0,
             "ticks": ""
            },
            "colorscale": [
             [
              0,
              "#0d0887"
             ],
             [
              0.1111111111111111,
              "#46039f"
             ],
             [
              0.2222222222222222,
              "#7201a8"
             ],
             [
              0.3333333333333333,
              "#9c179e"
             ],
             [
              0.4444444444444444,
              "#bd3786"
             ],
             [
              0.5555555555555556,
              "#d8576b"
             ],
             [
              0.6666666666666666,
              "#ed7953"
             ],
             [
              0.7777777777777778,
              "#fb9f3a"
             ],
             [
              0.8888888888888888,
              "#fdca26"
             ],
             [
              1,
              "#f0f921"
             ]
            ],
            "type": "heatmap"
           }
          ],
          "heatmapgl": [
           {
            "colorbar": {
             "outlinewidth": 0,
             "ticks": ""
            },
            "colorscale": [
             [
              0,
              "#0d0887"
             ],
             [
              0.1111111111111111,
              "#46039f"
             ],
             [
              0.2222222222222222,
              "#7201a8"
             ],
             [
              0.3333333333333333,
              "#9c179e"
             ],
             [
              0.4444444444444444,
              "#bd3786"
             ],
             [
              0.5555555555555556,
              "#d8576b"
             ],
             [
              0.6666666666666666,
              "#ed7953"
             ],
             [
              0.7777777777777778,
              "#fb9f3a"
             ],
             [
              0.8888888888888888,
              "#fdca26"
             ],
             [
              1,
              "#f0f921"
             ]
            ],
            "type": "heatmapgl"
           }
          ],
          "histogram": [
           {
            "marker": {
             "pattern": {
              "fillmode": "overlay",
              "size": 10,
              "solidity": 0.2
             }
            },
            "type": "histogram"
           }
          ],
          "histogram2d": [
           {
            "colorbar": {
             "outlinewidth": 0,
             "ticks": ""
            },
            "colorscale": [
             [
              0,
              "#0d0887"
             ],
             [
              0.1111111111111111,
              "#46039f"
             ],
             [
              0.2222222222222222,
              "#7201a8"
             ],
             [
              0.3333333333333333,
              "#9c179e"
             ],
             [
              0.4444444444444444,
              "#bd3786"
             ],
             [
              0.5555555555555556,
              "#d8576b"
             ],
             [
              0.6666666666666666,
              "#ed7953"
             ],
             [
              0.7777777777777778,
              "#fb9f3a"
             ],
             [
              0.8888888888888888,
              "#fdca26"
             ],
             [
              1,
              "#f0f921"
             ]
            ],
            "type": "histogram2d"
           }
          ],
          "histogram2dcontour": [
           {
            "colorbar": {
             "outlinewidth": 0,
             "ticks": ""
            },
            "colorscale": [
             [
              0,
              "#0d0887"
             ],
             [
              0.1111111111111111,
              "#46039f"
             ],
             [
              0.2222222222222222,
              "#7201a8"
             ],
             [
              0.3333333333333333,
              "#9c179e"
             ],
             [
              0.4444444444444444,
              "#bd3786"
             ],
             [
              0.5555555555555556,
              "#d8576b"
             ],
             [
              0.6666666666666666,
              "#ed7953"
             ],
             [
              0.7777777777777778,
              "#fb9f3a"
             ],
             [
              0.8888888888888888,
              "#fdca26"
             ],
             [
              1,
              "#f0f921"
             ]
            ],
            "type": "histogram2dcontour"
           }
          ],
          "mesh3d": [
           {
            "colorbar": {
             "outlinewidth": 0,
             "ticks": ""
            },
            "type": "mesh3d"
           }
          ],
          "parcoords": [
           {
            "line": {
             "colorbar": {
              "outlinewidth": 0,
              "ticks": ""
             }
            },
            "type": "parcoords"
           }
          ],
          "pie": [
           {
            "automargin": true,
            "type": "pie"
           }
          ],
          "scatter": [
           {
            "fillpattern": {
             "fillmode": "overlay",
             "size": 10,
             "solidity": 0.2
            },
            "type": "scatter"
           }
          ],
          "scatter3d": [
           {
            "line": {
             "colorbar": {
              "outlinewidth": 0,
              "ticks": ""
             }
            },
            "marker": {
             "colorbar": {
              "outlinewidth": 0,
              "ticks": ""
             }
            },
            "type": "scatter3d"
           }
          ],
          "scattercarpet": [
           {
            "marker": {
             "colorbar": {
              "outlinewidth": 0,
              "ticks": ""
             }
            },
            "type": "scattercarpet"
           }
          ],
          "scattergeo": [
           {
            "marker": {
             "colorbar": {
              "outlinewidth": 0,
              "ticks": ""
             }
            },
            "type": "scattergeo"
           }
          ],
          "scattergl": [
           {
            "marker": {
             "colorbar": {
              "outlinewidth": 0,
              "ticks": ""
             }
            },
            "type": "scattergl"
           }
          ],
          "scattermapbox": [
           {
            "marker": {
             "colorbar": {
              "outlinewidth": 0,
              "ticks": ""
             }
            },
            "type": "scattermapbox"
           }
          ],
          "scatterpolar": [
           {
            "marker": {
             "colorbar": {
              "outlinewidth": 0,
              "ticks": ""
             }
            },
            "type": "scatterpolar"
           }
          ],
          "scatterpolargl": [
           {
            "marker": {
             "colorbar": {
              "outlinewidth": 0,
              "ticks": ""
             }
            },
            "type": "scatterpolargl"
           }
          ],
          "scatterternary": [
           {
            "marker": {
             "colorbar": {
              "outlinewidth": 0,
              "ticks": ""
             }
            },
            "type": "scatterternary"
           }
          ],
          "surface": [
           {
            "colorbar": {
             "outlinewidth": 0,
             "ticks": ""
            },
            "colorscale": [
             [
              0,
              "#0d0887"
             ],
             [
              0.1111111111111111,
              "#46039f"
             ],
             [
              0.2222222222222222,
              "#7201a8"
             ],
             [
              0.3333333333333333,
              "#9c179e"
             ],
             [
              0.4444444444444444,
              "#bd3786"
             ],
             [
              0.5555555555555556,
              "#d8576b"
             ],
             [
              0.6666666666666666,
              "#ed7953"
             ],
             [
              0.7777777777777778,
              "#fb9f3a"
             ],
             [
              0.8888888888888888,
              "#fdca26"
             ],
             [
              1,
              "#f0f921"
             ]
            ],
            "type": "surface"
           }
          ],
          "table": [
           {
            "cells": {
             "fill": {
              "color": "#EBF0F8"
             },
             "line": {
              "color": "white"
             }
            },
            "header": {
             "fill": {
              "color": "#C8D4E3"
             },
             "line": {
              "color": "white"
             }
            },
            "type": "table"
           }
          ]
         },
         "layout": {
          "annotationdefaults": {
           "arrowcolor": "#2a3f5f",
           "arrowhead": 0,
           "arrowwidth": 1
          },
          "autotypenumbers": "strict",
          "coloraxis": {
           "colorbar": {
            "outlinewidth": 0,
            "ticks": ""
           }
          },
          "colorscale": {
           "diverging": [
            [
             0,
             "#8e0152"
            ],
            [
             0.1,
             "#c51b7d"
            ],
            [
             0.2,
             "#de77ae"
            ],
            [
             0.3,
             "#f1b6da"
            ],
            [
             0.4,
             "#fde0ef"
            ],
            [
             0.5,
             "#f7f7f7"
            ],
            [
             0.6,
             "#e6f5d0"
            ],
            [
             0.7,
             "#b8e186"
            ],
            [
             0.8,
             "#7fbc41"
            ],
            [
             0.9,
             "#4d9221"
            ],
            [
             1,
             "#276419"
            ]
           ],
           "sequential": [
            [
             0,
             "#0d0887"
            ],
            [
             0.1111111111111111,
             "#46039f"
            ],
            [
             0.2222222222222222,
             "#7201a8"
            ],
            [
             0.3333333333333333,
             "#9c179e"
            ],
            [
             0.4444444444444444,
             "#bd3786"
            ],
            [
             0.5555555555555556,
             "#d8576b"
            ],
            [
             0.6666666666666666,
             "#ed7953"
            ],
            [
             0.7777777777777778,
             "#fb9f3a"
            ],
            [
             0.8888888888888888,
             "#fdca26"
            ],
            [
             1,
             "#f0f921"
            ]
           ],
           "sequentialminus": [
            [
             0,
             "#0d0887"
            ],
            [
             0.1111111111111111,
             "#46039f"
            ],
            [
             0.2222222222222222,
             "#7201a8"
            ],
            [
             0.3333333333333333,
             "#9c179e"
            ],
            [
             0.4444444444444444,
             "#bd3786"
            ],
            [
             0.5555555555555556,
             "#d8576b"
            ],
            [
             0.6666666666666666,
             "#ed7953"
            ],
            [
             0.7777777777777778,
             "#fb9f3a"
            ],
            [
             0.8888888888888888,
             "#fdca26"
            ],
            [
             1,
             "#f0f921"
            ]
           ]
          },
          "colorway": [
           "#636efa",
           "#EF553B",
           "#00cc96",
           "#ab63fa",
           "#FFA15A",
           "#19d3f3",
           "#FF6692",
           "#B6E880",
           "#FF97FF",
           "#FECB52"
          ],
          "font": {
           "color": "#2a3f5f"
          },
          "geo": {
           "bgcolor": "white",
           "lakecolor": "white",
           "landcolor": "white",
           "showlakes": true,
           "showland": true,
           "subunitcolor": "#C8D4E3"
          },
          "hoverlabel": {
           "align": "left"
          },
          "hovermode": "closest",
          "mapbox": {
           "style": "light"
          },
          "paper_bgcolor": "white",
          "plot_bgcolor": "white",
          "polar": {
           "angularaxis": {
            "gridcolor": "#EBF0F8",
            "linecolor": "#EBF0F8",
            "ticks": ""
           },
           "bgcolor": "white",
           "radialaxis": {
            "gridcolor": "#EBF0F8",
            "linecolor": "#EBF0F8",
            "ticks": ""
           }
          },
          "scene": {
           "xaxis": {
            "backgroundcolor": "white",
            "gridcolor": "#DFE8F3",
            "gridwidth": 2,
            "linecolor": "#EBF0F8",
            "showbackground": true,
            "ticks": "",
            "zerolinecolor": "#EBF0F8"
           },
           "yaxis": {
            "backgroundcolor": "white",
            "gridcolor": "#DFE8F3",
            "gridwidth": 2,
            "linecolor": "#EBF0F8",
            "showbackground": true,
            "ticks": "",
            "zerolinecolor": "#EBF0F8"
           },
           "zaxis": {
            "backgroundcolor": "white",
            "gridcolor": "#DFE8F3",
            "gridwidth": 2,
            "linecolor": "#EBF0F8",
            "showbackground": true,
            "ticks": "",
            "zerolinecolor": "#EBF0F8"
           }
          },
          "shapedefaults": {
           "line": {
            "color": "#2a3f5f"
           }
          },
          "ternary": {
           "aaxis": {
            "gridcolor": "#DFE8F3",
            "linecolor": "#A2B1C6",
            "ticks": ""
           },
           "baxis": {
            "gridcolor": "#DFE8F3",
            "linecolor": "#A2B1C6",
            "ticks": ""
           },
           "bgcolor": "white",
           "caxis": {
            "gridcolor": "#DFE8F3",
            "linecolor": "#A2B1C6",
            "ticks": ""
           }
          },
          "title": {
           "x": 0.05
          },
          "xaxis": {
           "automargin": true,
           "gridcolor": "#EBF0F8",
           "linecolor": "#EBF0F8",
           "ticks": "",
           "title": {
            "standoff": 15
           },
           "zerolinecolor": "#EBF0F8",
           "zerolinewidth": 2
          },
          "yaxis": {
           "automargin": true,
           "gridcolor": "#EBF0F8",
           "linecolor": "#EBF0F8",
           "ticks": "",
           "title": {
            "standoff": 15
           },
           "zerolinecolor": "#EBF0F8",
           "zerolinewidth": 2
          }
         }
        },
        "title": {
         "text": "Interactive Age vs. Charges by Smoking Status"
        },
        "xaxis": {
         "anchor": "y",
         "domain": [
          0,
          1
         ],
         "title": {
          "text": "Age"
         }
        },
        "yaxis": {
         "anchor": "x",
         "domain": [
          0,
          1
         ],
         "title": {
          "text": "Charges"
         }
        }
       }
      }
     },
     "metadata": {},
     "output_type": "display_data"
    }
   ],
   "source": [
    "fig = px.scatter(\n",
    "    df,\n",
    "    x='age',\n",
    "    y='charges',\n",
    "    color='smoker',\n",
    "    color_discrete_map={'yes': 'red', 'no': 'blue'},\n",
    "    title='Interactive Age vs. Charges by Smoking Status',\n",
    "    labels={'age': 'Age', 'charges': 'Charges'},\n",
    "    hover_data=['bmi', 'children', 'region']\n",
    ")\n",
    "\n",
    "fig.update_layout(template='plotly_white')\n",
    "fig.show()\n"
   ]
  },
  {
   "cell_type": "markdown",
   "id": "e00da3cd",
   "metadata": {},
   "source": [
    "correlation of personal features with insurance charges using a diverging horizontal barplot with matplotlib"
   ]
  },
  {
   "cell_type": "code",
   "execution_count": 133,
   "id": "f5513f2e",
   "metadata": {},
   "outputs": [],
   "source": [
    "\n",
    "features_of_interest = ['age', 'sex_male', 'bmi', 'children', 'smoker_yes',\n",
    "                        'region_northwest', 'region_southeast', 'region_southwest']\n",
    "\n"
   ]
  },
  {
   "cell_type": "markdown",
   "id": "4a76ad2f",
   "metadata": {},
   "source": [
    "Ensure all selected features exist in the DataFrame"
   ]
  },
  {
   "cell_type": "code",
   "execution_count": 134,
   "id": "0e2b7fae",
   "metadata": {},
   "outputs": [],
   "source": [
    "missing_features = [feature for feature in features_of_interest if feature not in df_encoded.columns]\n",
    "if missing_features:\n",
    "    raise KeyError(f\"The following features are missing in the DataFrame: {missing_features}\")\n"
   ]
  },
  {
   "cell_type": "markdown",
   "id": "7d04e8fa",
   "metadata": {},
   "source": [
    "Convert 'bmi' to numeric if it's not already"
   ]
  },
  {
   "cell_type": "code",
   "execution_count": 135,
   "id": "50cdf5cb",
   "metadata": {},
   "outputs": [],
   "source": [
    "df_encoded['bmi'] = pd.to_numeric(df_encoded['bmi'], errors='coerce')"
   ]
  },
  {
   "cell_type": "markdown",
   "id": "274b4295",
   "metadata": {},
   "source": [
    "Compute correlation with insurance charges"
   ]
  },
  {
   "cell_type": "code",
   "execution_count": 136,
   "id": "5522629a",
   "metadata": {},
   "outputs": [],
   "source": [
    "correlations = df_encoded[features_of_interest + ['charges']].corr()['charges'].drop('charges')\n",
    "correlations = correlations.sort_values()"
   ]
  },
  {
   "cell_type": "markdown",
   "id": "8824e1c4",
   "metadata": {},
   "source": [
    "Prepare DataFrame for plotting"
   ]
  },
  {
   "cell_type": "code",
   "execution_count": 137,
   "id": "983a6817",
   "metadata": {},
   "outputs": [],
   "source": [
    "corr_df = correlations.reset_index()\n",
    "corr_df.columns = ['Feature', 'Correlation']\n",
    "corr_df['Color'] = corr_df['Correlation'].apply(lambda x: 'green' if x > 0 else 'red')\n"
   ]
  },
  {
   "cell_type": "markdown",
   "id": "e5f2d071",
   "metadata": {},
   "source": [
    " Plot horizontal diverging bar chart using Matplotlib and also to add aethestics"
   ]
  },
  {
   "cell_type": "code",
   "execution_count": 138,
   "id": "c7d797d6",
   "metadata": {},
   "outputs": [
    {
     "data": {
      "image/png": "[encoded data removed]",
      "text/plain": [
       "<Figure size 1000x600 with 1 Axes>"
      ]
     },
     "metadata": {},
     "output_type": "display_data"
    }
   ],
   "source": [
    "plt.figure(figsize=(10, 6))\n",
    "bars = plt.barh(corr_df['Feature'], corr_df['Correlation'], color=corr_df['Color'])\n",
    "\n",
    "plt.axvline(0, color='black', linestyle='--')\n",
    "plt.title('Correlation of Personal Features with Insurance Charges', fontsize=14)\n",
    "plt.xlabel('Correlation Coefficient')\n",
    "plt.ylabel('Feature')\n",
    "plt.grid(axis='x', linestyle='--', alpha=0.4)\n",
    "plt.tight_layout()\n",
    "plt.show()"
   ]
  },
  {
   "cell_type": "markdown",
   "id": "420ae9ad",
   "metadata": {},
   "source": [
    "### A map showing the distribution of insurance cost based on geographic regions\n",
    "Map regions to U.S. states"
   ]
  },
  {
   "cell_type": "code",
   "execution_count": 139,
   "id": "c0e3f8cc",
   "metadata": {},
   "outputs": [],
   "source": [
    "region_state_map = {\n",
    "    'southeast': 'FL',\n",
    "    'southwest': 'TX',\n",
    "    'northeast': 'NY',\n",
    "    'northwest': 'WA'\n",
    "}"
   ]
  },
  {
   "cell_type": "markdown",
   "id": "118e750c",
   "metadata": {},
   "source": [
    "Ensure the 'region' column is mapped correctly"
   ]
  },
  {
   "cell_type": "code",
   "execution_count": 140,
   "id": "760e8352",
   "metadata": {},
   "outputs": [],
   "source": [
    "df['state'] = df['region'].map(region_state_map)"
   ]
  },
  {
   "cell_type": "markdown",
   "id": "8f9f0485",
   "metadata": {},
   "source": [
    "Check for unmapped regions"
   ]
  },
  {
   "cell_type": "code",
   "execution_count": 141,
   "id": "43c882f1",
   "metadata": {},
   "outputs": [],
   "source": [
    "unmapped_regions = df['region'][df['state'].isnull()].unique()\n",
    "if len(unmapped_regions) > 0:\n",
    "    raise ValueError(f\"The following regions are not mapped to any U.S. state: {unmapped_regions}\")"
   ]
  },
  {
   "cell_type": "markdown",
   "id": "51641bc5",
   "metadata": {},
   "source": [
    "Compute average charges by state"
   ]
  },
  {
   "cell_type": "code",
   "execution_count": 142,
   "id": "72dd65e0",
   "metadata": {},
   "outputs": [],
   "source": [
    "state_avg = df.groupby('state')['charges'].mean().reset_index()\n"
   ]
  },
  {
   "cell_type": "markdown",
   "id": "20cc6ee0",
   "metadata": {},
   "source": [
    "Distribution of insurance charges among different regions"
   ]
  },
  {
   "cell_type": "code",
   "execution_count": 143,
   "id": "761cf033",
   "metadata": {},
   "outputs": [
    {
     "data": {
      "application/vnd.plotly.v1+json": {
       "config": {
        "plotlyServerURL": "https://plot.ly"
       },
       "data": [
        {
         "coloraxis": "coloraxis",
         "customdata": [
          [
           "FL",
           14735.41143760989
          ],
          [
           "NY",
           13406.384516385804
          ],
          [
           "TX",
           12346.937377292308
          ],
          [
           "WA",
           12450.840843950617
          ]
         ],
         "geo": "geo",
         "hovertemplate": "state=%{customdata[0]}<br>Avg Charges=%{z:.2f}<extra></extra>",
         "locationmode": "USA-states",
         "locations": [
          "FL",
          "NY",
          "TX",
          "WA"
         ],
         "name": "",
         "type": "choropleth",
         "z": [
          14735.41143760989,
          13406.384516385804,
          12346.937377292308,
          12450.840843950617
         ]
        }
       ],
       "layout": {
        "coloraxis": {
         "colorbar": {
          "len": 0.75,
          "lenmode": "fraction",
          "tickprefix": "$",
          "title": {
           "text": "Avg Charges"
          }
         },
         "colorscale": [
          [
           0,
           "rgb(247,251,255)"
          ],
          [
           0.125,
           "rgb(222,235,247)"
          ],
          [
           0.25,
           "rgb(198,219,239)"
          ],
          [
           0.375,
           "rgb(158,202,225)"
          ],
          [
           0.5,
           "rgb(107,174,214)"
          ],
          [
           0.625,
           "rgb(66,146,198)"
          ],
          [
           0.75,
           "rgb(33,113,181)"
          ],
          [
           0.875,
           "rgb(8,81,156)"
          ],
          [
           1,
           "rgb(8,48,107)"
          ]
         ]
        },
        "geo": {
         "center": {},
         "domain": {
          "x": [
           0,
           1
          ],
          "y": [
           0,
           1
          ]
         },
         "landcolor": "lightgray",
         "scope": "usa",
         "showcoastlines": true,
         "showland": true
        },
        "legend": {
         "title": {
          "text": "State"
         },
         "tracegroupgap": 0
        },
        "template": {
         "data": {
          "bar": [
           {
            "error_x": {
             "color": "#2a3f5f"
            },
            "error_y": {
             "color": "#2a3f5f"
            },
            "marker": {
             "line": {
              "color": "white",
              "width": 0.5
             },
             "pattern": {
              "fillmode": "overlay",
              "size": 10,
              "solidity": 0.2
             }
            },
            "type": "bar"
           }
          ],
          "barpolar": [
           {
            "marker": {
             "line": {
              "color": "white",
              "width": 0.5
             },
             "pattern": {
              "fillmode": "overlay",
              "size": 10,
              "solidity": 0.2
             }
            },
            "type": "barpolar"
           }
          ],
          "carpet": [
           {
            "aaxis": {
             "endlinecolor": "#2a3f5f",
             "gridcolor": "#C8D4E3",
             "linecolor": "#C8D4E3",
             "minorgridcolor": "#C8D4E3",
             "startlinecolor": "#2a3f5f"
            },
            "baxis": {
             "endlinecolor": "#2a3f5f",
             "gridcolor": "#C8D4E3",
             "linecolor": "#C8D4E3",
             "minorgridcolor": "#C8D4E3",
             "startlinecolor": "#2a3f5f"
            },
            "type": "carpet"
           }
          ],
          "choropleth": [
           {
            "colorbar": {
             "outlinewidth": 0,
             "ticks": ""
            },
            "type": "choropleth"
           }
          ],
          "contour": [
           {
            "colorbar": {
             "outlinewidth": 0,
             "ticks": ""
            },
            "colorscale": [
             [
              0,
              "#0d0887"
             ],
             [
              0.1111111111111111,
              "#46039f"
             ],
             [
              0.2222222222222222,
              "#7201a8"
             ],
             [
              0.3333333333333333,
              "#9c179e"
             ],
             [
              0.4444444444444444,
              "#bd3786"
             ],
             [
              0.5555555555555556,
              "#d8576b"
             ],
             [
              0.6666666666666666,
              "#ed7953"
             ],
             [
              0.7777777777777778,
              "#fb9f3a"
             ],
             [
              0.8888888888888888,
              "#fdca26"
             ],
             [
              1,
              "#f0f921"
             ]
            ],
            "type": "contour"
           }
          ],
          "contourcarpet": [
           {
            "colorbar": {
             "outlinewidth": 0,
             "ticks": ""
            },
            "type": "contourcarpet"
           }
          ],
          "heatmap": [
           {
            "colorbar": {
             "outlinewidth": 0,
             "ticks": ""
            },
            "colorscale": [
             [
              0,
              "#0d0887"
             ],
             [
              0.1111111111111111,
              "#46039f"
             ],
             [
              0.2222222222222222,
              "#7201a8"
             ],
             [
              0.3333333333333333,
              "#9c179e"
             ],
             [
              0.4444444444444444,
              "#bd3786"
             ],
             [
              0.5555555555555556,
              "#d8576b"
             ],
             [
              0.6666666666666666,
              "#ed7953"
             ],
             [
              0.7777777777777778,
              "#fb9f3a"
             ],
             [
              0.8888888888888888,
              "#fdca26"
             ],
             [
              1,
              "#f0f921"
             ]
            ],
            "type": "heatmap"
           }
          ],
          "heatmapgl": [
           {
            "colorbar": {
             "outlinewidth": 0,
             "ticks": ""
            },
            "colorscale": [
             [
              0,
              "#0d0887"
             ],
             [
              0.1111111111111111,
              "#46039f"
             ],
             [
              0.2222222222222222,
              "#7201a8"
             ],
             [
              0.3333333333333333,
              "#9c179e"
             ],
             [
              0.4444444444444444,
              "#bd3786"
             ],
             [
              0.5555555555555556,
              "#d8576b"
             ],
             [
              0.6666666666666666,
              "#ed7953"
             ],
             [
              0.7777777777777778,
              "#fb9f3a"
             ],
             [
              0.8888888888888888,
              "#fdca26"
             ],
             [
              1,
              "#f0f921"
             ]
            ],
            "type": "heatmapgl"
           }
          ],
          "histogram": [
           {
            "marker": {
             "pattern": {
              "fillmode": "overlay",
              "size": 10,
              "solidity": 0.2
             }
            },
            "type": "histogram"
           }
          ],
          "histogram2d": [
           {
            "colorbar": {
             "outlinewidth": 0,
             "ticks": ""
            },
            "colorscale": [
             [
              0,
              "#0d0887"
             ],
             [
              0.1111111111111111,
              "#46039f"
             ],
             [
              0.2222222222222222,
              "#7201a8"
             ],
             [
              0.3333333333333333,
              "#9c179e"
             ],
             [
              0.4444444444444444,
              "#bd3786"
             ],
             [
              0.5555555555555556,
              "#d8576b"
             ],
             [
              0.6666666666666666,
              "#ed7953"
             ],
             [
              0.7777777777777778,
              "#fb9f3a"
             ],
             [
              0.8888888888888888,
              "#fdca26"
             ],
             [
              1,
              "#f0f921"
             ]
            ],
            "type": "histogram2d"
           }
          ],
          "histogram2dcontour": [
           {
            "colorbar": {
             "outlinewidth": 0,
             "ticks": ""
            },
            "colorscale": [
             [
              0,
              "#0d0887"
             ],
             [
              0.1111111111111111,
              "#46039f"
             ],
             [
              0.2222222222222222,
              "#7201a8"
             ],
             [
              0.3333333333333333,
              "#9c179e"
             ],
             [
              0.4444444444444444,
              "#bd3786"
             ],
             [
              0.5555555555555556,
              "#d8576b"
             ],
             [
              0.6666666666666666,
              "#ed7953"
             ],
             [
              0.7777777777777778,
              "#fb9f3a"
             ],
             [
              0.8888888888888888,
              "#fdca26"
             ],
             [
              1,
              "#f0f921"
             ]
            ],
            "type": "histogram2dcontour"
           }
          ],
          "mesh3d": [
           {
            "colorbar": {
             "outlinewidth": 0,
             "ticks": ""
            },
            "type": "mesh3d"
           }
          ],
          "parcoords": [
           {
            "line": {
             "colorbar": {
              "outlinewidth": 0,
              "ticks": ""
             }
            },
            "type": "parcoords"
           }
          ],
          "pie": [
           {
            "automargin": true,
            "type": "pie"
           }
          ],
          "scatter": [
           {
            "fillpattern": {
             "fillmode": "overlay",
             "size": 10,
             "solidity": 0.2
            },
            "type": "scatter"
           }
          ],
          "scatter3d": [
           {
            "line": {
             "colorbar": {
              "outlinewidth": 0,
              "ticks": ""
             }
            },
            "marker": {
             "colorbar": {
              "outlinewidth": 0,
              "ticks": ""
             }
            },
            "type": "scatter3d"
           }
          ],
          "scattercarpet": [
           {
            "marker": {
             "colorbar": {
              "outlinewidth": 0,
              "ticks": ""
             }
            },
            "type": "scattercarpet"
           }
          ],
          "scattergeo": [
           {
            "marker": {
             "colorbar": {
              "outlinewidth": 0,
              "ticks": ""
             }
            },
            "type": "scattergeo"
           }
          ],
          "scattergl": [
           {
            "marker": {
             "colorbar": {
              "outlinewidth": 0,
              "ticks": ""
             }
            },
            "type": "scattergl"
           }
          ],
          "scattermapbox": [
           {
            "marker": {
             "colorbar": {
              "outlinewidth": 0,
              "ticks": ""
             }
            },
            "type": "scattermapbox"
           }
          ],
          "scatterpolar": [
           {
            "marker": {
             "colorbar": {
              "outlinewidth": 0,
              "ticks": ""
             }
            },
            "type": "scatterpolar"
           }
          ],
          "scatterpolargl": [
           {
            "marker": {
             "colorbar": {
              "outlinewidth": 0,
              "ticks": ""
             }
            },
            "type": "scatterpolargl"
           }
          ],
          "scatterternary": [
           {
            "marker": {
             "colorbar": {
              "outlinewidth": 0,
              "ticks": ""
             }
            },
            "type": "scatterternary"
           }
          ],
          "surface": [
           {
            "colorbar": {
             "outlinewidth": 0,
             "ticks": ""
            },
            "colorscale": [
             [
              0,
              "#0d0887"
             ],
             [
              0.1111111111111111,
              "#46039f"
             ],
             [
              0.2222222222222222,
              "#7201a8"
             ],
             [
              0.3333333333333333,
              "#9c179e"
             ],
             [
              0.4444444444444444,
              "#bd3786"
             ],
             [
              0.5555555555555556,
              "#d8576b"
             ],
             [
              0.6666666666666666,
              "#ed7953"
             ],
             [
              0.7777777777777778,
              "#fb9f3a"
             ],
             [
              0.8888888888888888,
              "#fdca26"
             ],
             [
              1,
              "#f0f921"
             ]
            ],
            "type": "surface"
           }
          ],
          "table": [
           {
            "cells": {
             "fill": {
              "color": "#EBF0F8"
             },
             "line": {
              "color": "white"
             }
            },
            "header": {
             "fill": {
              "color": "#C8D4E3"
             },
             "line": {
              "color": "white"
             }
            },
            "type": "table"
           }
          ]
         },
         "layout": {
          "annotationdefaults": {
           "arrowcolor": "#2a3f5f",
           "arrowhead": 0,
           "arrowwidth": 1
          },
          "autotypenumbers": "strict",
          "coloraxis": {
           "colorbar": {
            "outlinewidth": 0,
            "ticks": ""
           }
          },
          "colorscale": {
           "diverging": [
            [
             0,
             "#8e0152"
            ],
            [
             0.1,
             "#c51b7d"
            ],
            [
             0.2,
             "#de77ae"
            ],
            [
             0.3,
             "#f1b6da"
            ],
            [
             0.4,
             "#fde0ef"
            ],
            [
             0.5,
             "#f7f7f7"
            ],
            [
             0.6,
             "#e6f5d0"
            ],
            [
             0.7,
             "#b8e186"
            ],
            [
             0.8,
             "#7fbc41"
            ],
            [
             0.9,
             "#4d9221"
            ],
            [
             1,
             "#276419"
            ]
           ],
           "sequential": [
            [
             0,
             "#0d0887"
            ],
            [
             0.1111111111111111,
             "#46039f"
            ],
            [
             0.2222222222222222,
             "#7201a8"
            ],
            [
             0.3333333333333333,
             "#9c179e"
            ],
            [
             0.4444444444444444,
             "#bd3786"
            ],
            [
             0.5555555555555556,
             "#d8576b"
            ],
            [
             0.6666666666666666,
             "#ed7953"
            ],
            [
             0.7777777777777778,
             "#fb9f3a"
            ],
            [
             0.8888888888888888,
             "#fdca26"
            ],
            [
             1,
             "#f0f921"
            ]
           ],
           "sequentialminus": [
            [
             0,
             "#0d0887"
            ],
            [
             0.1111111111111111,
             "#46039f"
            ],
            [
             0.2222222222222222,
             "#7201a8"
            ],
            [
             0.3333333333333333,
             "#9c179e"
            ],
            [
             0.4444444444444444,
             "#bd3786"
            ],
            [
             0.5555555555555556,
             "#d8576b"
            ],
            [
             0.6666666666666666,
             "#ed7953"
            ],
            [
             0.7777777777777778,
             "#fb9f3a"
            ],
            [
             0.8888888888888888,
             "#fdca26"
            ],
            [
             1,
             "#f0f921"
            ]
           ]
          },
          "colorway": [
           "#636efa",
           "#EF553B",
           "#00cc96",
           "#ab63fa",
           "#FFA15A",
           "#19d3f3",
           "#FF6692",
           "#B6E880",
           "#FF97FF",
           "#FECB52"
          ],
          "font": {
           "color": "#2a3f5f"
          },
          "geo": {
           "bgcolor": "white",
           "lakecolor": "white",
           "landcolor": "white",
           "showlakes": true,
           "showland": true,
           "subunitcolor": "#C8D4E3"
          },
          "hoverlabel": {
           "align": "left"
          },
          "hovermode": "closest",
          "mapbox": {
           "style": "light"
          },
          "paper_bgcolor": "white",
          "plot_bgcolor": "white",
          "polar": {
           "angularaxis": {
            "gridcolor": "#EBF0F8",
            "linecolor": "#EBF0F8",
            "ticks": ""
           },
           "bgcolor": "white",
           "radialaxis": {
            "gridcolor": "#EBF0F8",
            "linecolor": "#EBF0F8",
            "ticks": ""
           }
          },
          "scene": {
           "xaxis": {
            "backgroundcolor": "white",
            "gridcolor": "#DFE8F3",
            "gridwidth": 2,
            "linecolor": "#EBF0F8",
            "showbackground": true,
            "ticks": "",
            "zerolinecolor": "#EBF0F8"
           },
           "yaxis": {
            "backgroundcolor": "white",
            "gridcolor": "#DFE8F3",
            "gridwidth": 2,
            "linecolor": "#EBF0F8",
            "showbackground": true,
            "ticks": "",
            "zerolinecolor": "#EBF0F8"
           },
           "zaxis": {
            "backgroundcolor": "white",
            "gridcolor": "#DFE8F3",
            "gridwidth": 2,
            "linecolor": "#EBF0F8",
            "showbackground": true,
            "ticks": "",
            "zerolinecolor": "#EBF0F8"
           }
          },
          "shapedefaults": {
           "line": {
            "color": "#2a3f5f"
           }
          },
          "ternary": {
           "aaxis": {
            "gridcolor": "#DFE8F3",
            "linecolor": "#A2B1C6",
            "ticks": ""
           },
           "baxis": {
            "gridcolor": "#DFE8F3",
            "linecolor": "#A2B1C6",
            "ticks": ""
           },
           "bgcolor": "white",
           "caxis": {
            "gridcolor": "#DFE8F3",
            "linecolor": "#A2B1C6",
            "ticks": ""
           }
          },
          "title": {
           "x": 0.05
          },
          "xaxis": {
           "automargin": true,
           "gridcolor": "#EBF0F8",
           "linecolor": "#EBF0F8",
           "ticks": "",
           "title": {
            "standoff": 15
           },
           "zerolinecolor": "#EBF0F8",
           "zerolinewidth": 2
          },
          "yaxis": {
           "automargin": true,
           "gridcolor": "#EBF0F8",
           "linecolor": "#EBF0F8",
           "ticks": "",
           "title": {
            "standoff": 15
           },
           "zerolinecolor": "#EBF0F8",
           "zerolinewidth": 2
          }
         }
        },
        "title": {
         "text": " Average Insurance Charges by Region (Mapped to US States)"
        }
       }
      }
     },
     "metadata": {},
     "output_type": "display_data"
    }
   ],
   "source": [
    "fig = px.choropleth(\n",
    "    state_avg,\n",
    "    locations='state',\n",
    "    locationmode='USA-states',\n",
    "    color='charges',\n",
    "    color_continuous_scale='Blues',\n",
    "    scope='usa',\n",
    "    title=' Average Insurance Charges by Region (Mapped to US States)',\n",
    "    labels={'charges': 'Avg Charges'},\n",
    "    hover_data={'state': True, 'charges': ':.2f'}\n",
    ")\n",
    "\n",
    "fig.update_layout(\n",
    "    geo=dict(\n",
    "        showcoastlines=True,\n",
    "        showland=True,\n",
    "        landcolor='lightgray'\n",
    "    ),\n",
    "    template='plotly_white',\n",
    "    coloraxis_colorbar=dict(\n",
    "        title='Avg Charges',\n",
    "        tickprefix='$',\n",
    "        lenmode='fraction',\n",
    "        len=0.75\n",
    "    ),\n",
    "    legend_title_text='State'\n",
    ")\n",
    "\n",
    "fig.show()\n"
   ]
  },
  {
   "cell_type": "code",
   "execution_count": null,
   "id": "7f31c8eb",
   "metadata": {},
   "outputs": [],
   "source": []
  }
 ],
 "metadata": {
  "kernelspec": {
   "display_name": ".venv",
   "language": "python",
   "name": "python3"
  },
  "language_info": {
   "codemirror_mode": {
    "name": "ipython",
    "version": 3
   },
   "file_extension": ".py",
   "mimetype": "text/x-python",
   "name": "python",
   "nbconvert_exporter": "python",
   "pygments_lexer": "ipython3",
   "version": "3.12.8"
  }
 },
 "nbformat": 4,
 "nbformat_minor": 5
}
